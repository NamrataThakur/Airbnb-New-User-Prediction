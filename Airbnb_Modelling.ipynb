{
 "cells": [
  {
   "cell_type": "markdown",
   "metadata": {},
   "source": [
    "## Modelling the dataset :"
   ]
  },
  {
   "cell_type": "markdown",
   "metadata": {},
   "source": [
    "###### Importing the libraries:"
   ]
  },
  {
   "cell_type": "code",
   "execution_count": 1,
   "metadata": {},
   "outputs": [],
   "source": [
    "import pandas as pd\n",
    "import numpy as np\n",
    "import zipfile\n",
    "import os\n",
    "import seaborn as sns\n",
    "import matplotlib.pyplot as plt\n",
    "import warnings\n",
    "warnings.filterwarnings(\"ignore\")\n",
    "import re\n",
    "from wordcloud import WordCloud\n",
    "from tqdm import tqdm\n",
    "#from sklearn.cross_validation import train_test_split\n",
    "from datetime import datetime, date\n",
    "from sklearn.feature_extraction.text import TfidfVectorizer\n",
    "from scipy.sparse import coo_matrix\n",
    "from scipy.sparse import hstack\n",
    "from scipy.sparse import vstack\n",
    "from scipy import sparse\n",
    "from scipy.sparse import csr_matrix\n",
    "from sklearn.preprocessing import OneHotEncoder\n",
    "from sklearn import metrics\n",
    "from sklearn.metrics import make_scorer\n",
    "from sklearn.model_selection import GridSearchCV \n",
    "from sklearn.model_selection import RandomizedSearchCV\n",
    "from sklearn.preprocessing import LabelBinarizer,LabelEncoder\n",
    "from scipy.stats import randint as sp_randint\n",
    "from sklearn import linear_model\n",
    "from sklearn.ensemble import RandomForestClassifier\n",
    "import xgboost as xgb\n",
    "import pickle\n",
    "import joblib\n",
    "from IPython.display import Image"
   ]
  },
  {
   "cell_type": "markdown",
   "metadata": {},
   "source": [
    "###### Loading the data:"
   ]
  },
  {
   "cell_type": "code",
   "execution_count": 2,
   "metadata": {},
   "outputs": [],
   "source": [
    "X_Train_vec = sparse.load_npz(r'C:\\Users\\NamrataT\\Desktop\\CS_1\\Dataset\\airbnb-recruiting-new-user-bookings\\final_dataset\\X_Train_vec.npz')\n",
    "X_Cv_vec = sparse.load_npz(r'C:\\Users\\NamrataT\\Desktop\\CS_1\\Dataset\\airbnb-recruiting-new-user-bookings\\final_dataset\\X_Cv_vec.npz')\n",
    "X_Test_vec = sparse.load_npz(r'C:\\Users\\NamrataT\\Desktop\\CS_1\\Dataset\\airbnb-recruiting-new-user-bookings\\final_dataset\\X_Test_vec.npz')\n",
    "\n",
    "with open(r'C:\\Users\\NamrataT\\Desktop\\CS_1\\Dataset\\airbnb-recruiting-new-user-bookings\\final_dataset\\final_column_list.txt', 'rb') as fp:   # Unpickling\n",
    "    final_column_list = pickle.load(fp)\n",
    "fp.close()"
   ]
  },
  {
   "cell_type": "code",
   "execution_count": 4,
   "metadata": {},
   "outputs": [],
   "source": [
    "train_session_target = pd.read_pickle(r'C:\\Users\\NamrataT\\Desktop\\CS_1\\Dataset\\airbnb-recruiting-new-user-bookings\\pickles\\train_session_Y.pickle')\n",
    "\n",
    "Y_Train = pd.read_pickle(r'C:\\Users\\NamrataT\\Desktop\\CS_1\\Dataset\\airbnb-recruiting-new-user-bookings\\pickles\\Y_Train.pickle')\n",
    "Y_Cv = pd.read_pickle(r'C:\\Users\\NamrataT\\Desktop\\CS_1\\Dataset\\airbnb-recruiting-new-user-bookings\\pickles\\Y_Cv.pickle')"
   ]
  },
  {
   "cell_type": "code",
   "execution_count": 122,
   "metadata": {},
   "outputs": [
    {
     "name": "stdout",
     "output_type": "stream",
     "text": [
      "Final Preprocessed and Vectorized Dataset :\n",
      "Train Dataset :  (59052, 658)\n",
      "CV Dataset :  (14763, 658)\n",
      "Test Dataset :  (62096, 658)\n",
      "====================================================================================================\n",
      "Total Number of Columns :  658\n",
      "Total Target Train Variable Count :  (59052,)\n",
      "Total Target CV Variable Count :  (14763,)\n",
      "====================================================================================================\n"
     ]
    }
   ],
   "source": [
    "print(\"Final Preprocessed and Vectorized Dataset :\")\n",
    "print('Train Dataset : ',X_Train_vec.shape)\n",
    "print('CV Dataset : ',X_Cv_vec.shape)\n",
    "print('Test Dataset : ',X_Test_vec.shape)\n",
    "print(\"=\"*100)\n",
    "print('Total Number of Columns : ',len(final_column_list))\n",
    "print('Total Target Train Variable Count : ',Y_Train.shape)\n",
    "print('Total Target CV Variable Count : ',Y_Cv.shape)\n",
    "print(\"=\"*100)"
   ]
  },
  {
   "cell_type": "markdown",
   "metadata": {},
   "source": [
    "###### Encoding the target variables:"
   ]
  },
  {
   "cell_type": "code",
   "execution_count": 6,
   "metadata": {},
   "outputs": [
    {
     "data": {
      "text/plain": [
       "array([10,  7,  7, ...,  7,  7,  3])"
      ]
     },
     "execution_count": 6,
     "metadata": {},
     "output_type": "execute_result"
    }
   ],
   "source": [
    "le = LabelEncoder()\n",
    "\n",
    "Y_Train = le.fit_transform(Y_Train)\n",
    "Y_Train"
   ]
  },
  {
   "cell_type": "code",
   "execution_count": 7,
   "metadata": {},
   "outputs": [
    {
     "data": {
      "text/plain": [
       "array([4, 1, 7, ..., 7, 7, 7])"
      ]
     },
     "execution_count": 7,
     "metadata": {},
     "output_type": "execute_result"
    }
   ],
   "source": [
    "Y_Cv = le.transform(Y_Cv)\n",
    "Y_Cv"
   ]
  },
  {
   "cell_type": "markdown",
   "metadata": {},
   "source": [
    "###### Defining the NDCG Scorer:"
   ]
  },
  {
   "cell_type": "code",
   "execution_count": 8,
   "metadata": {},
   "outputs": [],
   "source": [
    "# https://www.kaggle.com/davidgasquez/ndcg-scorer\n",
    "\n",
    "def dcg_score(y_true, y_score, k=5):\n",
    "    \n",
    "    \"\"\"Discounted cumulative gain (DCG) at rank K.\n",
    "\n",
    "    Parameters\n",
    "    ----------\n",
    "    y_true : array, shape = [n_samples]\n",
    "        Ground truth (true relevance labels).\n",
    "    y_score : array, shape = [n_samples, n_classes]\n",
    "        Predicted scores.\n",
    "    k : int\n",
    "        Rank.\n",
    "\n",
    "    Returns\n",
    "    -------\n",
    "    score : float\n",
    "    \"\"\"\n",
    "    \n",
    "    order = np.argsort(y_score)[::-1]\n",
    "    y_true = np.take(y_true, order[:k])\n",
    "\n",
    "    gain = 2 ** y_true - 1\n",
    "\n",
    "    discounts = np.log2(np.arange(len(y_true)) + 2)\n",
    "    return np.sum(gain / discounts)\n",
    "\n",
    "\n",
    "def ndcg_score(ground_truth, predictions, k=5):\n",
    "    \n",
    "    \"\"\"Normalized discounted cumulative gain (NDCG) at rank K.\n",
    "\n",
    "    Normalized Discounted Cumulative Gain (NDCG) measures the performance of a\n",
    "    recommendation system based on the graded relevance of the recommended\n",
    "    entities. It varies from 0.0 to 1.0, with 1.0 representing the ideal\n",
    "    ranking of the entities.\n",
    "\n",
    "    Parameters\n",
    "    ----------\n",
    "    ground_truth : array, shape = [n_samples]\n",
    "        Ground truth (true labels represended as integers).\n",
    "    predictions : array, shape = [n_samples, n_classes]\n",
    "        Predicted probabilities.\n",
    "    k : int\n",
    "        Rank.\n",
    "\n",
    "    Returns\n",
    "    -------\n",
    "    score : float\n",
    "\n",
    "    Example\n",
    "    -------\n",
    "    >>> ground_truth = [1, 0, 2]\n",
    "    >>> predictions = [[0.15, 0.55, 0.2], [0.7, 0.2, 0.1], [0.06, 0.04, 0.9]]\n",
    "    >>> score = ndcg_score(ground_truth, predictions, k=2)\n",
    "    1.0\n",
    "    >>> predictions = [[0.9, 0.5, 0.8], [0.7, 0.2, 0.1], [0.06, 0.04, 0.9]]\n",
    "    >>> score = ndcg_score(ground_truth, predictions, k=2)\n",
    "    0.6666666666\n",
    "    \"\"\"\n",
    "    \n",
    "    lb = LabelBinarizer()\n",
    "    lb.fit(range(predictions.shape[1] + 1))\n",
    "    T = lb.transform(ground_truth)\n",
    "\n",
    "    scores = []\n",
    "\n",
    "    # Iterate over each y_true and compute the DCG score\n",
    "    for y_true, y_score in zip(T, predictions):\n",
    "        actual = dcg_score(y_true, y_score, k)\n",
    "        best = dcg_score(y_true, y_true, k)\n",
    "        score = float(actual) / float(best)\n",
    "        scores.append(score)\n",
    "\n",
    "    return np.mean(scores)\n",
    "\n",
    "\n",
    "# NDCG Scorer function\n",
    "ndcg_scorer = make_scorer(ndcg_score, needs_proba=True, k=5)"
   ]
  },
  {
   "cell_type": "markdown",
   "metadata": {},
   "source": [
    "### MODELLING :"
   ]
  },
  {
   "cell_type": "markdown",
   "metadata": {},
   "source": [
    "Saving the test id values that will be necessary later :"
   ]
  },
  {
   "cell_type": "code",
   "execution_count": 83,
   "metadata": {},
   "outputs": [
    {
     "data": {
      "text/plain": [
       "array(['5uwns89zht', 'jtl0dijy2j', 'xx0ulgorjt', ..., 'fa6260ziny',\n",
       "       '87k0fy4ugm', '9uqfg8txu3'], dtype=object)"
      ]
     },
     "execution_count": 83,
     "metadata": {},
     "output_type": "execute_result"
    }
   ],
   "source": [
    "#https://www.kaggle.com/krutarthhd/airbnb-eda-and-xgboost\n",
    "\n",
    "test_df = pd.read_csv(r'C:\\Users\\NamrataT\\Desktop\\CS_1\\Dataset\\airbnb-recruiting-new-user-bookings\\test_users.csv\\test_users.csv')\n",
    "test_id = test_df['id'].values\n",
    "test_id"
   ]
  },
  {
   "cell_type": "markdown",
   "metadata": {},
   "source": [
    "#### 1. Logistic Regression :"
   ]
  },
  {
   "cell_type": "code",
   "execution_count": 9,
   "metadata": {},
   "outputs": [],
   "source": [
    "params =  {'C':[0.0001, 0.0001, 0.001, 0.01, 0.1]}\n",
    "\n",
    "lr = linear_model.LogisticRegression(multi_class=\"multinomial\")\n",
    "clf_lr = RandomizedSearchCV(lr, params, verbose=10, n_iter=3 ,n_jobs=-1,scoring=ndcg_scorer)"
   ]
  },
  {
   "cell_type": "code",
   "execution_count": 10,
   "metadata": {},
   "outputs": [
    {
     "name": "stdout",
     "output_type": "stream",
     "text": [
      "Fitting 3 folds for each of 3 candidates, totalling 9 fits\n"
     ]
    },
    {
     "name": "stderr",
     "output_type": "stream",
     "text": [
      "[Parallel(n_jobs=-1)]: Using backend LokyBackend with 4 concurrent workers.\n",
      "[Parallel(n_jobs=-1)]: Done   3 out of   9 | elapsed:  2.4min remaining:  4.8min\n",
      "[Parallel(n_jobs=-1)]: Done   4 out of   9 | elapsed:  2.4min remaining:  3.0min\n",
      "[Parallel(n_jobs=-1)]: Done   5 out of   9 | elapsed:  4.3min remaining:  3.4min\n",
      "[Parallel(n_jobs=-1)]: Done   6 out of   9 | elapsed:  4.3min remaining:  2.1min\n",
      "[Parallel(n_jobs=-1)]: Done   7 out of   9 | elapsed:  4.3min remaining:  1.2min\n",
      "[Parallel(n_jobs=-1)]: Done   9 out of   9 | elapsed:  5.7min remaining:    0.0s\n",
      "[Parallel(n_jobs=-1)]: Done   9 out of   9 | elapsed:  5.7min finished\n"
     ]
    },
    {
     "data": {
      "text/plain": [
       "RandomizedSearchCV(cv='warn', error_score='raise-deprecating',\n",
       "          estimator=LogisticRegression(C=1.0, class_weight=None, dual=False, fit_intercept=True,\n",
       "          intercept_scaling=1, max_iter=100, multi_class='multinomial',\n",
       "          n_jobs=None, penalty='l2', random_state=None, solver='lbfgs',\n",
       "          tol=0.0001, verbose=0, warm_start=False),\n",
       "          fit_params=None, iid='warn', n_iter=3, n_jobs=-1,\n",
       "          param_distributions={'C': [0.0001, 0.0001, 0.001, 0.01, 0.1]},\n",
       "          pre_dispatch='2*n_jobs', random_state=None, refit=True,\n",
       "          return_train_score='warn',\n",
       "          scoring=make_scorer(ndcg_score, needs_proba=True, k=5),\n",
       "          verbose=10)"
      ]
     },
     "execution_count": 10,
     "metadata": {},
     "output_type": "execute_result"
    }
   ],
   "source": [
    "clf_lr.fit(X_Train_vec,Y_Train)"
   ]
  },
  {
   "cell_type": "code",
   "execution_count": 12,
   "metadata": {},
   "outputs": [
    {
     "data": {
      "text/plain": [
       "{'C': 0.0001}"
      ]
     },
     "execution_count": 12,
     "metadata": {},
     "output_type": "execute_result"
    }
   ],
   "source": [
    "clf_lr.best_params_"
   ]
  },
  {
   "cell_type": "code",
   "execution_count": 11,
   "metadata": {},
   "outputs": [],
   "source": [
    "pred_Y_Train = clf_lr.predict_proba(X_Train_vec)"
   ]
  },
  {
   "cell_type": "code",
   "execution_count": 13,
   "metadata": {},
   "outputs": [
    {
     "data": {
      "text/plain": [
       "0.8164292224683936"
      ]
     },
     "execution_count": 13,
     "metadata": {},
     "output_type": "execute_result"
    }
   ],
   "source": [
    "#TRAIN NDCG SCORE\n",
    "\n",
    "train_ndcg_lr = ndcg_score(Y_Train, pred_Y_Train, k=5)\n",
    "train_ndcg_lr"
   ]
  },
  {
   "cell_type": "code",
   "execution_count": 25,
   "metadata": {},
   "outputs": [],
   "source": [
    "pred_Y_Cv = clf_lr.predict_proba(X_Cv_vec)"
   ]
  },
  {
   "cell_type": "code",
   "execution_count": 16,
   "metadata": {},
   "outputs": [
    {
     "data": {
      "text/plain": [
       "0.8162118817461453"
      ]
     },
     "execution_count": 16,
     "metadata": {},
     "output_type": "execute_result"
    }
   ],
   "source": [
    "#CV NDCG SCORE\n",
    "\n",
    "cv_ndcg_lr = ndcg_score(Y_Cv, pred_Y_Cv, k=5)\n",
    "cv_ndcg_lr"
   ]
  },
  {
   "cell_type": "code",
   "execution_count": 87,
   "metadata": {},
   "outputs": [],
   "source": [
    "pred_Y_Test = clf_lr.predict_proba(X_Test_vec)"
   ]
  },
  {
   "cell_type": "code",
   "execution_count": 88,
   "metadata": {},
   "outputs": [],
   "source": [
    "#https://www.kaggle.com/krutarthhd/airbnb-eda-and-xgboost\n",
    "\n",
    "ids = []\n",
    "countries = []\n",
    "\n",
    "#Taking the 5 classes with highest probabilities\n",
    "\n",
    "for i in range(len(test_id)-1):\n",
    "    idx = test_id[i]\n",
    "    ids += [idx] * 5\n",
    "    countries += le.inverse_transform(np.argsort(pred_Y_Test[i])[::-1][:5]).tolist()\n",
    "    \n",
    "#Creating the submission dataframe\n",
    "\n",
    "sub = pd.DataFrame({\"id\" : ids,\"country\" : countries})\n",
    "\n",
    "sub.to_csv(r'C:\\Users\\NamrataT\\Desktop\\CS_1\\Dataset\\airbnb-recruiting-new-user-bookings\\submission\\lr_submission.csv', index = False)"
   ]
  },
  {
   "cell_type": "code",
   "execution_count": 17,
   "metadata": {},
   "outputs": [
    {
     "data": {
      "text/plain": [
       "['C:\\\\Users\\\\NamrataT\\\\Desktop\\\\CS_1\\\\Dataset\\\\airbnb-recruiting-new-user-bookings\\\\models\\\\clf_lr']"
      ]
     },
     "execution_count": 17,
     "metadata": {},
     "output_type": "execute_result"
    }
   ],
   "source": [
    "# https://stackoverflow.com/questions/43691380/how-to-save-load-xgboost-model\n",
    "\n",
    "#Saving the LR Model:\n",
    "joblib.dump(clf_lr,r'C:\\Users\\NamrataT\\Desktop\\CS_1\\Dataset\\airbnb-recruiting-new-user-bookings\\models\\clf_lr') "
   ]
  },
  {
   "cell_type": "code",
   "execution_count": 85,
   "metadata": {},
   "outputs": [],
   "source": [
    "#Loading the LR Model :\n",
    "clf_lr = joblib.load(r'C:\\Users\\NamrataT\\Desktop\\CS_1\\Dataset\\airbnb-recruiting-new-user-bookings\\models\\clf_lr')"
   ]
  },
  {
   "cell_type": "markdown",
   "metadata": {},
   "source": [
    "#### 2. Random Forest :"
   ]
  },
  {
   "cell_type": "markdown",
   "metadata": {},
   "source": [
    "##### 1. Hyper-Parameter Tuning the Random Forest Model 1 :"
   ]
  },
  {
   "cell_type": "code",
   "execution_count": 19,
   "metadata": {},
   "outputs": [],
   "source": [
    "params = {\n",
    "'n_estimators' : [100, 200, 700, 800, 1000],\n",
    "'max_depth' : [15, 20, 25, 30, 35, 50],\n",
    "'min_samples_split' : [2, 3, 5, 8],\n",
    "'min_samples_leaf' : [1, 2, 5, 10] }\n",
    "\n",
    "rf = RandomForestClassifier()\n",
    "\n",
    "clf_rf = RandomizedSearchCV(rf, params, verbose=10,n_jobs=-1,scoring=ndcg_scorer)"
   ]
  },
  {
   "cell_type": "code",
   "execution_count": 20,
   "metadata": {},
   "outputs": [
    {
     "name": "stdout",
     "output_type": "stream",
     "text": [
      "Fitting 3 folds for each of 10 candidates, totalling 30 fits\n"
     ]
    },
    {
     "name": "stderr",
     "output_type": "stream",
     "text": [
      "[Parallel(n_jobs=-1)]: Using backend LokyBackend with 4 concurrent workers.\n",
      "[Parallel(n_jobs=-1)]: Done   5 tasks      | elapsed: 11.2min\n",
      "[Parallel(n_jobs=-1)]: Done  10 tasks      | elapsed: 46.7min\n",
      "[Parallel(n_jobs=-1)]: Done  17 tasks      | elapsed: 155.7min\n",
      "[Parallel(n_jobs=-1)]: Done  27 out of  30 | elapsed: 214.3min remaining: 23.8min\n",
      "[Parallel(n_jobs=-1)]: Done  30 out of  30 | elapsed: 228.3min finished\n"
     ]
    },
    {
     "data": {
      "text/plain": [
       "RandomizedSearchCV(cv='warn', error_score='raise-deprecating',\n",
       "          estimator=RandomForestClassifier(bootstrap=True, class_weight=None, criterion='gini',\n",
       "            max_depth=None, max_features='auto', max_leaf_nodes=None,\n",
       "            min_impurity_decrease=0.0, min_impurity_split=None,\n",
       "            min_samples_leaf=1, min_samples_split=2,\n",
       "            min_weight_fraction_leaf=0.0, n_estimators='warn', n_jobs=None,\n",
       "            oob_score=False, random_state=None, verbose=0,\n",
       "            warm_start=False),\n",
       "          fit_params=None, iid='warn', n_iter=10, n_jobs=-1,\n",
       "          param_distributions={'n_estimators': [100, 200, 700, 800, 1000], 'max_depth': [15, 20, 25, 30, 35, 50], 'min_samples_split': [2, 3, 5, 8], 'min_samples_leaf': [1, 2, 5, 10]},\n",
       "          pre_dispatch='2*n_jobs', random_state=None, refit=True,\n",
       "          return_train_score='warn',\n",
       "          scoring=make_scorer(ndcg_score, needs_proba=True, k=5),\n",
       "          verbose=10)"
      ]
     },
     "execution_count": 20,
     "metadata": {},
     "output_type": "execute_result"
    }
   ],
   "source": [
    "clf_rf.fit(X_Train_vec,Y_Train)"
   ]
  },
  {
   "cell_type": "code",
   "execution_count": 21,
   "metadata": {},
   "outputs": [
    {
     "data": {
      "text/plain": [
       "{'n_estimators': 800,\n",
       " 'min_samples_split': 5,\n",
       " 'min_samples_leaf': 1,\n",
       " 'max_depth': 25}"
      ]
     },
     "execution_count": 21,
     "metadata": {},
     "output_type": "execute_result"
    }
   ],
   "source": [
    "clf_rf.best_params_"
   ]
  },
  {
   "cell_type": "code",
   "execution_count": 22,
   "metadata": {},
   "outputs": [],
   "source": [
    "pred_Y_Train = clf_rf.predict_proba(X_Train_vec)"
   ]
  },
  {
   "cell_type": "code",
   "execution_count": 24,
   "metadata": {},
   "outputs": [
    {
     "data": {
      "text/plain": [
       "0.9359856629365361"
      ]
     },
     "execution_count": 24,
     "metadata": {},
     "output_type": "execute_result"
    }
   ],
   "source": [
    "#Train ndcg score\n",
    "\n",
    "train_ndcg_rf = ndcg_score(Y_Train, pred_Y_Train, k=5)\n",
    "train_ndcg_rf"
   ]
  },
  {
   "cell_type": "code",
   "execution_count": 26,
   "metadata": {},
   "outputs": [],
   "source": [
    "pred_Y_Cv = clf_rf.predict_proba(X_Cv_vec)"
   ]
  },
  {
   "cell_type": "code",
   "execution_count": 27,
   "metadata": {},
   "outputs": [
    {
     "data": {
      "text/plain": [
       "0.8465756014395978"
      ]
     },
     "execution_count": 27,
     "metadata": {},
     "output_type": "execute_result"
    }
   ],
   "source": [
    "#CV ndcg score\n",
    "\n",
    "cv_ndcg_rf = ndcg_score(Y_Cv, pred_Y_Cv, k=5)\n",
    "cv_ndcg_rf"
   ]
  },
  {
   "cell_type": "markdown",
   "metadata": {},
   "source": [
    "###### Getting the top 25 features :"
   ]
  },
  {
   "cell_type": "code",
   "execution_count": 81,
   "metadata": {},
   "outputs": [
    {
     "data": {
      "image/png": "[encoded data removed]",
      "text/plain": [
       "<Figure size 720x864 with 1 Axes>"
      ]
     },
     "metadata": {},
     "output_type": "display_data"
    }
   ],
   "source": [
    "#https://stackoverflow.com/questions/44101458/random-forest-feature-importance-chart-using-python\n",
    "\n",
    "#Feature Importance for Random Forest Model\n",
    "\n",
    "features = final_column_list\n",
    "importances = clf_rf.best_estimator_.feature_importances_\n",
    "indices = (np.argsort(importances))[-25:]\n",
    "plt.figure(figsize=(10,12))\n",
    "plt.title('Feature Importances for Random Forest Model')\n",
    "plt.barh(range(len(indices)), importances[indices], color='r', align='center')\n",
    "plt.yticks(range(len(indices)), [features[i] for i in indices])\n",
    "plt.xlabel('Relative Importance')\n",
    "plt.show()"
   ]
  },
  {
   "cell_type": "markdown",
   "metadata": {},
   "source": [
    "We see the sessions features like 'total_seconds_elapsed', 'mean_seconds_elapsed', 'session_count' are very important features. From the train dataset features 'age' is most important. We have proccessed this feature well in our EDA part."
   ]
  },
  {
   "cell_type": "code",
   "execution_count": 90,
   "metadata": {},
   "outputs": [
    {
     "name": "stdout",
     "output_type": "stream",
     "text": [
      "{'mean_fit_time': array([ 517.69215679,  255.67794959, 1986.84434342, 1223.64657966,\n",
      "       3383.19102017, 3009.25519983, 3598.19907228, 1032.34590475,\n",
      "        439.8657163 , 1492.09750406]), 'std_fit_time': array([  1.69700284,  19.50375507,   5.46851993,  83.92335066,\n",
      "       143.21310495,  29.45131101, 150.53647534,   6.39876851,\n",
      "         0.62818523,   6.02152905]), 'mean_score_time': array([17.69679817, 16.98665404, 48.45418278, 20.13123043, 64.03119524,\n",
      "       49.9464225 , 47.78500279, 20.72060823, 19.11369252, 33.71228385]), 'std_score_time': array([2.68499458, 4.49489062, 3.13584423, 1.80891055, 4.08456398,\n",
      "       3.12398099, 1.99303807, 1.33114268, 1.50700287, 0.57473963]), 'param_n_estimators': masked_array(data=[100, 100, 1000, 200, 800, 800, 700, 200, 200, 700],\n",
      "             mask=[False, False, False, False, False, False, False, False,\n",
      "                   False, False],\n",
      "       fill_value='?',\n",
      "            dtype=object), 'param_min_samples_split': masked_array(data=[5, 5, 2, 2, 5, 3, 5, 3, 8, 8],\n",
      "             mask=[False, False, False, False, False, False, False, False,\n",
      "                   False, False],\n",
      "       fill_value='?',\n",
      "            dtype=object), 'param_min_samples_leaf': masked_array(data=[1, 5, 10, 1, 1, 1, 1, 1, 10, 5],\n",
      "             mask=[False, False, False, False, False, False, False, False,\n",
      "                   False, False],\n",
      "       fill_value='?',\n",
      "            dtype=object), 'param_max_depth': masked_array(data=[30, 20, 50, 35, 25, 20, 35, 30, 25, 20],\n",
      "             mask=[False, False, False, False, False, False, False, False,\n",
      "                   False, False],\n",
      "       fill_value='?',\n",
      "            dtype=object), 'params': [{'n_estimators': 100, 'min_samples_split': 5, 'min_samples_leaf': 1, 'max_depth': 30}, {'n_estimators': 100, 'min_samples_split': 5, 'min_samples_leaf': 5, 'max_depth': 20}, {'n_estimators': 1000, 'min_samples_split': 2, 'min_samples_leaf': 10, 'max_depth': 50}, {'n_estimators': 200, 'min_samples_split': 2, 'min_samples_leaf': 1, 'max_depth': 35}, {'n_estimators': 800, 'min_samples_split': 5, 'min_samples_leaf': 1, 'max_depth': 25}, {'n_estimators': 800, 'min_samples_split': 3, 'min_samples_leaf': 1, 'max_depth': 20}, {'n_estimators': 700, 'min_samples_split': 5, 'min_samples_leaf': 1, 'max_depth': 35}, {'n_estimators': 200, 'min_samples_split': 3, 'min_samples_leaf': 1, 'max_depth': 30}, {'n_estimators': 200, 'min_samples_split': 8, 'min_samples_leaf': 10, 'max_depth': 25}, {'n_estimators': 700, 'min_samples_split': 8, 'min_samples_leaf': 5, 'max_depth': 20}], 'split0_test_score': array([0.8446557 , 0.84661732, 0.84693282, 0.84436673, 0.84705583,\n",
      "       0.84688315, 0.84699783, 0.84631312, 0.84614944, 0.8473867 ]), 'split1_test_score': array([0.8433191 , 0.84501301, 0.84566996, 0.84274368, 0.84587937,\n",
      "       0.84554548, 0.84477115, 0.84432247, 0.84521639, 0.84526547]), 'split2_test_score': array([0.84485024, 0.84576955, 0.84631778, 0.84370503, 0.84646638,\n",
      "       0.84643256, 0.84553349, 0.84468056, 0.84559047, 0.84590805]), 'mean_test_score': array([0.844275  , 0.84580003, 0.8463069 , 0.8436052 , 0.84646724,\n",
      "       0.8462871 , 0.84576761, 0.84510552, 0.84565215, 0.84618687]), 'std_test_score': array([0.00068057, 0.00065535, 0.00051565, 0.0006664 , 0.00048032,\n",
      "       0.00055574, 0.00092404, 0.00086648, 0.00038343, 0.00088819]), 'rank_test_score': array([ 9,  5,  2, 10,  1,  3,  6,  8,  7,  4]), 'split0_train_score': array([0.95900262, 0.8922213 , 0.88415601, 0.99548678, 0.94256735,\n",
      "       0.92546641, 0.97211323, 0.97804522, 0.88332389, 0.89231376]), 'split1_train_score': array([0.95862162, 0.89141837, 0.88453585, 0.99520006, 0.94143951,\n",
      "       0.92548779, 0.97094915, 0.97624712, 0.8838393 , 0.89276264]), 'split2_train_score': array([0.96081673, 0.8920184 , 0.88390035, 0.99529441, 0.94242986,\n",
      "       0.92550824, 0.97198392, 0.97881913, 0.88301251, 0.89198877]), 'mean_train_score': array([0.95948032, 0.89188602, 0.8841974 , 0.99532708, 0.94214558,\n",
      "       0.92548748, 0.9716821 , 0.97770382, 0.8833919 , 0.89235506]), 'std_train_score': array([9.57696602e-04, 3.40896455e-04, 2.61089444e-04, 1.19312549e-04,\n",
      "       5.02407650e-04, 1.70811966e-05, 5.20954751e-04, 1.07741157e-03,\n",
      "       3.40941548e-04, 3.17277914e-04])}\n"
     ]
    }
   ],
   "source": [
    "results_rf = clf_rf.cv_results_\n",
    "print(results_rf)"
   ]
  },
  {
   "cell_type": "code",
   "execution_count": 91,
   "metadata": {},
   "outputs": [],
   "source": [
    "X_axis = np.array(results_rf['param_n_estimators'].data, dtype=float)\n",
    "Y_axis = np.array(results_rf['param_max_depth'].data, dtype=float)"
   ]
  },
  {
   "cell_type": "markdown",
   "metadata": {},
   "source": [
    "##### HeatMap to show the Train and CV NDCG score for different values of 'max_depth' and 'n_estimators' :"
   ]
  },
  {
   "cell_type": "code",
   "execution_count": 93,
   "metadata": {},
   "outputs": [
    {
     "data": {
      "text/plain": [
       "Text(0.5,1,'Train NDCG HeatMap')"
      ]
     },
     "execution_count": 93,
     "metadata": {},
     "output_type": "execute_result"
    },
    {
     "data": {
      "image/png": "[encoded data removed]",
      "text/plain": [
       "<Figure size 432x288 with 2 Axes>"
      ]
     },
     "metadata": {},
     "output_type": "display_data"
    }
   ],
   "source": [
    "import seaborn as sns\n",
    "pvt_test = pd.pivot_table(pd.DataFrame(results_rf),values='mean_train_score', index=X_axis, columns=Y_axis)\n",
    "#pvt_train = pd.pivot_table(pd.DataFrame(results),values='mean_train_score', index=X_axis, columns=Y_axis)\n",
    "#fig,ax = plt.subplots(1,2)\n",
    "sns.heatmap(pvt_test,annot = True,cmap=\"YlGnBu\")\n",
    "#sns.heatmap(pvt_train,annot = True, ax = ax[1],cmap=\"YlGnBu\")\n",
    "plt.xlabel('Max_depth')\n",
    "plt.ylabel('n_estimators')\n",
    "plt.title('Train NDCG HeatMap')"
   ]
  },
  {
   "cell_type": "code",
   "execution_count": 95,
   "metadata": {},
   "outputs": [
    {
     "data": {
      "text/plain": [
       "Text(0.5,1,'CV NDCG HeatMap')"
      ]
     },
     "execution_count": 95,
     "metadata": {},
     "output_type": "execute_result"
    },
    {
     "data": {
      "image/png": "[encoded data removed]",
      "text/plain": [
       "<Figure size 432x288 with 2 Axes>"
      ]
     },
     "metadata": {},
     "output_type": "display_data"
    }
   ],
   "source": [
    "import seaborn as sns\n",
    "pvt_test = pd.pivot_table(pd.DataFrame(results_rf),values='mean_test_score', index=X_axis, columns=Y_axis)\n",
    "sns.heatmap(pvt_test,annot = True,cmap=\"YlGnBu\")\n",
    "plt.xlabel('Max_depth')\n",
    "plt.ylabel('n_estimators')\n",
    "plt.title('CV NDCG HeatMap')"
   ]
  },
  {
   "cell_type": "markdown",
   "metadata": {},
   "source": [
    "##### Fitting the best estimator as given by the randomsearch cv to the test data :"
   ]
  },
  {
   "cell_type": "code",
   "execution_count": 82,
   "metadata": {},
   "outputs": [],
   "source": [
    "pred_Y_Test = clf_rf.predict_proba(X_Test_vec)"
   ]
  },
  {
   "cell_type": "code",
   "execution_count": 84,
   "metadata": {},
   "outputs": [],
   "source": [
    "#https://www.kaggle.com/krutarthhd/airbnb-eda-and-xgboost\n",
    "\n",
    "ids = []\n",
    "countries = []\n",
    "\n",
    "#Taking the 5 classes with highest probabilities\n",
    "\n",
    "for i in range(len(test_id)-1):\n",
    "    idx = test_id[i]\n",
    "    ids += [idx] * 5\n",
    "    countries += le.inverse_transform(np.argsort(pred_Y_Test[i])[::-1][:5]).tolist()\n",
    "    \n",
    "#Creating the submission dataframe\n",
    "\n",
    "sub = pd.DataFrame({\"id\" : ids,\"country\" : countries})\n",
    "\n",
    "sub.to_csv(r'C:\\Users\\NamrataT\\Desktop\\CS_1\\Dataset\\airbnb-recruiting-new-user-bookings\\submission\\rf_submission.csv', index = False)"
   ]
  },
  {
   "cell_type": "code",
   "execution_count": 23,
   "metadata": {},
   "outputs": [
    {
     "data": {
      "text/plain": [
       "['C:\\\\Users\\\\NamrataT\\\\Desktop\\\\CS_1\\\\Dataset\\\\airbnb-recruiting-new-user-bookings\\\\models\\\\clf_rf']"
      ]
     },
     "execution_count": 23,
     "metadata": {},
     "output_type": "execute_result"
    }
   ],
   "source": [
    "#Saving the RF Model 1:\n",
    "joblib.dump(clf_rf,r'C:\\Users\\NamrataT\\Desktop\\CS_1\\Dataset\\airbnb-recruiting-new-user-bookings\\models\\clf_rf') "
   ]
  },
  {
   "cell_type": "code",
   "execution_count": 79,
   "metadata": {},
   "outputs": [],
   "source": [
    "clf_rf = joblib.load(r'C:\\Users\\NamrataT\\Desktop\\CS_1\\Dataset\\airbnb-recruiting-new-user-bookings\\models\\clf_rf')"
   ]
  },
  {
   "cell_type": "markdown",
   "metadata": {},
   "source": [
    "##### 2. Manually fitting the best hyper-parameter values as seen from the previous heatmap - Random Forest Model 2 :"
   ]
  },
  {
   "cell_type": "markdown",
   "metadata": {},
   "source": [
    "From the previous train and cv ndcg heatmap we saw that for max_depth = 25 and n_estimators = 200, train ndcg score is 0.88 and cv_ndcg score is 0.85. This gap is less than what the best estimator of randomsearch cv has given. So, we are training a new model here with these hyper-parameter values."
   ]
  },
  {
   "cell_type": "code",
   "execution_count": 96,
   "metadata": {},
   "outputs": [
    {
     "data": {
      "text/plain": [
       "RandomForestClassifier(bootstrap=True, class_weight=None, criterion='gini',\n",
       "            max_depth=25, max_features='auto', max_leaf_nodes=None,\n",
       "            min_impurity_decrease=0.0, min_impurity_split=None,\n",
       "            min_samples_leaf=1, min_samples_split=2,\n",
       "            min_weight_fraction_leaf=0.0, n_estimators=200, n_jobs=None,\n",
       "            oob_score=False, random_state=None, verbose=0,\n",
       "            warm_start=False)"
      ]
     },
     "execution_count": 96,
     "metadata": {},
     "output_type": "execute_result"
    }
   ],
   "source": [
    "rf = RandomForestClassifier(n_estimators = 200, max_depth = 25)\n",
    "rf.fit(X_Train_vec,Y_Train)"
   ]
  },
  {
   "cell_type": "code",
   "execution_count": 123,
   "metadata": {},
   "outputs": [
    {
     "data": {
      "text/plain": [
       "['C:\\\\Users\\\\NamrataT\\\\Desktop\\\\CS_1\\\\Dataset\\\\airbnb-recruiting-new-user-bookings\\\\models\\\\clf_rf_depthEstimator']"
      ]
     },
     "execution_count": 123,
     "metadata": {},
     "output_type": "execute_result"
    }
   ],
   "source": [
    "#Saving the RF Model 2:\n",
    "joblib.dump(rf,r'C:\\Users\\NamrataT\\Desktop\\CS_1\\Dataset\\airbnb-recruiting-new-user-bookings\\models\\clf_rf_depthEstimator') "
   ]
  },
  {
   "cell_type": "code",
   "execution_count": 124,
   "metadata": {},
   "outputs": [],
   "source": [
    "rf = joblib.load(r'C:\\Users\\NamrataT\\Desktop\\CS_1\\Dataset\\airbnb-recruiting-new-user-bookings\\models\\clf_rf_depthEstimator')"
   ]
  },
  {
   "cell_type": "code",
   "execution_count": 97,
   "metadata": {},
   "outputs": [],
   "source": [
    "pred_Y_Train_rf = rf.predict_proba(X_Train_vec)\n",
    "pred_Y_Cv_rf = rf.predict_proba(X_Cv_vec)"
   ]
  },
  {
   "cell_type": "code",
   "execution_count": 98,
   "metadata": {},
   "outputs": [
    {
     "name": "stdout",
     "output_type": "stream",
     "text": [
      "Train :  0.9359856629365361\n",
      "CV :  0.8465756014395978\n"
     ]
    }
   ],
   "source": [
    "train_ndcg_rfNew = ndcg_score(Y_Train, pred_Y_Train_rf, k=5)\n",
    "print('Train : ',train_ndcg_rfNew)\n",
    "cv_ndcg_rfNew = ndcg_score(Y_Cv, pred_Y_Cv_rf, k=5)\n",
    "print('CV : ',cv_ndcg_rfNew)"
   ]
  },
  {
   "cell_type": "code",
   "execution_count": 99,
   "metadata": {},
   "outputs": [],
   "source": [
    "pred_Y_Test_rf = rf.predict_proba(X_Test_vec)"
   ]
  },
  {
   "cell_type": "code",
   "execution_count": 100,
   "metadata": {},
   "outputs": [],
   "source": [
    "ids = []\n",
    "countries = []\n",
    "\n",
    "# Taking the 5 classes with highest probabilities\n",
    "\n",
    "for i in range(len(test_id)-1):\n",
    "    idx = test_id[i]\n",
    "    ids += [idx] * 5\n",
    "    countries += le.inverse_transform(np.argsort(pred_Y_Test_rf[i])[::-1][:5]).tolist()\n",
    "    \n",
    "#Creating the submission dataframe\n",
    "\n",
    "sub = pd.DataFrame({\"id\" : ids,\"country\" : countries})\n",
    "\n",
    "sub.to_csv(r'C:\\Users\\NamrataT\\Desktop\\CS_1\\Dataset\\airbnb-recruiting-new-user-bookings\\submission\\rf2_submission.csv', index = False)"
   ]
  },
  {
   "cell_type": "markdown",
   "metadata": {},
   "source": [
    "##### 3. Using the best 80% features of the estimator given by previous randomsearch cv to train a new Random Forest Model 3 :"
   ]
  },
  {
   "cell_type": "code",
   "execution_count": 103,
   "metadata": {},
   "outputs": [],
   "source": [
    "top_80 = int(len(clf_rf.best_estimator_.feature_importances_)*0.8)\n",
    "importances = clf_rf.best_estimator_.feature_importances_\n",
    "indices = (np.argsort(importances))[::-1][:top_80]"
   ]
  },
  {
   "cell_type": "code",
   "execution_count": 104,
   "metadata": {},
   "outputs": [],
   "source": [
    "# https://stackoverflow.com/questions/48099075/how-to-get-columns-from-big-sparse-csc-matrix\n",
    "\n",
    "#Creating the new train dataset with best features :\n",
    "train_columns = []\n",
    "\n",
    "for i in indices:\n",
    "    \n",
    "    train_columns.append(X_Train_vec[:,i])\n",
    "    \n",
    "X_Train_vec_new = hstack(train_columns)\n",
    "\n",
    "#Creating the new test dataset with the best features :\n",
    "test_columns = []\n",
    "\n",
    "for i in indices:\n",
    "    \n",
    "    test_columns.append(X_Test_vec[:,i])\n",
    "    \n",
    "X_Test_vec_new = hstack(test_columns)\n",
    "\n",
    "#Saving the new columns in a list :\n",
    "final_column_list_new = []\n",
    "\n",
    "for i in indices:\n",
    "    \n",
    "     final_column_list_new.append(final_column_list[i])"
   ]
  },
  {
   "cell_type": "code",
   "execution_count": 165,
   "metadata": {},
   "outputs": [
    {
     "name": "stdout",
     "output_type": "stream",
     "text": [
      "Final Data matrix with best 80% fetaures :\n",
      "X_Train :  (59052, 526)\n",
      "X_Test :  (62096, 526)\n",
      "Total number of columns (updated) :  526\n"
     ]
    }
   ],
   "source": [
    "print(\"Final Data matrix with best 80% fetaures :\")\n",
    "print('X_Train : ',X_Train_vec_new.shape)\n",
    "print('X_Test : ',X_Test_vec_new.shape)\n",
    "print('Total number of columns (updated) : ',len(final_column_list_new))"
   ]
  },
  {
   "cell_type": "markdown",
   "metadata": {},
   "source": [
    "Fitting the model :"
   ]
  },
  {
   "cell_type": "code",
   "execution_count": null,
   "metadata": {},
   "outputs": [],
   "source": [
    "params = {\n",
    "'n_estimators' : [100, 200, 300, 500, 700, 800, 1000],\n",
    "'max_depth' : [15, 20, 25, 30, 35, 50],\n",
    "'min_samples_split' : [2, 3, 5, 8],\n",
    "'min_samples_leaf' : [1, 2, 5, 10] }\n",
    "\n",
    "rf = RandomForestClassifier()\n",
    "\n",
    "clf_rf = RandomizedSearchCV(rf, params, verbose=10,n_jobs=-1,scoring=ndcg_scorer)"
   ]
  },
  {
   "cell_type": "code",
   "execution_count": 106,
   "metadata": {},
   "outputs": [
    {
     "name": "stdout",
     "output_type": "stream",
     "text": [
      "Fitting 3 folds for each of 10 candidates, totalling 30 fits\n"
     ]
    },
    {
     "name": "stderr",
     "output_type": "stream",
     "text": [
      "[Parallel(n_jobs=-1)]: Using backend LokyBackend with 4 concurrent workers.\n",
      "[Parallel(n_jobs=-1)]: Done   5 tasks      | elapsed: 50.2min\n",
      "[Parallel(n_jobs=-1)]: Done  10 tasks      | elapsed: 83.7min\n",
      "[Parallel(n_jobs=-1)]: Done  17 tasks      | elapsed: 129.5min\n",
      "[Parallel(n_jobs=-1)]: Done  27 out of  30 | elapsed: 196.9min remaining: 21.9min\n",
      "[Parallel(n_jobs=-1)]: Done  30 out of  30 | elapsed: 221.0min finished\n"
     ]
    },
    {
     "data": {
      "text/plain": [
       "RandomizedSearchCV(cv='warn', error_score='raise-deprecating',\n",
       "          estimator=RandomForestClassifier(bootstrap=True, class_weight=None, criterion='gini',\n",
       "            max_depth=None, max_features='auto', max_leaf_nodes=None,\n",
       "            min_impurity_decrease=0.0, min_impurity_split=None,\n",
       "            min_samples_leaf=1, min_samples_split=2,\n",
       "            min_weight_fraction_leaf=0.0, n_estimators='warn', n_jobs=None,\n",
       "            oob_score=False, random_state=None, verbose=0,\n",
       "            warm_start=False),\n",
       "          fit_params=None, iid='warn', n_iter=10, n_jobs=-1,\n",
       "          param_distributions={'n_estimators': [100, 200, 700, 800, 1000], 'max_depth': [15, 20, 25, 30, 35, 50], 'min_samples_split': [2, 3, 5, 8], 'min_samples_leaf': [1, 2, 5, 10]},\n",
       "          pre_dispatch='2*n_jobs', random_state=None, refit=True,\n",
       "          return_train_score='warn',\n",
       "          scoring=make_scorer(ndcg_score, needs_proba=True, k=5),\n",
       "          verbose=10)"
      ]
     },
     "execution_count": 106,
     "metadata": {},
     "output_type": "execute_result"
    }
   ],
   "source": [
    "clf_rf.fit(X_Train_vec_new,Y_Train)"
   ]
  },
  {
   "cell_type": "code",
   "execution_count": 107,
   "metadata": {},
   "outputs": [
    {
     "data": {
      "text/plain": [
       "['C:\\\\Users\\\\NamrataT\\\\Desktop\\\\CS_1\\\\Dataset\\\\airbnb-recruiting-new-user-bookings\\\\models\\\\clf_rf_feat']"
      ]
     },
     "execution_count": 107,
     "metadata": {},
     "output_type": "execute_result"
    }
   ],
   "source": [
    "#Saving the RF Model 3:\n",
    "joblib.dump(clf_rf,r'C:\\Users\\NamrataT\\Desktop\\CS_1\\Dataset\\airbnb-recruiting-new-user-bookings\\models\\clf_rf_feat') "
   ]
  },
  {
   "cell_type": "code",
   "execution_count": 112,
   "metadata": {},
   "outputs": [
    {
     "data": {
      "text/plain": [
       "{'n_estimators': 700,\n",
       " 'min_samples_split': 8,\n",
       " 'min_samples_leaf': 2,\n",
       " 'max_depth': 30}"
      ]
     },
     "execution_count": 112,
     "metadata": {},
     "output_type": "execute_result"
    }
   ],
   "source": [
    "clf_rf.best_params_"
   ]
  },
  {
   "cell_type": "code",
   "execution_count": 113,
   "metadata": {},
   "outputs": [
    {
     "data": {
      "image/png": "[encoded data removed]",
      "text/plain": [
       "<Figure size 720x864 with 1 Axes>"
      ]
     },
     "metadata": {},
     "output_type": "display_data"
    }
   ],
   "source": [
    "#Feature Importance for Random Forest Model\n",
    "\n",
    "features = final_column_list_new\n",
    "importances = clf_rf.best_estimator_.feature_importances_\n",
    "indices = (np.argsort(importances))[-25:]\n",
    "plt.figure(figsize=(10,12))\n",
    "plt.title('Feature Importances for Random Forest Model with best 80% features')\n",
    "plt.barh(range(len(indices)), importances[indices], color='r', align='center')\n",
    "plt.yticks(range(len(indices)), [features[i] for i in indices])\n",
    "plt.xlabel('Relative Importance')\n",
    "plt.show()"
   ]
  },
  {
   "cell_type": "markdown",
   "metadata": {},
   "source": [
    "We see the sessions features like 'total_seconds_elapsed', 'mean_seconds_elapsed', 'session_count' are very important features. From the train dataset features 'age' is most important. We have proccessed this feature well in our EDA part."
   ]
  },
  {
   "cell_type": "code",
   "execution_count": 114,
   "metadata": {},
   "outputs": [],
   "source": [
    "results_rf = clf_rf.cv_results_\n",
    "X_axis = np.array(results_rf['param_n_estimators'].data, dtype=float)\n",
    "Y_axis = np.array(results_rf['param_max_depth'].data, dtype=float)"
   ]
  },
  {
   "cell_type": "markdown",
   "metadata": {},
   "source": [
    "##### Heatmap for Train and CV NDCG Score :"
   ]
  },
  {
   "cell_type": "code",
   "execution_count": 115,
   "metadata": {},
   "outputs": [
    {
     "data": {
      "text/plain": [
       "Text(0.5,1,'Train NDCG HeatMap')"
      ]
     },
     "execution_count": 115,
     "metadata": {},
     "output_type": "execute_result"
    },
    {
     "data": {
      "image/png": "[encoded data removed]",
      "text/plain": [
       "<Figure size 432x288 with 2 Axes>"
      ]
     },
     "metadata": {},
     "output_type": "display_data"
    }
   ],
   "source": [
    "import seaborn as sns\n",
    "pvt_test = pd.pivot_table(pd.DataFrame(results_rf),values='mean_train_score', index=X_axis, columns=Y_axis)\n",
    "#pvt_train = pd.pivot_table(pd.DataFrame(results),values='mean_train_score', index=X_axis, columns=Y_axis)\n",
    "#fig,ax = plt.subplots(1,2)\n",
    "sns.heatmap(pvt_test,annot = True,cmap=\"YlGnBu\")\n",
    "#sns.heatmap(pvt_train,annot = True, ax = ax[1],cmap=\"YlGnBu\")\n",
    "plt.xlabel('Max_depth')\n",
    "plt.ylabel('n_estimators')\n",
    "plt.title('Train NDCG HeatMap')"
   ]
  },
  {
   "cell_type": "code",
   "execution_count": 116,
   "metadata": {},
   "outputs": [
    {
     "data": {
      "text/plain": [
       "Text(0.5,1,'CV NDCG HeatMap')"
      ]
     },
     "execution_count": 116,
     "metadata": {},
     "output_type": "execute_result"
    },
    {
     "data": {
      "image/png": "[encoded data removed]",
      "text/plain": [
       "<Figure size 432x288 with 2 Axes>"
      ]
     },
     "metadata": {},
     "output_type": "display_data"
    }
   ],
   "source": [
    "import seaborn as sns\n",
    "pvt_test = pd.pivot_table(pd.DataFrame(results_rf),values='mean_test_score', index=X_axis, columns=Y_axis)\n",
    "#pvt_train = pd.pivot_table(pd.DataFrame(results),values='mean_train_score', index=X_axis, columns=Y_axis)\n",
    "#fig,ax = plt.subplots(1,2)\n",
    "sns.heatmap(pvt_test,annot = True,cmap=\"YlGnBu\")\n",
    "#sns.heatmap(pvt_train,annot = True, ax = ax[1],cmap=\"YlGnBu\")\n",
    "plt.xlabel('Max_depth')\n",
    "plt.ylabel('n_estimators')\n",
    "plt.title('CV NDCG HeatMap')"
   ]
  },
  {
   "cell_type": "markdown",
   "metadata": {},
   "source": [
    "##### Fitting the best estimator on the Test data :"
   ]
  },
  {
   "cell_type": "code",
   "execution_count": 109,
   "metadata": {},
   "outputs": [],
   "source": [
    "pred_Y_Test_rf_feat = clf_rf.predict_proba(X_Test_vec_new)"
   ]
  },
  {
   "cell_type": "code",
   "execution_count": 110,
   "metadata": {},
   "outputs": [],
   "source": [
    "#https://www.kaggle.com/krutarthhd/airbnb-eda-and-xgboost\n",
    "\n",
    "ids = []\n",
    "countries = []\n",
    "\n",
    "# Taking the 5 classes with highest probabilities\n",
    "\n",
    "for i in range(len(test_id)-1):\n",
    "    idx = test_id[i]\n",
    "    ids += [idx] * 5\n",
    "    countries += le.inverse_transform(np.argsort(pred_Y_Test_rf_feat[i])[::-1][:5]).tolist()\n",
    "    \n",
    "#Creating a new datadfrom for submission :\n",
    "\n",
    "sub = pd.DataFrame({\"id\" : ids,\"country\" : countries})\n",
    "\n",
    "sub.to_csv(r'C:\\Users\\NamrataT\\Desktop\\CS_1\\Dataset\\airbnb-recruiting-new-user-bookings\\submission\\rf_feat_submission.csv', index = False)"
   ]
  },
  {
   "cell_type": "markdown",
   "metadata": {},
   "source": []
  },
  {
   "cell_type": "markdown",
   "metadata": {},
   "source": [
    "##### 4. RF Model built on the full vectorized dataset with 5172 features :"
   ]
  },
  {
   "cell_type": "markdown",
   "metadata": {},
   "source": [
    "###### Loading the full vectorized dataset :"
   ]
  },
  {
   "cell_type": "code",
   "execution_count": null,
   "metadata": {},
   "outputs": [],
   "source": [
    "X_Train_fullVec = sparse.load_npz(r'C:\\Users\\NamrataT\\Desktop\\CS_1\\Dataset\\airbnb-recruiting-new-user-bookings\\final_dataset_3\\X_Train_vec.npz')\n",
    "X_Cv_fullVec = sparse.load_npz(r'C:\\Users\\NamrataT\\Desktop\\CS_1\\Dataset\\airbnb-recruiting-new-user-bookings\\final_dataset_3\\X_Cv_vec.npz')\n",
    "X_Test_fullVec = sparse.load_npz(r'C:\\Users\\NamrataT\\Desktop\\CS_1\\Dataset\\airbnb-recruiting-new-user-bookings\\final_dataset_3\\X_Test_vec.npz')"
   ]
  },
  {
   "cell_type": "code",
   "execution_count": 10,
   "metadata": {},
   "outputs": [],
   "source": [
    "params = {\n",
    "'n_estimators' : [100, 200, 300, 500, 700, 800],\n",
    "'max_depth' : [5, 10, 15, 20, 25, 30, 35, 50],\n",
    "'min_samples_split' : [2, 3, 5, 8],\n",
    "'min_samples_leaf' : [1, 2, 5, 10] }\n",
    "\n",
    "rf1 = RandomForestClassifier()\n",
    "\n",
    "clf_rf1 = RandomizedSearchCV(rf1, params, verbose=10,n_jobs=-1,scoring=ndcg_scorer)"
   ]
  },
  {
   "cell_type": "code",
   "execution_count": 11,
   "metadata": {},
   "outputs": [
    {
     "name": "stdout",
     "output_type": "stream",
     "text": [
      "Fitting 3 folds for each of 10 candidates, totalling 30 fits\n"
     ]
    },
    {
     "name": "stderr",
     "output_type": "stream",
     "text": [
      "[Parallel(n_jobs=-1)]: Using backend LokyBackend with 4 concurrent workers.\n",
      "[Parallel(n_jobs=-1)]: Done   5 tasks      | elapsed: 12.4min\n",
      "[Parallel(n_jobs=-1)]: Done  10 tasks      | elapsed: 29.6min\n",
      "[Parallel(n_jobs=-1)]: Done  17 tasks      | elapsed: 81.6min\n",
      "[Parallel(n_jobs=-1)]: Done  27 out of  30 | elapsed: 103.6min remaining: 11.5min\n",
      "[Parallel(n_jobs=-1)]: Done  30 out of  30 | elapsed: 105.7min finished\n"
     ]
    },
    {
     "data": {
      "text/plain": [
       "RandomizedSearchCV(cv='warn', error_score='raise-deprecating',\n",
       "          estimator=RandomForestClassifier(bootstrap=True, class_weight=None, criterion='gini',\n",
       "            max_depth=None, max_features='auto', max_leaf_nodes=None,\n",
       "            min_impurity_decrease=0.0, min_impurity_split=None,\n",
       "            min_samples_leaf=1, min_samples_split=2,\n",
       "            min_weight_fraction_leaf=0.0, n_estimators='warn', n_jobs=None,\n",
       "            oob_score=False, random_state=None, verbose=0,\n",
       "            warm_start=False),\n",
       "          fit_params=None, iid='warn', n_iter=10, n_jobs=-1,\n",
       "          param_distributions={'n_estimators': [100, 200, 300, 500, 700, 800], 'max_depth': [5, 10, 15, 20, 25, 30, 35, 50], 'min_samples_split': [2, 3, 5, 8], 'min_samples_leaf': [1, 2, 5, 10]},\n",
       "          pre_dispatch='2*n_jobs', random_state=None, refit=True,\n",
       "          return_train_score='warn',\n",
       "          scoring=make_scorer(ndcg_score, needs_proba=True, k=5),\n",
       "          verbose=10)"
      ]
     },
     "execution_count": 11,
     "metadata": {},
     "output_type": "execute_result"
    }
   ],
   "source": [
    "clf_rf1.fit(X_Train_fullVec,Y_Train)"
   ]
  },
  {
   "cell_type": "code",
   "execution_count": 12,
   "metadata": {},
   "outputs": [
    {
     "data": {
      "text/plain": [
       "{'n_estimators': 800,\n",
       " 'min_samples_split': 5,\n",
       " 'min_samples_leaf': 2,\n",
       " 'max_depth': 50}"
      ]
     },
     "execution_count": 12,
     "metadata": {},
     "output_type": "execute_result"
    }
   ],
   "source": [
    "clf_rf1.best_params_"
   ]
  },
  {
   "cell_type": "code",
   "execution_count": 13,
   "metadata": {},
   "outputs": [],
   "source": [
    "pred_Y_Train_fullVec = clf_rf1.predict_proba(X_Train_fullVec)"
   ]
  },
  {
   "cell_type": "code",
   "execution_count": 14,
   "metadata": {},
   "outputs": [
    {
     "data": {
      "text/plain": [
       "0.920382636291041"
      ]
     },
     "execution_count": 14,
     "metadata": {},
     "output_type": "execute_result"
    }
   ],
   "source": [
    "#Train ndcg score\n",
    "\n",
    "train_ndcg_rf1_fullVec = ndcg_score(Y_Train, pred_Y_Train_fullVec, k=5)\n",
    "train_ndcg_rf1_fullVec"
   ]
  },
  {
   "cell_type": "code",
   "execution_count": 15,
   "metadata": {},
   "outputs": [],
   "source": [
    "pred_Y_Cv_fullVec = clf_rf1.predict_proba(X_Cv_fullVec)"
   ]
  },
  {
   "cell_type": "code",
   "execution_count": 16,
   "metadata": {},
   "outputs": [
    {
     "data": {
      "text/plain": [
       "0.84359449646054"
      ]
     },
     "execution_count": 16,
     "metadata": {},
     "output_type": "execute_result"
    }
   ],
   "source": [
    "#CV ndcg score\n",
    "\n",
    "cv_ndcg_rf1_fullVec = ndcg_score(Y_Cv, pred_Y_Cv_fullVec, k=5)\n",
    "cv_ndcg_rf1_fullVec"
   ]
  },
  {
   "cell_type": "code",
   "execution_count": 17,
   "metadata": {},
   "outputs": [
    {
     "data": {
      "text/plain": [
       "['C:\\\\Users\\\\NamrataT\\\\Desktop\\\\CS_1\\\\Dataset\\\\airbnb-recruiting-new-user-bookings\\\\models\\\\clf_rf1']"
      ]
     },
     "execution_count": 17,
     "metadata": {},
     "output_type": "execute_result"
    }
   ],
   "source": [
    "#Saving the RF Model 4:\n",
    "joblib.dump(clf_rf1,r'C:\\Users\\NamrataT\\Desktop\\CS_1\\Dataset\\airbnb-recruiting-new-user-bookings\\models\\clf_rf1') "
   ]
  },
  {
   "cell_type": "code",
   "execution_count": 89,
   "metadata": {},
   "outputs": [],
   "source": [
    "clf_rf1 = joblib.load(r'C:\\Users\\NamrataT\\Desktop\\CS_1\\Dataset\\airbnb-recruiting-new-user-bookings\\models\\clf_rf1')"
   ]
  },
  {
   "cell_type": "code",
   "execution_count": 202,
   "metadata": {},
   "outputs": [],
   "source": [
    "X_Test_fullVec = sparse.load_npz(r'C:\\Users\\NamrataT\\Desktop\\CS_1\\Dataset\\airbnb-recruiting-new-user-bookings\\final_dataset_3\\X_Test_vec.npz')"
   ]
  },
  {
   "cell_type": "code",
   "execution_count": 203,
   "metadata": {},
   "outputs": [],
   "source": [
    "with open(r'C:\\Users\\NamrataT\\Desktop\\CS_1\\Dataset\\airbnb-recruiting-new-user-bookings\\final_dataset_3\\final_column_list.txt', 'rb') as fp:   # Unpickling\n",
    "    final_column_list_fullVec = pickle.load(fp)\n",
    "fp.close()"
   ]
  },
  {
   "cell_type": "code",
   "execution_count": 204,
   "metadata": {},
   "outputs": [],
   "source": [
    "pred_Y_Test_fullVec = clf_rf1.predict_proba(X_Test_fullVec)"
   ]
  },
  {
   "cell_type": "code",
   "execution_count": 205,
   "metadata": {},
   "outputs": [],
   "source": [
    "#https://www.kaggle.com/krutarthhd/airbnb-eda-and-xgboost\n",
    "\n",
    "ids = []\n",
    "countries = []\n",
    "\n",
    "# Taking the 5 classes with highest probabilities\n",
    "\n",
    "for i in range(len(test_id)-1):\n",
    "    idx = test_id[i]\n",
    "    ids += [idx] * 5\n",
    "    countries += le.inverse_transform(np.argsort(pred_Y_Test_fullVec[i])[::-1][:5]).tolist()\n",
    "    \n",
    "#Creating a new datadframe for submission :\n",
    "\n",
    "sub = pd.DataFrame({\"id\" : ids,\"country\" : countries})\n",
    "\n",
    "sub.to_csv(r'C:\\Users\\NamrataT\\Desktop\\CS_1\\Dataset\\airbnb-recruiting-new-user-bookings\\submission\\rf_feat_fullVec_submission.csv', index = False)"
   ]
  },
  {
   "cell_type": "markdown",
   "metadata": {},
   "source": [
    "##### 5. Retraining the best 80% feature dataset with new hyper-parameter values for Random Forest Model 5 :"
   ]
  },
  {
   "cell_type": "code",
   "execution_count": 125,
   "metadata": {},
   "outputs": [],
   "source": [
    "params = {\n",
    "'n_estimators' : [100, 200, 300, 500, 700, 800],\n",
    "'max_depth' : [5, 10, 15, 20, 25, 30, 35, 50],\n",
    "'min_samples_split' : [5,10,20,50,100],\n",
    "'min_samples_leaf' : [5, 10, 15, 20] }\n",
    "\n",
    "rf1 = RandomForestClassifier()\n",
    "clf_rf_featHyp = RandomizedSearchCV(rf1, params, verbose=10,n_jobs=-1,scoring=ndcg_scorer)"
   ]
  },
  {
   "cell_type": "code",
   "execution_count": 126,
   "metadata": {},
   "outputs": [
    {
     "name": "stdout",
     "output_type": "stream",
     "text": [
      "Fitting 3 folds for each of 10 candidates, totalling 30 fits\n"
     ]
    },
    {
     "name": "stderr",
     "output_type": "stream",
     "text": [
      "[Parallel(n_jobs=-1)]: Using backend LokyBackend with 4 concurrent workers.\n",
      "[Parallel(n_jobs=-1)]: Done   5 tasks      | elapsed: 22.8min\n",
      "[Parallel(n_jobs=-1)]: Done  10 tasks      | elapsed: 29.6min\n",
      "[Parallel(n_jobs=-1)]: Done  17 tasks      | elapsed: 51.7min\n",
      "[Parallel(n_jobs=-1)]: Done  27 out of  30 | elapsed: 80.8min remaining:  9.0min\n",
      "[Parallel(n_jobs=-1)]: Done  30 out of  30 | elapsed: 82.3min finished\n"
     ]
    },
    {
     "data": {
      "text/plain": [
       "RandomizedSearchCV(cv='warn', error_score='raise-deprecating',\n",
       "          estimator=RandomForestClassifier(bootstrap=True, class_weight=None, criterion='gini',\n",
       "            max_depth=None, max_features='auto', max_leaf_nodes=None,\n",
       "            min_impurity_decrease=0.0, min_impurity_split=None,\n",
       "            min_samples_leaf=1, min_samples_split=2,\n",
       "            min_weight_fraction_leaf=0.0, n_estimators='warn', n_jobs=None,\n",
       "            oob_score=False, random_state=None, verbose=0,\n",
       "            warm_start=False),\n",
       "          fit_params=None, iid='warn', n_iter=10, n_jobs=-1,\n",
       "          param_distributions={'n_estimators': [100, 200, 300, 500, 700, 800], 'max_depth': [5, 10, 15, 20, 25, 30, 35, 50], 'min_samples_split': [5, 10, 20, 50, 100], 'min_samples_leaf': [5, 10, 15, 20]},\n",
       "          pre_dispatch='2*n_jobs', random_state=None, refit=True,\n",
       "          return_train_score='warn',\n",
       "          scoring=make_scorer(ndcg_score, needs_proba=True, k=5),\n",
       "          verbose=10)"
      ]
     },
     "execution_count": 126,
     "metadata": {},
     "output_type": "execute_result"
    }
   ],
   "source": [
    "clf_rf_featHyp.fit(X_Train_vec_new,Y_Train)"
   ]
  },
  {
   "cell_type": "code",
   "execution_count": 188,
   "metadata": {},
   "outputs": [
    {
     "data": {
      "text/plain": [
       "{'n_estimators': 800,\n",
       " 'min_samples_split': 50,\n",
       " 'min_samples_leaf': 5,\n",
       " 'max_depth': 35}"
      ]
     },
     "execution_count": 188,
     "metadata": {},
     "output_type": "execute_result"
    }
   ],
   "source": [
    "clf_rf_featHyp.best_params_"
   ]
  },
  {
   "cell_type": "code",
   "execution_count": 128,
   "metadata": {},
   "outputs": [
    {
     "data": {
      "text/plain": [
       "['C:\\\\Users\\\\NamrataT\\\\Desktop\\\\CS_1\\\\Dataset\\\\airbnb-recruiting-new-user-bookings\\\\models\\\\clf_rf_featHyp']"
      ]
     },
     "execution_count": 128,
     "metadata": {},
     "output_type": "execute_result"
    }
   ],
   "source": [
    "#Saving the RF Model 5:\n",
    "joblib.dump(clf_rf_featHyp,r'C:\\Users\\NamrataT\\Desktop\\CS_1\\Dataset\\airbnb-recruiting-new-user-bookings\\models\\clf_rf_featHyp') "
   ]
  },
  {
   "cell_type": "code",
   "execution_count": 166,
   "metadata": {},
   "outputs": [
    {
     "data": {
      "image/png": "[encoded data removed]",
      "text/plain": [
       "<Figure size 720x864 with 1 Axes>"
      ]
     },
     "metadata": {},
     "output_type": "display_data"
    }
   ],
   "source": [
    "#Feature Importance for Random Forest Model\n",
    "\n",
    "features = final_column_list_new\n",
    "importances = clf_rf_featHyp.best_estimator_.feature_importances_\n",
    "indices = (np.argsort(importances))[-25:]\n",
    "plt.figure(figsize=(10,12))\n",
    "plt.title('Feature Importances for Random Forest Model 2 with best 80% features')\n",
    "plt.barh(range(len(indices)), importances[indices], color='g', align='center')\n",
    "plt.yticks(range(len(indices)), [features[i] for i in indices])\n",
    "plt.xlabel('Relative Importance')\n",
    "plt.show()"
   ]
  },
  {
   "cell_type": "markdown",
   "metadata": {},
   "source": [
    "From the train dataset features 'age' is most important. We have proccessed this feature well in our EDA part.\n",
    "But this feature importance shows some interesting changes. Features like 'view_booking_request', 'booking_request_submit', 'view_booking_request_submit' have a much higher importance in this model as compared to the other models. Whereas important features for other models like 'session_count', 'Total_secs_elapsed', 'Mean_secs_elapsed'  are very down in this list of important features. "
   ]
  },
  {
   "cell_type": "code",
   "execution_count": 131,
   "metadata": {},
   "outputs": [],
   "source": [
    "results_rf_featHyp = clf_rf_featHyp.cv_results_\n",
    "X_axis = np.array(results_rf_featHyp['param_n_estimators'].data, dtype=float)\n",
    "Y_axis = np.array(results_rf_featHyp['param_max_depth'].data, dtype=float)"
   ]
  },
  {
   "cell_type": "markdown",
   "metadata": {},
   "source": [
    "##### HeatMap for Train and CV NDCG Score :"
   ]
  },
  {
   "cell_type": "code",
   "execution_count": 132,
   "metadata": {},
   "outputs": [
    {
     "data": {
      "text/plain": [
       "Text(0.5,1,'Train NDCG HeatMap')"
      ]
     },
     "execution_count": 132,
     "metadata": {},
     "output_type": "execute_result"
    },
    {
     "data": {
      "image/png": "[encoded data removed]",
      "text/plain": [
       "<Figure size 432x288 with 2 Axes>"
      ]
     },
     "metadata": {},
     "output_type": "display_data"
    }
   ],
   "source": [
    "import seaborn as sns\n",
    "pvt_test = pd.pivot_table(pd.DataFrame(results_rf_featHyp),values='mean_train_score', index=X_axis, columns=Y_axis)\n",
    "#pvt_train = pd.pivot_table(pd.DataFrame(results),values='mean_train_score', index=X_axis, columns=Y_axis)\n",
    "#fig,ax = plt.subplots(1,2)\n",
    "sns.heatmap(pvt_test,annot = True,cmap=\"YlGnBu\")\n",
    "#sns.heatmap(pvt_train,annot = True, ax = ax[1],cmap=\"YlGnBu\")\n",
    "plt.xlabel('Max_depth')\n",
    "plt.ylabel('n_estimators')\n",
    "plt.title('Train NDCG HeatMap')"
   ]
  },
  {
   "cell_type": "code",
   "execution_count": 133,
   "metadata": {},
   "outputs": [
    {
     "data": {
      "text/plain": [
       "Text(0.5,1,'CV NDCG HeatMap')"
      ]
     },
     "execution_count": 133,
     "metadata": {},
     "output_type": "execute_result"
    },
    {
     "data": {
      "image/png": "[encoded data removed]",
      "text/plain": [
       "<Figure size 432x288 with 2 Axes>"
      ]
     },
     "metadata": {},
     "output_type": "display_data"
    }
   ],
   "source": [
    "import seaborn as sns\n",
    "pvt_test = pd.pivot_table(pd.DataFrame(results_rf_featHyp),values='mean_test_score', index=X_axis, columns=Y_axis)\n",
    "#pvt_train = pd.pivot_table(pd.DataFrame(results),values='mean_train_score', index=X_axis, columns=Y_axis)\n",
    "#fig,ax = plt.subplots(1,2)\n",
    "sns.heatmap(pvt_test,annot = True,cmap=\"YlGnBu\")\n",
    "#sns.heatmap(pvt_train,annot = True, ax = ax[1],cmap=\"YlGnBu\")\n",
    "plt.xlabel('Max_depth')\n",
    "plt.ylabel('n_estimators')\n",
    "plt.title('CV NDCG HeatMap')"
   ]
  },
  {
   "cell_type": "code",
   "execution_count": 190,
   "metadata": {},
   "outputs": [],
   "source": [
    "pred_Y_Test_rf_featHyp = clf_rf_featHyp.predict_proba(X_Test_vec_new)"
   ]
  },
  {
   "cell_type": "code",
   "execution_count": 191,
   "metadata": {},
   "outputs": [],
   "source": [
    "#https://www.kaggle.com/krutarthhd/airbnb-eda-and-xgboost\n",
    "\n",
    "ids = []\n",
    "countries = []\n",
    "\n",
    "# Taking the 5 classes with highest probabilities\n",
    "\n",
    "for i in range(len(test_id)-1):\n",
    "    idx = test_id[i]\n",
    "    ids += [idx] * 5\n",
    "    countries += le.inverse_transform(np.argsort(pred_Y_Test_rf_featHyp[i])[::-1][:5]).tolist()\n",
    "    \n",
    "#Creating dataframe for submission:\n",
    "\n",
    "sub = pd.DataFrame({\"id\" : ids,\"country\" : countries})\n",
    "\n",
    "sub.to_csv(r'C:\\Users\\NamrataT\\Desktop\\CS_1\\Dataset\\airbnb-recruiting-new-user-bookings\\submission\\rf_featHyp_submission.csv', index = False)"
   ]
  },
  {
   "cell_type": "code",
   "execution_count": 158,
   "metadata": {},
   "outputs": [
    {
     "data": {
      "text/html": [
       "<div>\n",
       "<style scoped>\n",
       "    .dataframe tbody tr th:only-of-type {\n",
       "        vertical-align: middle;\n",
       "    }\n",
       "\n",
       "    .dataframe tbody tr th {\n",
       "        vertical-align: top;\n",
       "    }\n",
       "\n",
       "    .dataframe thead th {\n",
       "        text-align: right;\n",
       "    }\n",
       "</style>\n",
       "<table border=\"1\" class=\"dataframe\">\n",
       "  <thead>\n",
       "    <tr style=\"text-align: right;\">\n",
       "      <th></th>\n",
       "      <th>id</th>\n",
       "      <th>country</th>\n",
       "    </tr>\n",
       "  </thead>\n",
       "  <tbody>\n",
       "    <tr>\n",
       "      <th>0</th>\n",
       "      <td>5uwns89zht</td>\n",
       "      <td>NDF</td>\n",
       "    </tr>\n",
       "    <tr>\n",
       "      <th>1</th>\n",
       "      <td>5uwns89zht</td>\n",
       "      <td>US</td>\n",
       "    </tr>\n",
       "    <tr>\n",
       "      <th>2</th>\n",
       "      <td>5uwns89zht</td>\n",
       "      <td>other</td>\n",
       "    </tr>\n",
       "    <tr>\n",
       "      <th>3</th>\n",
       "      <td>5uwns89zht</td>\n",
       "      <td>IT</td>\n",
       "    </tr>\n",
       "    <tr>\n",
       "      <th>4</th>\n",
       "      <td>5uwns89zht</td>\n",
       "      <td>FR</td>\n",
       "    </tr>\n",
       "    <tr>\n",
       "      <th>5</th>\n",
       "      <td>jtl0dijy2j</td>\n",
       "      <td>NDF</td>\n",
       "    </tr>\n",
       "  </tbody>\n",
       "</table>\n",
       "</div>"
      ],
      "text/plain": [
       "           id country\n",
       "0  5uwns89zht     NDF\n",
       "1  5uwns89zht      US\n",
       "2  5uwns89zht   other\n",
       "3  5uwns89zht      IT\n",
       "4  5uwns89zht      FR\n",
       "5  jtl0dijy2j     NDF"
      ]
     },
     "execution_count": 158,
     "metadata": {},
     "output_type": "execute_result"
    }
   ],
   "source": [
    "sub.head(6)"
   ]
  },
  {
   "cell_type": "markdown",
   "metadata": {},
   "source": [
    "Fitting the best estimator :"
   ]
  },
  {
   "cell_type": "code",
   "execution_count": 192,
   "metadata": {},
   "outputs": [
    {
     "data": {
      "text/plain": [
       "RandomForestClassifier(bootstrap=True, class_weight=None, criterion='gini',\n",
       "            max_depth=35, max_features='auto', max_leaf_nodes=None,\n",
       "            min_impurity_decrease=0.0, min_impurity_split=None,\n",
       "            min_samples_leaf=5, min_samples_split=50,\n",
       "            min_weight_fraction_leaf=0.0, n_estimators=800, n_jobs=None,\n",
       "            oob_score=False, random_state=None, verbose=0,\n",
       "            warm_start=False)"
      ]
     },
     "execution_count": 192,
     "metadata": {},
     "output_type": "execute_result"
    }
   ],
   "source": [
    "rf1_new = RandomForestClassifier(n_estimators=800, max_depth=35, min_samples_split=50, min_samples_leaf = 5)\n",
    "rf1_new.fit(X_Train_vec_new,Y_Train)"
   ]
  },
  {
   "cell_type": "code",
   "execution_count": 193,
   "metadata": {},
   "outputs": [],
   "source": [
    "pred_Y_Test_rf_featHyp1 = rf1_new.predict_proba(X_Test_vec_new)"
   ]
  },
  {
   "cell_type": "code",
   "execution_count": 194,
   "metadata": {},
   "outputs": [],
   "source": [
    "#https://www.kaggle.com/krutarthhd/airbnb-eda-and-xgboost\n",
    "\n",
    "ids = []\n",
    "countries = []\n",
    "\n",
    "# Taking the 5 classes with highest probabilities\n",
    "\n",
    "for i in range(len(test_id)-1):\n",
    "    idx = test_id[i]\n",
    "    ids += [idx] * 5\n",
    "    countries += le.inverse_transform(np.argsort(pred_Y_Test_rf_featHyp1[i])[::-1][:5]).tolist()\n",
    "    \n",
    "#Creating dataframe for submission:\n",
    "\n",
    "sub = pd.DataFrame({\"id\" : ids,\"country\" : countries})\n",
    "\n",
    "sub.to_csv(r'C:\\Users\\NamrataT\\Desktop\\CS_1\\Dataset\\airbnb-recruiting-new-user-bookings\\submission\\rf_featHyp_submission2.csv', index = False)"
   ]
  },
  {
   "cell_type": "code",
   "execution_count": null,
   "metadata": {},
   "outputs": [],
   "source": []
  },
  {
   "cell_type": "markdown",
   "metadata": {},
   "source": [
    "#### 3. Xgboost :"
   ]
  },
  {
   "cell_type": "code",
   "execution_count": null,
   "metadata": {},
   "outputs": [],
   "source": [
    "'''param_grid = {\n",
    "'max_depth': [5, 10, 15, 20, 25, 30, 35, 50],\n",
    "'learning_rate': [0.001, 0.01, 0.1, 0.2],\n",
    "'n_estimators':[100, 200, 300, 500, 700, 800, 1000],\n",
    "'colsample_bytree':[0.1,0.2,0.3,0.5,1],\n",
    "'colsample_bylevel':[0.1,0.2,0.3,0.5,1]\n",
    "}'''"
   ]
  },
  {
   "cell_type": "code",
   "execution_count": 32,
   "metadata": {},
   "outputs": [],
   "source": [
    "param_grid = {\n",
    "'max_depth': [5, 10, 15, 20, 25, 30, 35, 50],\n",
    "'n_estimators':[100, 200, 300, 500, 700, 800]\n",
    "}\n",
    "\n",
    "xgb = xgb.XGBClassifier(objective='multi:softmax',eval_metric= 'mlogloss')\n",
    "clf_xgb = RandomizedSearchCV(xgb, param_grid,n_jobs=-1,verbose=2,scoring=ndcg_scorer, random_state=42)"
   ]
  },
  {
   "cell_type": "code",
   "execution_count": 33,
   "metadata": {},
   "outputs": [
    {
     "name": "stdout",
     "output_type": "stream",
     "text": [
      "Fitting 3 folds for each of 10 candidates, totalling 30 fits\n"
     ]
    },
    {
     "name": "stderr",
     "output_type": "stream",
     "text": [
      "[Parallel(n_jobs=-1)]: Using backend LokyBackend with 4 concurrent workers.\n",
      "[Parallel(n_jobs=-1)]: Done  30 out of  30 | elapsed: 2224.6min finished\n"
     ]
    },
    {
     "data": {
      "text/plain": [
       "RandomizedSearchCV(cv='warn', error_score='raise-deprecating',\n",
       "          estimator=XGBClassifier(base_score=0.5, booster='gbtree', colsample_bylevel=1,\n",
       "       colsample_bytree=1, eval_metric='mlogloss', gamma=0,\n",
       "       learning_rate=0.1, max_delta_step=0, max_depth=3,\n",
       "       min_child_weight=1, missing=None, n_estimators=100, n_jobs=1,\n",
       "       nthread=None, objective='multi:softmax', random_state=0,\n",
       "       reg_alpha=0, reg_lambda=1, scale_pos_weight=1, seed=None,\n",
       "       silent=True, subsample=1),\n",
       "          fit_params=None, iid='warn', n_iter=10, n_jobs=-1,\n",
       "          param_distributions={'max_depth': [5, 10, 15, 20, 25, 30, 35, 50], 'n_estimators': [100, 200, 300, 500, 700, 800]},\n",
       "          pre_dispatch='2*n_jobs', random_state=42, refit=True,\n",
       "          return_train_score='warn',\n",
       "          scoring=make_scorer(ndcg_score, needs_proba=True, k=5),\n",
       "          verbose=2)"
      ]
     },
     "execution_count": 33,
     "metadata": {},
     "output_type": "execute_result"
    }
   ],
   "source": [
    "clf_xgb.fit(X_Train_vec,Y_Train)"
   ]
  },
  {
   "cell_type": "code",
   "execution_count": 35,
   "metadata": {},
   "outputs": [
    {
     "data": {
      "text/plain": [
       "{'n_estimators': 700, 'max_depth': 5}"
      ]
     },
     "execution_count": 35,
     "metadata": {},
     "output_type": "execute_result"
    }
   ],
   "source": [
    "clf_xgb.best_params_"
   ]
  },
  {
   "cell_type": "code",
   "execution_count": 66,
   "metadata": {},
   "outputs": [
    {
     "name": "stdout",
     "output_type": "stream",
     "text": [
      "{'mean_fit_time': array([40840.553713  , 36463.77520148, 15405.23485955, 14976.49862234,\n",
      "        7518.22309359, 16708.22038253,  6178.23316153, 10796.00919278,\n",
      "       10838.37793239,  9186.97599014]), 'std_fit_time': array([ 172.95874688, 8871.011024  ,  896.90769901,  319.72680429,\n",
      "         54.31914818,  318.07853499,  170.27001862,  279.17906382,\n",
      "         12.02077067, 1345.87410942]), 'mean_score_time': array([171.80947272, 205.99530395, 134.93325758,  91.0164508 ,\n",
      "        49.425946  , 106.7009031 ,  47.4094468 ,  60.89998341,\n",
      "        84.29936846,  56.5339853 ]), 'std_score_time': array([ 8.31906892,  0.33255051, 36.82053024,  1.47463572,  1.86508673,\n",
      "        1.48026337,  1.33582172,  2.17150141,  3.74813575,  9.06128102]), 'param_n_estimators': masked_array(data=[500, 700, 300, 200, 100, 200, 100, 200, 700, 200],\n",
      "             mask=[False, False, False, False, False, False, False, False,\n",
      "                   False, False],\n",
      "       fill_value='?',\n",
      "            dtype=object), 'param_max_depth': masked_array(data=[25, 35, 25, 50, 25, 35, 15, 20, 5, 25],\n",
      "             mask=[False, False, False, False, False, False, False, False,\n",
      "                   False, False],\n",
      "       fill_value='?',\n",
      "            dtype=object), 'params': [{'n_estimators': 500, 'max_depth': 25}, {'n_estimators': 700, 'max_depth': 35}, {'n_estimators': 300, 'max_depth': 25}, {'n_estimators': 200, 'max_depth': 50}, {'n_estimators': 100, 'max_depth': 25}, {'n_estimators': 200, 'max_depth': 35}, {'n_estimators': 100, 'max_depth': 15}, {'n_estimators': 200, 'max_depth': 20}, {'n_estimators': 700, 'max_depth': 5}, {'n_estimators': 200, 'max_depth': 25}], 'split0_test_score': array([0.84717898, 0.84422774, 0.8490683 , 0.84613743, 0.84906208,\n",
      "       0.84730963, 0.85097362, 0.8492853 , 0.85308988, 0.84906468]), 'split1_test_score': array([0.84509723, 0.84301636, 0.84678468, 0.84511126, 0.84683687,\n",
      "       0.845739  , 0.84893292, 0.84847671, 0.85185492, 0.84677973]), 'split2_test_score': array([0.84522582, 0.84413988, 0.84657617, 0.84530413, 0.84784379,\n",
      "       0.8458309 , 0.85046127, 0.84895299, 0.85228229, 0.84771532]), 'mean_test_score': array([0.84583417, 0.84379466, 0.84747659, 0.84551768, 0.84791435,\n",
      "       0.8462933 , 0.85012265, 0.84890503, 0.8524091 , 0.84785336]), 'std_test_score': array([0.00095255, 0.00055151, 0.00112894, 0.00044533, 0.00090987,\n",
      "       0.00071977, 0.00086688, 0.00033186, 0.00051211, 0.00093798]), 'rank_test_score': array([ 8, 10,  6,  9,  4,  7,  2,  3,  1,  5]), 'split0_train_score': array([0.99989354, 0.99991229, 0.99985603, 0.99991229, 0.9985074 ,\n",
      "       0.99990291, 0.97686984, 0.99719202, 0.92240803, 0.99971539]), 'split1_train_score': array([0.999925  , 0.999925  , 0.9998875 , 0.999925  , 0.99905858,\n",
      "       0.999925  , 0.97949623, 0.997659  , 0.92484296, 0.99982188]), 'split2_train_score': array([0.99989689, 0.99992501, 0.99987814, 0.99992501, 0.99863416,\n",
      "       0.99988752, 0.97890629, 0.99828129, 0.92405821, 0.99969067]), 'mean_train_score': array([0.99990514, 0.99992077, 0.99987389, 0.99992077, 0.99873338,\n",
      "       0.99990514, 0.97842412, 0.99771077, 0.92376973, 0.99974265]), 'std_train_score': array([1.41086169e-05, 5.99465105e-06, 1.31938539e-05, 5.99465105e-06,\n",
      "       2.35704258e-04, 1.53843188e-05, 1.12512377e-03, 4.46195066e-04,\n",
      "       1.01477186e-03, 5.69270877e-05])}\n"
     ]
    }
   ],
   "source": [
    "results = clf_xgb.cv_results_\n",
    "print(results)"
   ]
  },
  {
   "cell_type": "code",
   "execution_count": 67,
   "metadata": {},
   "outputs": [],
   "source": [
    "X_axis = np.array(results['param_n_estimators'].data, dtype=float)\n",
    "Y_axis = np.array(results['param_max_depth'].data, dtype=float)"
   ]
  },
  {
   "cell_type": "markdown",
   "metadata": {},
   "source": [
    "##### HeatMap for Train and CV NDCG Score for XGBoost Model :"
   ]
  },
  {
   "cell_type": "code",
   "execution_count": 72,
   "metadata": {},
   "outputs": [
    {
     "data": {
      "text/plain": [
       "Text(0.5,1,'Train NDCG HeatMap')"
      ]
     },
     "execution_count": 72,
     "metadata": {},
     "output_type": "execute_result"
    },
    {
     "data": {
      "image/png": "[encoded data removed]",
      "text/plain": [
       "<Figure size 432x288 with 2 Axes>"
      ]
     },
     "metadata": {},
     "output_type": "display_data"
    }
   ],
   "source": [
    "import seaborn as sns\n",
    "pvt_test = pd.pivot_table(pd.DataFrame(results),values='mean_train_score', index=X_axis, columns=Y_axis)\n",
    "#pvt_train = pd.pivot_table(pd.DataFrame(results),values='mean_train_score', index=X_axis, columns=Y_axis)\n",
    "#fig,ax = plt.subplots(1,2)\n",
    "sns.heatmap(pvt_test,annot = True,cmap=\"YlGnBu\")\n",
    "#sns.heatmap(pvt_train,annot = True, ax = ax[1],cmap=\"YlGnBu\")\n",
    "plt.xlabel('Max_depth')\n",
    "plt.ylabel('n_estimators')\n",
    "plt.title('Train NDCG HeatMap')"
   ]
  },
  {
   "cell_type": "code",
   "execution_count": 73,
   "metadata": {},
   "outputs": [
    {
     "data": {
      "text/plain": [
       "Text(0.5,1,'CV AUC HeatMap')"
      ]
     },
     "execution_count": 73,
     "metadata": {},
     "output_type": "execute_result"
    },
    {
     "data": {
      "image/png": "[encoded data removed]",
      "text/plain": [
       "<Figure size 432x288 with 2 Axes>"
      ]
     },
     "metadata": {},
     "output_type": "display_data"
    }
   ],
   "source": [
    "pvt_test = pd.pivot_table(pd.DataFrame(results),values='mean_test_score', index=X_axis, columns=Y_axis)\n",
    "#pvt_train = pd.pivot_table(pd.DataFrame(results),values='mean_train_score', index=X_axis, columns=Y_axis)\n",
    "#fig,ax = plt.subplots(1,2)\n",
    "sns.heatmap(pvt_test,annot = True,cmap=\"YlGnBu\")\n",
    "#sns.heatmap(pvt_train,annot = True, ax = ax[1],cmap=\"YlGnBu\")\n",
    "plt.xlabel('Max_depth')\n",
    "plt.ylabel('n_estimators')\n",
    "plt.title('CV AUC HeatMap')"
   ]
  },
  {
   "cell_type": "code",
   "execution_count": 77,
   "metadata": {},
   "outputs": [
    {
     "data": {
      "image/png": "[encoded data removed]",
      "text/plain": [
       "<Figure size 720x864 with 1 Axes>"
      ]
     },
     "metadata": {},
     "output_type": "display_data"
    }
   ],
   "source": [
    "#feature importance\n",
    "\n",
    "features = final_column_list\n",
    "importances = clf_xgb.best_estimator_.feature_importances_\n",
    "indices = (np.argsort(importances))[-25:]\n",
    "plt.figure(figsize=(10,12))\n",
    "plt.title('Feature Importances')\n",
    "plt.barh(range(len(indices)), importances[indices], color='r', align='center')\n",
    "plt.yticks(range(len(indices)), [features[i] for i in indices])\n",
    "plt.xlabel('Relative Importance')\n",
    "plt.show()"
   ]
  },
  {
   "cell_type": "markdown",
   "metadata": {},
   "source": [
    "We are not able to get any good inference from the this plot of feature importance."
   ]
  },
  {
   "cell_type": "code",
   "execution_count": 36,
   "metadata": {},
   "outputs": [],
   "source": [
    "pred_Y_Train = clf_xgb.predict_proba(X_Train_vec)"
   ]
  },
  {
   "cell_type": "code",
   "execution_count": 37,
   "metadata": {},
   "outputs": [
    {
     "data": {
      "text/plain": [
       "0.910366678884532"
      ]
     },
     "execution_count": 37,
     "metadata": {},
     "output_type": "execute_result"
    }
   ],
   "source": [
    "#Train ndcg score\n",
    "\n",
    "train_ndcg_xgb = ndcg_score(Y_Train, pred_Y_Train, k=5)\n",
    "train_ndcg_xgb"
   ]
  },
  {
   "cell_type": "code",
   "execution_count": 38,
   "metadata": {},
   "outputs": [],
   "source": [
    "pred_Y_Cv = clf_xgb.predict_proba(X_Cv_vec)"
   ]
  },
  {
   "cell_type": "code",
   "execution_count": 39,
   "metadata": {},
   "outputs": [
    {
     "data": {
      "text/plain": [
       "0.8520178893365667"
      ]
     },
     "execution_count": 39,
     "metadata": {},
     "output_type": "execute_result"
    }
   ],
   "source": [
    "#CV ndcg score\n",
    "\n",
    "cv_ndcg_xgb = ndcg_score(Y_Cv, pred_Y_Cv, k=5)\n",
    "cv_ndcg_xgb"
   ]
  },
  {
   "cell_type": "code",
   "execution_count": 34,
   "metadata": {},
   "outputs": [
    {
     "data": {
      "text/plain": [
       "['C:\\\\Users\\\\NamrataT\\\\Desktop\\\\CS_1\\\\Dataset\\\\airbnb-recruiting-new-user-bookings\\\\models\\\\clf_xgb']"
      ]
     },
     "execution_count": 34,
     "metadata": {},
     "output_type": "execute_result"
    }
   ],
   "source": [
    "#Saving the XGBoost Model :\n",
    "joblib.dump(clf_xgb,r'C:\\Users\\NamrataT\\Desktop\\CS_1\\Dataset\\airbnb-recruiting-new-user-bookings\\models\\clf_xgb') "
   ]
  },
  {
   "cell_type": "code",
   "execution_count": null,
   "metadata": {},
   "outputs": [],
   "source": [
    "clf_xgb = joblib.load(r'C:\\Users\\NamrataT\\Desktop\\CS_1\\Dataset\\airbnb-recruiting-new-user-bookings\\models\\clf_xgb')"
   ]
  },
  {
   "cell_type": "code",
   "execution_count": 62,
   "metadata": {},
   "outputs": [],
   "source": [
    "pred_Y_Test = clf_xgb.predict_proba(X_Test_vec)"
   ]
  },
  {
   "cell_type": "code",
   "execution_count": 65,
   "metadata": {},
   "outputs": [],
   "source": [
    "#https://www.kaggle.com/krutarthhd/airbnb-eda-and-xgboost\n",
    "\n",
    "ids = []\n",
    "countries = []\n",
    "\n",
    "# Taking the 5 classes with highest probabilities\n",
    "\n",
    "for i in range(len(test_id)-1):\n",
    "    idx = test_id[i]\n",
    "    ids += [idx] * 5\n",
    "    countries += le.inverse_transform(np.argsort(pred_Y_Test[i])[::-1][:5]).tolist()\n",
    "    \n",
    "# Generate submission\n",
    "\n",
    "sub = pd.DataFrame({\"id\" : ids,\"country\" : countries})\n",
    "\n",
    "sub.to_csv(r'C:\\Users\\NamrataT\\Desktop\\CS_1\\Dataset\\airbnb-recruiting-new-user-bookings\\submission\\xgb_submission.csv', index = False)"
   ]
  },
  {
   "cell_type": "markdown",
   "metadata": {},
   "source": [
    "#### 4. Naive Bayes Model :"
   ]
  },
  {
   "cell_type": "code",
   "execution_count": 167,
   "metadata": {},
   "outputs": [],
   "source": [
    "from sklearn.naive_bayes import MultinomialNB"
   ]
  },
  {
   "cell_type": "code",
   "execution_count": 173,
   "metadata": {},
   "outputs": [],
   "source": [
    "params =  {'alpha':[0.00001,0.0001,0.001,0.01,0.1,1,10,100]}\n",
    "\n",
    "nb = clf = MultinomialNB()\n",
    "clf_nb = RandomizedSearchCV(nb, params, verbose=10, n_iter=3 ,n_jobs=-1,scoring=ndcg_scorer)"
   ]
  },
  {
   "cell_type": "code",
   "execution_count": 174,
   "metadata": {},
   "outputs": [
    {
     "name": "stdout",
     "output_type": "stream",
     "text": [
      "Fitting 3 folds for each of 3 candidates, totalling 9 fits\n"
     ]
    },
    {
     "name": "stderr",
     "output_type": "stream",
     "text": [
      "[Parallel(n_jobs=-1)]: Using backend LokyBackend with 4 concurrent workers.\n",
      "[Parallel(n_jobs=-1)]: Done   3 out of   9 | elapsed:   29.7s remaining:   59.5s\n",
      "[Parallel(n_jobs=-1)]: Done   4 out of   9 | elapsed:   29.7s remaining:   37.2s\n",
      "[Parallel(n_jobs=-1)]: Done   5 out of   9 | elapsed:   53.4s remaining:   42.7s\n",
      "[Parallel(n_jobs=-1)]: Done   6 out of   9 | elapsed:   53.5s remaining:   26.7s\n",
      "[Parallel(n_jobs=-1)]: Done   7 out of   9 | elapsed:   53.6s remaining:   15.2s\n",
      "[Parallel(n_jobs=-1)]: Done   9 out of   9 | elapsed:  1.1min remaining:    0.0s\n",
      "[Parallel(n_jobs=-1)]: Done   9 out of   9 | elapsed:  1.1min finished\n"
     ]
    },
    {
     "data": {
      "text/plain": [
       "RandomizedSearchCV(cv='warn', error_score='raise-deprecating',\n",
       "          estimator=MultinomialNB(alpha=1.0, class_prior=None, fit_prior=True),\n",
       "          fit_params=None, iid='warn', n_iter=3, n_jobs=-1,\n",
       "          param_distributions={'alpha': [1e-05, 0.0001, 0.001, 0.01, 0.1, 1, 10, 100]},\n",
       "          pre_dispatch='2*n_jobs', random_state=None, refit=True,\n",
       "          return_train_score='warn',\n",
       "          scoring=make_scorer(ndcg_score, needs_proba=True, k=5),\n",
       "          verbose=10)"
      ]
     },
     "execution_count": 174,
     "metadata": {},
     "output_type": "execute_result"
    }
   ],
   "source": [
    "clf_nb.fit(X_Train_vec,Y_Train)"
   ]
  },
  {
   "cell_type": "code",
   "execution_count": 175,
   "metadata": {},
   "outputs": [
    {
     "data": {
      "text/plain": [
       "MultinomialNB(alpha=10, class_prior=None, fit_prior=True)"
      ]
     },
     "execution_count": 175,
     "metadata": {},
     "output_type": "execute_result"
    }
   ],
   "source": [
    "clf_nb.best_estimator_"
   ]
  },
  {
   "cell_type": "code",
   "execution_count": 177,
   "metadata": {},
   "outputs": [],
   "source": [
    "pred_Y_Train_nb = clf_nb.predict_proba(X_Train_vec)\n",
    "pred_Y_CV_nb = clf_nb.predict_proba(X_Cv_vec)\n",
    "pred_Y_Test_nb = clf_nb.predict_proba(X_Test_vec)"
   ]
  },
  {
   "cell_type": "code",
   "execution_count": 179,
   "metadata": {},
   "outputs": [
    {
     "name": "stdout",
     "output_type": "stream",
     "text": [
      "Train NDCG for NB :  0.5507672279091614\n",
      "CV NDCG for NB :  0.546901162858761\n"
     ]
    }
   ],
   "source": [
    "#NDCG Score:\n",
    "\n",
    "train_ndcg_nb = ndcg_score(Y_Train, pred_Y_Train_nb, k=5)\n",
    "print('Train NDCG for NB : ',train_ndcg_nb)\n",
    "cv_ndcg_nb = ndcg_score(Y_Cv, pred_Y_CV_nb, k=5)\n",
    "print('CV NDCG for NB : ',cv_ndcg_nb)"
   ]
  },
  {
   "cell_type": "code",
   "execution_count": 180,
   "metadata": {},
   "outputs": [],
   "source": [
    "#https://www.kaggle.com/krutarthhd/airbnb-eda-and-xgboost\n",
    "\n",
    "ids = []\n",
    "countries = []\n",
    "\n",
    "# Taking the 5 classes with highest probabilities\n",
    "\n",
    "for i in range(len(test_id)-1):\n",
    "    idx = test_id[i]\n",
    "    ids += [idx] * 5\n",
    "    countries += le.inverse_transform(np.argsort(pred_Y_Test_nb[i])[::-1][:5]).tolist()\n",
    "    \n",
    "# Generate submission\n",
    "\n",
    "sub = pd.DataFrame({\"id\" : ids,\"country\" : countries})\n",
    "\n",
    "sub.to_csv(r'C:\\Users\\NamrataT\\Desktop\\CS_1\\Dataset\\airbnb-recruiting-new-user-bookings\\submission\\nb_submission.csv', index = False)"
   ]
  },
  {
   "cell_type": "markdown",
   "metadata": {},
   "source": [
    "#### 5. Fitting LightGBM Model on best 80% features dataset:"
   ]
  },
  {
   "cell_type": "code",
   "execution_count": 181,
   "metadata": {},
   "outputs": [],
   "source": [
    "import lightgbm as lgb"
   ]
  },
  {
   "cell_type": "code",
   "execution_count": 195,
   "metadata": {},
   "outputs": [
    {
     "data": {
      "text/plain": [
       "RandomizedSearchCV(cv=3, error_score='raise-deprecating',\n",
       "          estimator=LGBMClassifier(boosting_type='gbdt', class_weight=None, colsample_bytree=1.0,\n",
       "        importance_type='split', learning_rate=0.1, max_depth=-1,\n",
       "        min_child_samples=20, min_child_weight=0.001, min_split_gain=0.0,\n",
       "        n_estimators=100, n_jobs=-1, num_leaves=31, objective='multiclass',\n",
       "        random_state=0, reg_alpha=0.0, reg_lambda=0.0, silent=True,\n",
       "        subsample=1.0, subsample_for_bin=200000, subsample_freq=0),\n",
       "          fit_params=None, iid='warn', n_iter=5, n_jobs=None,\n",
       "          param_distributions={'max_depth': [5, 10, 15, 20, 25, 30], 'n_estimators': [100, 200, 300, 500, 700, 800], 'num_leaves': [20, 30, 40, 50], 'min_data_in_leaf': [5, 10, 15, 20], 'learning_rate': [0.1, 0.01]},\n",
       "          pre_dispatch='2*n_jobs', random_state=0, refit=True,\n",
       "          return_train_score=True,\n",
       "          scoring=make_scorer(ndcg_score, needs_proba=True, k=5),\n",
       "          verbose=0)"
      ]
     },
     "execution_count": 195,
     "metadata": {},
     "output_type": "execute_result"
    }
   ],
   "source": [
    "LGBM_clf = lgb.LGBMClassifier(random_state=0, n_jobs=-1, objective='multiclass')\n",
    "\n",
    "#Hyperparameter Tuning\n",
    "param_dict = {'max_depth': [5, 10, 15, 20, 25, 30], 'n_estimators' : [100, 200, 300, 500, 700, 800], 'num_leaves' : [20,30,40,50],'min_data_in_leaf' : [5, 10, 15, 20], 'learning_rate':[0.1, 0.01]}\n",
    "\n",
    "LGBM_random_clf = RandomizedSearchCV(LGBM_clf, param_distributions=param_dict,\n",
    "                                          n_iter=5,cv=3,scoring=ndcg_scorer,random_state=0, return_train_score=True)\n",
    "\n",
    "LGBM_random_clf.fit(X_Train_vec_new, Y_Train)"
   ]
  },
  {
   "cell_type": "code",
   "execution_count": 196,
   "metadata": {},
   "outputs": [
    {
     "data": {
      "text/plain": [
       "['C:\\\\Users\\\\NamrataT\\\\Desktop\\\\CS_1\\\\Dataset\\\\airbnb-recruiting-new-user-bookings\\\\models\\\\LGBM_random_clf']"
      ]
     },
     "execution_count": 196,
     "metadata": {},
     "output_type": "execute_result"
    }
   ],
   "source": [
    "joblib.dump(LGBM_random_clf,r'C:\\Users\\NamrataT\\Desktop\\CS_1\\Dataset\\airbnb-recruiting-new-user-bookings\\models\\LGBM_random_clf') "
   ]
  },
  {
   "cell_type": "code",
   "execution_count": 199,
   "metadata": {},
   "outputs": [],
   "source": [
    "pred_Y_Train_lgbm = LGBM_random_clf.predict_proba(X_Train_vec_new)\n",
    "#pred_Y_CV_lgbm = LGBM_random_clf.predict_proba(X_Cv_vec_new)"
   ]
  },
  {
   "cell_type": "code",
   "execution_count": 201,
   "metadata": {},
   "outputs": [
    {
     "name": "stdout",
     "output_type": "stream",
     "text": [
      "Train NDCG for LGBM :  0.8766147650541029\n"
     ]
    }
   ],
   "source": [
    "train_ndcg_lgbm = ndcg_score(Y_Train, pred_Y_Train_lgbm, k=5)\n",
    "print('Train NDCG for LGBM : ',train_ndcg_lgbm)"
   ]
  },
  {
   "cell_type": "code",
   "execution_count": 197,
   "metadata": {},
   "outputs": [],
   "source": [
    "pred_Y_Test_lgbm = LGBM_random_clf.predict_proba(X_Test_vec_new)"
   ]
  },
  {
   "cell_type": "code",
   "execution_count": 198,
   "metadata": {},
   "outputs": [],
   "source": [
    "#https://www.kaggle.com/krutarthhd/airbnb-eda-and-xgboost\n",
    "\n",
    "ids = []\n",
    "countries = []\n",
    "\n",
    "# Taking the 5 classes with highest probabilities\n",
    "\n",
    "for i in range(len(test_id)-1):\n",
    "    idx = test_id[i]\n",
    "    ids += [idx] * 5\n",
    "    countries += le.inverse_transform(np.argsort(pred_Y_Test_lgbm[i])[::-1][:5]).tolist()\n",
    "    \n",
    "# Generate submission\n",
    "\n",
    "sub = pd.DataFrame({\"id\" : ids,\"country\" : countries})\n",
    "\n",
    "sub.to_csv(r'C:\\Users\\NamrataT\\Desktop\\CS_1\\Dataset\\airbnb-recruiting-new-user-bookings\\submission\\lgbm_submission.csv', index = False)"
   ]
  },
  {
   "cell_type": "code",
   "execution_count": null,
   "metadata": {},
   "outputs": [],
   "source": []
  },
  {
   "cell_type": "markdown",
   "metadata": {},
   "source": [
    "### SUMMARY :"
   ]
  },
  {
   "cell_type": "code",
   "execution_count": 1,
   "metadata": {},
   "outputs": [],
   "source": [
    "# Importing Pretty Table\n",
    "from prettytable import PrettyTable"
   ]
  },
  {
   "cell_type": "code",
   "execution_count": 13,
   "metadata": {},
   "outputs": [
    {
     "name": "stdout",
     "output_type": "stream",
     "text": [
      "+----------------------------------+------------+-------------------------+\n",
      "|              Model               | Train NDCG | Test NDCG (From Kaggle) |\n",
      "+----------------------------------+------------+-------------------------+\n",
      "|       Logistic Regression        |   0.8164   |         0.83252         |\n",
      "| Random Forest with 658 features  |   0.9359   |         0.87883         |\n",
      "| Random Forest with 5172 features |   0.9203   |         0.87658         |\n",
      "|             XGBoost              |   0.9103   |         0.76275         |\n",
      "|           Naive Bayes            |   0.5507   |         0.82241         |\n",
      "|            LIGHT GBM             |   0.8766   |         0.77386         |\n",
      "+----------------------------------+------------+-------------------------+\n"
     ]
    }
   ],
   "source": [
    "x = PrettyTable()\n",
    "x.field_names = ['Model', 'Train NDCG','Test NDCG (From Kaggle)']\n",
    "x.add_row(['Logistic Regression','0.8164','0.83252'])\n",
    "x.add_row(['Random Forest with 658 features','0.9359','0.87883'])\n",
    "x.add_row(['Random Forest with 5172 features','0.9203','0.87658'])\n",
    "x.add_row(['XGBoost','0.9103','0.76275'])\n",
    "x.add_row(['Naive Bayes','0.5507','0.82241'])\n",
    "x.add_row(['LIGHT GBM','0.8766','0.77386'])\n",
    "\n",
    "print(x)"
   ]
  },
  {
   "cell_type": "markdown",
   "metadata": {},
   "source": [
    "In this notebook we have applied different ML models on the dataset that we have proccessed earlier. We have fit Logistic Regression, Naive Bayes, Random Forest and GBDT Classifiers like XGBoost and LightGBM Classifiers. The best test result came from Random Forest model. The worst result came from XGBoost model, surprisingly. We have tuned the hyper-parameters for all the models and have plotted the heatmap to see how the tuning has worked. We have also plotted the feature importances for RF and XGBoost models.\n",
    "\n",
    "The best score came as 0.87838."
   ]
  }
 ],
 "metadata": {
  "kernelspec": {
   "display_name": "Python 3",
   "language": "python",
   "name": "python3"
  },
  "language_info": {
   "codemirror_mode": {
    "name": "ipython",
    "version": 3
   },
   "file_extension": ".py",
   "mimetype": "text/x-python",
   "name": "python",
   "nbconvert_exporter": "python",
   "pygments_lexer": "ipython3",
   "version": "3.6.5"
  }
 },
 "nbformat": 4,
 "nbformat_minor": 2
}
