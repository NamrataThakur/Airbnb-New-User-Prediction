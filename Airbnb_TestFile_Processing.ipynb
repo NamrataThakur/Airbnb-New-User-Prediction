{
 "cells": [
  {
   "cell_type": "markdown",
   "metadata": {},
   "source": [
    "### PREPARING THE TEST DATASET :"
   ]
  },
  {
   "cell_type": "markdown",
   "metadata": {},
   "source": [
    "##### Importing the libraries :"
   ]
  },
  {
   "cell_type": "code",
   "execution_count": 53,
   "metadata": {},
   "outputs": [],
   "source": [
    "import pandas as pd\n",
    "import numpy as np\n",
    "import zipfile\n",
    "import os\n",
    "import seaborn as sns\n",
    "import matplotlib.pyplot as plt\n",
    "import warnings\n",
    "warnings.filterwarnings(\"ignore\")\n",
    "import re\n",
    "from wordcloud import WordCloud\n",
    "from tqdm import tqdm\n",
    "from datetime import datetime, date"
   ]
  },
  {
   "cell_type": "code",
   "execution_count": 54,
   "metadata": {},
   "outputs": [],
   "source": [
    "from sklearn.feature_extraction.text import TfidfVectorizer\n",
    "from sklearn.feature_extraction.text import CountVectorizer\n",
    "from scipy.sparse import coo_matrix\n",
    "from scipy.sparse import hstack\n",
    "from scipy.sparse import vstack\n",
    "from scipy import sparse\n",
    "from scipy.sparse import csr_matrix\n",
    "from sklearn.preprocessing import OneHotEncoder\n",
    "import pickle\n",
    "import joblib"
   ]
  },
  {
   "cell_type": "markdown",
   "metadata": {},
   "source": [
    "##### Reading the test file :"
   ]
  },
  {
   "cell_type": "code",
   "execution_count": 55,
   "metadata": {},
   "outputs": [
    {
     "name": "stdout",
     "output_type": "stream",
     "text": [
      "Shape of the Test Data :  (62096, 15)\n",
      "Columns of Test Data :  Index(['id', 'date_account_created', 'timestamp_first_active',\n",
      "       'date_first_booking', 'gender', 'age', 'signup_method', 'signup_flow',\n",
      "       'language', 'affiliate_channel', 'affiliate_provider',\n",
      "       'first_affiliate_tracked', 'signup_app', 'first_device_type',\n",
      "       'first_browser'],\n",
      "      dtype='object')\n"
     ]
    },
    {
     "data": {
      "text/html": [
       "<div>\n",
       "<style scoped>\n",
       "    .dataframe tbody tr th:only-of-type {\n",
       "        vertical-align: middle;\n",
       "    }\n",
       "\n",
       "    .dataframe tbody tr th {\n",
       "        vertical-align: top;\n",
       "    }\n",
       "\n",
       "    .dataframe thead th {\n",
       "        text-align: right;\n",
       "    }\n",
       "</style>\n",
       "<table border=\"1\" class=\"dataframe\">\n",
       "  <thead>\n",
       "    <tr style=\"text-align: right;\">\n",
       "      <th></th>\n",
       "      <th>id</th>\n",
       "      <th>date_account_created</th>\n",
       "      <th>timestamp_first_active</th>\n",
       "      <th>date_first_booking</th>\n",
       "      <th>gender</th>\n",
       "      <th>age</th>\n",
       "      <th>signup_method</th>\n",
       "      <th>signup_flow</th>\n",
       "      <th>language</th>\n",
       "      <th>affiliate_channel</th>\n",
       "      <th>affiliate_provider</th>\n",
       "      <th>first_affiliate_tracked</th>\n",
       "      <th>signup_app</th>\n",
       "      <th>first_device_type</th>\n",
       "      <th>first_browser</th>\n",
       "    </tr>\n",
       "  </thead>\n",
       "  <tbody>\n",
       "    <tr>\n",
       "      <th>0</th>\n",
       "      <td>5uwns89zht</td>\n",
       "      <td>2014-07-01</td>\n",
       "      <td>20140701000006</td>\n",
       "      <td>NaN</td>\n",
       "      <td>FEMALE</td>\n",
       "      <td>35.0</td>\n",
       "      <td>facebook</td>\n",
       "      <td>0</td>\n",
       "      <td>en</td>\n",
       "      <td>direct</td>\n",
       "      <td>direct</td>\n",
       "      <td>untracked</td>\n",
       "      <td>Moweb</td>\n",
       "      <td>iPhone</td>\n",
       "      <td>Mobile Safari</td>\n",
       "    </tr>\n",
       "    <tr>\n",
       "      <th>1</th>\n",
       "      <td>jtl0dijy2j</td>\n",
       "      <td>2014-07-01</td>\n",
       "      <td>20140701000051</td>\n",
       "      <td>NaN</td>\n",
       "      <td>-unknown-</td>\n",
       "      <td>NaN</td>\n",
       "      <td>basic</td>\n",
       "      <td>0</td>\n",
       "      <td>en</td>\n",
       "      <td>direct</td>\n",
       "      <td>direct</td>\n",
       "      <td>untracked</td>\n",
       "      <td>Moweb</td>\n",
       "      <td>iPhone</td>\n",
       "      <td>Mobile Safari</td>\n",
       "    </tr>\n",
       "    <tr>\n",
       "      <th>2</th>\n",
       "      <td>xx0ulgorjt</td>\n",
       "      <td>2014-07-01</td>\n",
       "      <td>20140701000148</td>\n",
       "      <td>NaN</td>\n",
       "      <td>-unknown-</td>\n",
       "      <td>NaN</td>\n",
       "      <td>basic</td>\n",
       "      <td>0</td>\n",
       "      <td>en</td>\n",
       "      <td>direct</td>\n",
       "      <td>direct</td>\n",
       "      <td>linked</td>\n",
       "      <td>Web</td>\n",
       "      <td>Windows Desktop</td>\n",
       "      <td>Chrome</td>\n",
       "    </tr>\n",
       "    <tr>\n",
       "      <th>3</th>\n",
       "      <td>6c6puo6ix0</td>\n",
       "      <td>2014-07-01</td>\n",
       "      <td>20140701000215</td>\n",
       "      <td>NaN</td>\n",
       "      <td>-unknown-</td>\n",
       "      <td>NaN</td>\n",
       "      <td>basic</td>\n",
       "      <td>0</td>\n",
       "      <td>en</td>\n",
       "      <td>direct</td>\n",
       "      <td>direct</td>\n",
       "      <td>linked</td>\n",
       "      <td>Web</td>\n",
       "      <td>Windows Desktop</td>\n",
       "      <td>IE</td>\n",
       "    </tr>\n",
       "    <tr>\n",
       "      <th>4</th>\n",
       "      <td>czqhjk3yfe</td>\n",
       "      <td>2014-07-01</td>\n",
       "      <td>20140701000305</td>\n",
       "      <td>NaN</td>\n",
       "      <td>-unknown-</td>\n",
       "      <td>NaN</td>\n",
       "      <td>basic</td>\n",
       "      <td>0</td>\n",
       "      <td>en</td>\n",
       "      <td>direct</td>\n",
       "      <td>direct</td>\n",
       "      <td>untracked</td>\n",
       "      <td>Web</td>\n",
       "      <td>Mac Desktop</td>\n",
       "      <td>Safari</td>\n",
       "    </tr>\n",
       "  </tbody>\n",
       "</table>\n",
       "</div>"
      ],
      "text/plain": [
       "           id date_account_created  timestamp_first_active  \\\n",
       "0  5uwns89zht           2014-07-01          20140701000006   \n",
       "1  jtl0dijy2j           2014-07-01          20140701000051   \n",
       "2  xx0ulgorjt           2014-07-01          20140701000148   \n",
       "3  6c6puo6ix0           2014-07-01          20140701000215   \n",
       "4  czqhjk3yfe           2014-07-01          20140701000305   \n",
       "\n",
       "   date_first_booking     gender   age signup_method  signup_flow language  \\\n",
       "0                 NaN     FEMALE  35.0      facebook            0       en   \n",
       "1                 NaN  -unknown-   NaN         basic            0       en   \n",
       "2                 NaN  -unknown-   NaN         basic            0       en   \n",
       "3                 NaN  -unknown-   NaN         basic            0       en   \n",
       "4                 NaN  -unknown-   NaN         basic            0       en   \n",
       "\n",
       "  affiliate_channel affiliate_provider first_affiliate_tracked signup_app  \\\n",
       "0            direct             direct               untracked      Moweb   \n",
       "1            direct             direct               untracked      Moweb   \n",
       "2            direct             direct                  linked        Web   \n",
       "3            direct             direct                  linked        Web   \n",
       "4            direct             direct               untracked        Web   \n",
       "\n",
       "  first_device_type  first_browser  \n",
       "0            iPhone  Mobile Safari  \n",
       "1            iPhone  Mobile Safari  \n",
       "2   Windows Desktop         Chrome  \n",
       "3   Windows Desktop             IE  \n",
       "4       Mac Desktop         Safari  "
      ]
     },
     "execution_count": 55,
     "metadata": {},
     "output_type": "execute_result"
    }
   ],
   "source": [
    "test_df = pd.read_csv(r'C:\\Users\\NamrataT\\Desktop\\CS_1\\Dataset\\airbnb-recruiting-new-user-bookings\\test_users.csv\\test_users.csv')\n",
    "print('Shape of the Test Data : ',test_df.shape)\n",
    "print('Columns of Test Data : ', test_df.columns)\n",
    "test_df.head()"
   ]
  },
  {
   "cell_type": "markdown",
   "metadata": {},
   "source": [
    "##### Reading the proccessed session data :"
   ]
  },
  {
   "cell_type": "code",
   "execution_count": 56,
   "metadata": {},
   "outputs": [
    {
     "name": "stdout",
     "output_type": "stream",
     "text": [
      "Shape of the Train Data :  (135483, 13)\n",
      "Columns of Train Data :  Index(['user_id', 'action', 'action_type', 'action_detail', 'device_type',\n",
      "       'secs_elapsed', 'unique_action', 'unique_action_type',\n",
      "       'unique_action_detail', 'unique_device_type', 'Total_secs_elapsed',\n",
      "       'Mean_secs_elapsed', 'session_count'],\n",
      "      dtype='object')\n"
     ]
    },
    {
     "data": {
      "text/html": [
       "<div>\n",
       "<style scoped>\n",
       "    .dataframe tbody tr th:only-of-type {\n",
       "        vertical-align: middle;\n",
       "    }\n",
       "\n",
       "    .dataframe tbody tr th {\n",
       "        vertical-align: top;\n",
       "    }\n",
       "\n",
       "    .dataframe thead th {\n",
       "        text-align: right;\n",
       "    }\n",
       "</style>\n",
       "<table border=\"1\" class=\"dataframe\">\n",
       "  <thead>\n",
       "    <tr style=\"text-align: right;\">\n",
       "      <th></th>\n",
       "      <th>user_id</th>\n",
       "      <th>action</th>\n",
       "      <th>action_type</th>\n",
       "      <th>action_detail</th>\n",
       "      <th>device_type</th>\n",
       "      <th>secs_elapsed</th>\n",
       "      <th>unique_action</th>\n",
       "      <th>unique_action_type</th>\n",
       "      <th>unique_action_detail</th>\n",
       "      <th>unique_device_type</th>\n",
       "      <th>Total_secs_elapsed</th>\n",
       "      <th>Mean_secs_elapsed</th>\n",
       "      <th>session_count</th>\n",
       "    </tr>\n",
       "  </thead>\n",
       "  <tbody>\n",
       "    <tr>\n",
       "      <th>0</th>\n",
       "      <td>00023iyk9l</td>\n",
       "      <td>['index', 'dashboard', 'header_userpic', 'dash...</td>\n",
       "      <td>['view', 'view', 'data', 'view', 'partner_call...</td>\n",
       "      <td>['view_search_results', 'dashboard', 'header_u...</td>\n",
       "      <td>['Mac Desktop', 'Mac Desktop', 'Mac Desktop', ...</td>\n",
       "      <td>[20438.0, 787.0, 850.0, 934.0, nan, 129817.0, ...</td>\n",
       "      <td>requested,personalize,header_userpic,pending,n...</td>\n",
       "      <td>data,partner_callback,click,message_post,na,vi...</td>\n",
       "      <td>wishlist_content_update,message_post,header_us...</td>\n",
       "      <td>Mac Desktop,iPhone</td>\n",
       "      <td>867896.0</td>\n",
       "      <td>21697.400000</td>\n",
       "      <td>40</td>\n",
       "    </tr>\n",
       "    <tr>\n",
       "      <th>1</th>\n",
       "      <td>0010k6l0om</td>\n",
       "      <td>['search_results', 'show', 'personalize', 'sho...</td>\n",
       "      <td>['click', 'view', 'data', 'na', 'click', 'clic...</td>\n",
       "      <td>['view_search_results', 'p3', 'wishlist_conten...</td>\n",
       "      <td>['Mac Desktop', 'Mac Desktop', 'Mac Desktop', ...</td>\n",
       "      <td>[1708.0, 21260.0, 1223.0, 26.0, 847.0, 1230.0,...</td>\n",
       "      <td>personalize,header_userpic,show,callback,index...</td>\n",
       "      <td>data,partner_callback,click,na,-unknown-,view</td>\n",
       "      <td>wishlist_content_update,header_userpic,na,-unk...</td>\n",
       "      <td>Mac Desktop</td>\n",
       "      <td>586543.0</td>\n",
       "      <td>9310.206349</td>\n",
       "      <td>63</td>\n",
       "    </tr>\n",
       "    <tr>\n",
       "      <th>2</th>\n",
       "      <td>001wyh0pz8</td>\n",
       "      <td>['search', 'search', 'search', 'show', 'social...</td>\n",
       "      <td>['click', 'click', 'click', 'view', 'data', '-...</td>\n",
       "      <td>['view_search_results', 'view_search_results',...</td>\n",
       "      <td>['Android App Unknown Phone/Tablet', 'Android ...</td>\n",
       "      <td>[622.0, 1813.0, 1507.0, 6327.0, 927.0, 142.0, ...</td>\n",
       "      <td>create,search,active,social_connections,show,i...</td>\n",
       "      <td>data,click,na,-unknown-,view,submit</td>\n",
       "      <td>user_profile,user_social_connections,update_us...</td>\n",
       "      <td>Android App Unknown Phone/Tablet</td>\n",
       "      <td>282965.0</td>\n",
       "      <td>3144.055556</td>\n",
       "      <td>90</td>\n",
       "    </tr>\n",
       "    <tr>\n",
       "      <th>3</th>\n",
       "      <td>0028jgx1x1</td>\n",
       "      <td>['show', 'reviews', 'show', 'search', 'show', ...</td>\n",
       "      <td>['view', 'data', 'view', 'click', 'view', 'cli...</td>\n",
       "      <td>['user_profile', 'listing_reviews', 'p3', 'vie...</td>\n",
       "      <td>['-unknown-', '-unknown-', '-unknown-', '-unkn...</td>\n",
       "      <td>[6162.0, 75.0, 86.0, 13710.0, 25217.0, 10989.0...</td>\n",
       "      <td>create,search,active,show,reviews</td>\n",
       "      <td>data,click,-unknown-,view,submit</td>\n",
       "      <td>p3,create_user,-unknown-,user_profile,listing_...</td>\n",
       "      <td>Android Phone,-unknown-</td>\n",
       "      <td>297010.0</td>\n",
       "      <td>9580.967742</td>\n",
       "      <td>31</td>\n",
       "    </tr>\n",
       "    <tr>\n",
       "      <th>4</th>\n",
       "      <td>002qnbzfs5</td>\n",
       "      <td>['social_connections', 'payment_methods', 'cre...</td>\n",
       "      <td>['data', '-unknown-', '-unknown-', 'view', 'da...</td>\n",
       "      <td>['user_social_connections', '-unknown-', '-unk...</td>\n",
       "      <td>['iPhone', 'iPhone', 'iPhone', 'iPhone', 'iPho...</td>\n",
       "      <td>[17135.0, 711.0, 274.0, 179.0, 483.0, 1.0, 782...</td>\n",
       "      <td>click,10,header_userpic,push_notification_call...</td>\n",
       "      <td>data,click,message_post,na,-unknown-,view,book...</td>\n",
       "      <td>header_userpic,confirm_email_link,book_it,mess...</td>\n",
       "      <td>iPhone,-unknown-</td>\n",
       "      <td>6487080.0</td>\n",
       "      <td>8221.901141</td>\n",
       "      <td>789</td>\n",
       "    </tr>\n",
       "  </tbody>\n",
       "</table>\n",
       "</div>"
      ],
      "text/plain": [
       "      user_id                                             action  \\\n",
       "0  00023iyk9l  ['index', 'dashboard', 'header_userpic', 'dash...   \n",
       "1  0010k6l0om  ['search_results', 'show', 'personalize', 'sho...   \n",
       "2  001wyh0pz8  ['search', 'search', 'search', 'show', 'social...   \n",
       "3  0028jgx1x1  ['show', 'reviews', 'show', 'search', 'show', ...   \n",
       "4  002qnbzfs5  ['social_connections', 'payment_methods', 'cre...   \n",
       "\n",
       "                                         action_type  \\\n",
       "0  ['view', 'view', 'data', 'view', 'partner_call...   \n",
       "1  ['click', 'view', 'data', 'na', 'click', 'clic...   \n",
       "2  ['click', 'click', 'click', 'view', 'data', '-...   \n",
       "3  ['view', 'data', 'view', 'click', 'view', 'cli...   \n",
       "4  ['data', '-unknown-', '-unknown-', 'view', 'da...   \n",
       "\n",
       "                                       action_detail  \\\n",
       "0  ['view_search_results', 'dashboard', 'header_u...   \n",
       "1  ['view_search_results', 'p3', 'wishlist_conten...   \n",
       "2  ['view_search_results', 'view_search_results',...   \n",
       "3  ['user_profile', 'listing_reviews', 'p3', 'vie...   \n",
       "4  ['user_social_connections', '-unknown-', '-unk...   \n",
       "\n",
       "                                         device_type  \\\n",
       "0  ['Mac Desktop', 'Mac Desktop', 'Mac Desktop', ...   \n",
       "1  ['Mac Desktop', 'Mac Desktop', 'Mac Desktop', ...   \n",
       "2  ['Android App Unknown Phone/Tablet', 'Android ...   \n",
       "3  ['-unknown-', '-unknown-', '-unknown-', '-unkn...   \n",
       "4  ['iPhone', 'iPhone', 'iPhone', 'iPhone', 'iPho...   \n",
       "\n",
       "                                        secs_elapsed  \\\n",
       "0  [20438.0, 787.0, 850.0, 934.0, nan, 129817.0, ...   \n",
       "1  [1708.0, 21260.0, 1223.0, 26.0, 847.0, 1230.0,...   \n",
       "2  [622.0, 1813.0, 1507.0, 6327.0, 927.0, 142.0, ...   \n",
       "3  [6162.0, 75.0, 86.0, 13710.0, 25217.0, 10989.0...   \n",
       "4  [17135.0, 711.0, 274.0, 179.0, 483.0, 1.0, 782...   \n",
       "\n",
       "                                       unique_action  \\\n",
       "0  requested,personalize,header_userpic,pending,n...   \n",
       "1  personalize,header_userpic,show,callback,index...   \n",
       "2  create,search,active,social_connections,show,i...   \n",
       "3                  create,search,active,show,reviews   \n",
       "4  click,10,header_userpic,push_notification_call...   \n",
       "\n",
       "                                  unique_action_type  \\\n",
       "0  data,partner_callback,click,message_post,na,vi...   \n",
       "1      data,partner_callback,click,na,-unknown-,view   \n",
       "2                data,click,na,-unknown-,view,submit   \n",
       "3                   data,click,-unknown-,view,submit   \n",
       "4  data,click,message_post,na,-unknown-,view,book...   \n",
       "\n",
       "                                unique_action_detail  \\\n",
       "0  wishlist_content_update,message_post,header_us...   \n",
       "1  wishlist_content_update,header_userpic,na,-unk...   \n",
       "2  user_profile,user_social_connections,update_us...   \n",
       "3  p3,create_user,-unknown-,user_profile,listing_...   \n",
       "4  header_userpic,confirm_email_link,book_it,mess...   \n",
       "\n",
       "                 unique_device_type  Total_secs_elapsed  Mean_secs_elapsed  \\\n",
       "0                Mac Desktop,iPhone            867896.0       21697.400000   \n",
       "1                       Mac Desktop            586543.0        9310.206349   \n",
       "2  Android App Unknown Phone/Tablet            282965.0        3144.055556   \n",
       "3           Android Phone,-unknown-            297010.0        9580.967742   \n",
       "4                  iPhone,-unknown-           6487080.0        8221.901141   \n",
       "\n",
       "   session_count  \n",
       "0             40  \n",
       "1             63  \n",
       "2             90  \n",
       "3             31  \n",
       "4            789  "
      ]
     },
     "execution_count": 56,
     "metadata": {},
     "output_type": "execute_result"
    }
   ],
   "source": [
    "session_df_unq_rec1 = pd.read_csv(r'C:\\Users\\NamrataT\\Desktop\\CS_1\\Dataset\\airbnb-recruiting-new-user-bookings\\sessions.csv\\sessions_preprocessed1.csv')\n",
    "print('Shape of the Train Data : ',session_df_unq_rec1.shape)\n",
    "print('Columns of Train Data : ', session_df_unq_rec1.columns)\n",
    "session_df_unq_rec1.head()"
   ]
  },
  {
   "cell_type": "markdown",
   "metadata": {},
   "source": [
    "##### Merging the test and session data:"
   ]
  },
  {
   "cell_type": "code",
   "execution_count": 57,
   "metadata": {},
   "outputs": [
    {
     "data": {
      "text/html": [
       "<div>\n",
       "<style scoped>\n",
       "    .dataframe tbody tr th:only-of-type {\n",
       "        vertical-align: middle;\n",
       "    }\n",
       "\n",
       "    .dataframe tbody tr th {\n",
       "        vertical-align: top;\n",
       "    }\n",
       "\n",
       "    .dataframe thead th {\n",
       "        text-align: right;\n",
       "    }\n",
       "</style>\n",
       "<table border=\"1\" class=\"dataframe\">\n",
       "  <thead>\n",
       "    <tr style=\"text-align: right;\">\n",
       "      <th></th>\n",
       "      <th>id</th>\n",
       "      <th>date_account_created</th>\n",
       "      <th>timestamp_first_active</th>\n",
       "      <th>date_first_booking</th>\n",
       "      <th>gender</th>\n",
       "      <th>age</th>\n",
       "      <th>signup_method</th>\n",
       "      <th>signup_flow</th>\n",
       "      <th>language</th>\n",
       "      <th>affiliate_channel</th>\n",
       "      <th>...</th>\n",
       "      <th>action_detail</th>\n",
       "      <th>device_type</th>\n",
       "      <th>secs_elapsed</th>\n",
       "      <th>unique_action</th>\n",
       "      <th>unique_action_type</th>\n",
       "      <th>unique_action_detail</th>\n",
       "      <th>unique_device_type</th>\n",
       "      <th>Total_secs_elapsed</th>\n",
       "      <th>Mean_secs_elapsed</th>\n",
       "      <th>session_count</th>\n",
       "    </tr>\n",
       "  </thead>\n",
       "  <tbody>\n",
       "    <tr>\n",
       "      <th>0</th>\n",
       "      <td>5uwns89zht</td>\n",
       "      <td>2014-07-01</td>\n",
       "      <td>20140701000006</td>\n",
       "      <td>NaN</td>\n",
       "      <td>FEMALE</td>\n",
       "      <td>35.0</td>\n",
       "      <td>facebook</td>\n",
       "      <td>0</td>\n",
       "      <td>en</td>\n",
       "      <td>direct</td>\n",
       "      <td>...</td>\n",
       "      <td>['user_profile', 'view_search_results', 'view_...</td>\n",
       "      <td>['-unknown-', '-unknown-', '-unknown-', '-unkn...</td>\n",
       "      <td>[79.0, 17962.0, 64883.0, 31180.0, nan, 1097.0,...</td>\n",
       "      <td>search,active,show,authenticate,reviews</td>\n",
       "      <td>data,click,-unknown-,view,submit</td>\n",
       "      <td>p3,-unknown-,login,user_profile,listing_review...</td>\n",
       "      <td>iPhone,-unknown-</td>\n",
       "      <td>119187.0</td>\n",
       "      <td>14898.375000</td>\n",
       "      <td>8.0</td>\n",
       "    </tr>\n",
       "    <tr>\n",
       "      <th>1</th>\n",
       "      <td>jtl0dijy2j</td>\n",
       "      <td>2014-07-01</td>\n",
       "      <td>20140701000051</td>\n",
       "      <td>NaN</td>\n",
       "      <td>-unknown-</td>\n",
       "      <td>NaN</td>\n",
       "      <td>basic</td>\n",
       "      <td>0</td>\n",
       "      <td>en</td>\n",
       "      <td>direct</td>\n",
       "      <td>...</td>\n",
       "      <td>['dashboard', 'login_page', 'view_search_resul...</td>\n",
       "      <td>['iPhone', 'iPhone', '-unknown-', 'iPhone', '-...</td>\n",
       "      <td>[747.0, 3228.0, 57599.0, nan, 2956.0, 2292.0, ...</td>\n",
       "      <td>create,header_userpic,search,active,signup_log...</td>\n",
       "      <td>data,click,-unknown-,view,submit</td>\n",
       "      <td>login_page,user_profile,header_userpic,create_...</td>\n",
       "      <td>iPhone,-unknown-</td>\n",
       "      <td>250119.0</td>\n",
       "      <td>13164.157895</td>\n",
       "      <td>19.0</td>\n",
       "    </tr>\n",
       "    <tr>\n",
       "      <th>2</th>\n",
       "      <td>xx0ulgorjt</td>\n",
       "      <td>2014-07-01</td>\n",
       "      <td>20140701000148</td>\n",
       "      <td>NaN</td>\n",
       "      <td>-unknown-</td>\n",
       "      <td>NaN</td>\n",
       "      <td>basic</td>\n",
       "      <td>0</td>\n",
       "      <td>en</td>\n",
       "      <td>direct</td>\n",
       "      <td>...</td>\n",
       "      <td>['view_search_results', 'view_search_results',...</td>\n",
       "      <td>['Windows Desktop', 'Windows Desktop', 'Window...</td>\n",
       "      <td>[3619.0, 2675.0, 768.0, 31171.0, 24526.0, 1241...</td>\n",
       "      <td>create,personalize,header_userpic,show,index,p...</td>\n",
       "      <td>data,click,-unknown-,view,submit</td>\n",
       "      <td>wishlist_content_update,p1,header_userpic,crea...</td>\n",
       "      <td>Windows Desktop</td>\n",
       "      <td>975575.0</td>\n",
       "      <td>16820.258621</td>\n",
       "      <td>58.0</td>\n",
       "    </tr>\n",
       "  </tbody>\n",
       "</table>\n",
       "<p>3 rows × 28 columns</p>\n",
       "</div>"
      ],
      "text/plain": [
       "           id date_account_created  timestamp_first_active  \\\n",
       "0  5uwns89zht           2014-07-01          20140701000006   \n",
       "1  jtl0dijy2j           2014-07-01          20140701000051   \n",
       "2  xx0ulgorjt           2014-07-01          20140701000148   \n",
       "\n",
       "   date_first_booking     gender   age signup_method  signup_flow language  \\\n",
       "0                 NaN     FEMALE  35.0      facebook            0       en   \n",
       "1                 NaN  -unknown-   NaN         basic            0       en   \n",
       "2                 NaN  -unknown-   NaN         basic            0       en   \n",
       "\n",
       "  affiliate_channel      ...       \\\n",
       "0            direct      ...        \n",
       "1            direct      ...        \n",
       "2            direct      ...        \n",
       "\n",
       "                                       action_detail  \\\n",
       "0  ['user_profile', 'view_search_results', 'view_...   \n",
       "1  ['dashboard', 'login_page', 'view_search_resul...   \n",
       "2  ['view_search_results', 'view_search_results',...   \n",
       "\n",
       "                                         device_type  \\\n",
       "0  ['-unknown-', '-unknown-', '-unknown-', '-unkn...   \n",
       "1  ['iPhone', 'iPhone', '-unknown-', 'iPhone', '-...   \n",
       "2  ['Windows Desktop', 'Windows Desktop', 'Window...   \n",
       "\n",
       "                                        secs_elapsed  \\\n",
       "0  [79.0, 17962.0, 64883.0, 31180.0, nan, 1097.0,...   \n",
       "1  [747.0, 3228.0, 57599.0, nan, 2956.0, 2292.0, ...   \n",
       "2  [3619.0, 2675.0, 768.0, 31171.0, 24526.0, 1241...   \n",
       "\n",
       "                                       unique_action  \\\n",
       "0            search,active,show,authenticate,reviews   \n",
       "1  create,header_userpic,search,active,signup_log...   \n",
       "2  create,personalize,header_userpic,show,index,p...   \n",
       "\n",
       "                 unique_action_type  \\\n",
       "0  data,click,-unknown-,view,submit   \n",
       "1  data,click,-unknown-,view,submit   \n",
       "2  data,click,-unknown-,view,submit   \n",
       "\n",
       "                                unique_action_detail unique_device_type  \\\n",
       "0  p3,-unknown-,login,user_profile,listing_review...   iPhone,-unknown-   \n",
       "1  login_page,user_profile,header_userpic,create_...   iPhone,-unknown-   \n",
       "2  wishlist_content_update,p1,header_userpic,crea...    Windows Desktop   \n",
       "\n",
       "  Total_secs_elapsed Mean_secs_elapsed session_count  \n",
       "0           119187.0      14898.375000           8.0  \n",
       "1           250119.0      13164.157895          19.0  \n",
       "2           975575.0      16820.258621          58.0  \n",
       "\n",
       "[3 rows x 28 columns]"
      ]
     },
     "execution_count": 57,
     "metadata": {},
     "output_type": "execute_result"
    }
   ],
   "source": [
    "test_session_df = test_df.merge(session_df_unq_rec1, left_on = 'id', right_on = 'user_id', how = 'left')\n",
    "test_session_df.head(3)"
   ]
  },
  {
   "cell_type": "code",
   "execution_count": 58,
   "metadata": {},
   "outputs": [
    {
     "data": {
      "text/plain": [
       "(62096, 28)"
      ]
     },
     "execution_count": 58,
     "metadata": {},
     "output_type": "execute_result"
    }
   ],
   "source": [
    "test_session_df.shape"
   ]
  },
  {
   "cell_type": "markdown",
   "metadata": {},
   "source": [
    "We will be using all the test records both with and without session data."
   ]
  },
  {
   "cell_type": "markdown",
   "metadata": {},
   "source": [
    "##### Creating necessary features for test data :"
   ]
  },
  {
   "cell_type": "code",
   "execution_count": 59,
   "metadata": {},
   "outputs": [],
   "source": [
    "test_session_df['date_account_created'] = pd.to_datetime(test_session_df['date_account_created'])\n",
    "test_session_df['account_created_day'] = test_session_df['date_account_created'].dt.weekday\n",
    "test_session_df['account_created_month'] = test_session_df['date_account_created'].dt.month\n",
    "test_session_df['account_created_year'] = test_session_df['date_account_created'].dt.year"
   ]
  },
  {
   "cell_type": "code",
   "execution_count": 60,
   "metadata": {},
   "outputs": [
    {
     "data": {
      "text/html": [
       "<div>\n",
       "<style scoped>\n",
       "    .dataframe tbody tr th:only-of-type {\n",
       "        vertical-align: middle;\n",
       "    }\n",
       "\n",
       "    .dataframe tbody tr th {\n",
       "        vertical-align: top;\n",
       "    }\n",
       "\n",
       "    .dataframe thead th {\n",
       "        text-align: right;\n",
       "    }\n",
       "</style>\n",
       "<table border=\"1\" class=\"dataframe\">\n",
       "  <thead>\n",
       "    <tr style=\"text-align: right;\">\n",
       "      <th></th>\n",
       "      <th>id</th>\n",
       "      <th>date_account_created</th>\n",
       "      <th>timestamp_first_active</th>\n",
       "      <th>date_first_booking</th>\n",
       "      <th>gender</th>\n",
       "      <th>age</th>\n",
       "      <th>signup_method</th>\n",
       "      <th>signup_flow</th>\n",
       "      <th>language</th>\n",
       "      <th>affiliate_channel</th>\n",
       "      <th>...</th>\n",
       "      <th>unique_action</th>\n",
       "      <th>unique_action_type</th>\n",
       "      <th>unique_action_detail</th>\n",
       "      <th>unique_device_type</th>\n",
       "      <th>Total_secs_elapsed</th>\n",
       "      <th>Mean_secs_elapsed</th>\n",
       "      <th>session_count</th>\n",
       "      <th>account_created_day</th>\n",
       "      <th>account_created_month</th>\n",
       "      <th>account_created_year</th>\n",
       "    </tr>\n",
       "  </thead>\n",
       "  <tbody>\n",
       "    <tr>\n",
       "      <th>0</th>\n",
       "      <td>5uwns89zht</td>\n",
       "      <td>2014-07-01</td>\n",
       "      <td>20140701000006</td>\n",
       "      <td>NaN</td>\n",
       "      <td>FEMALE</td>\n",
       "      <td>35.0</td>\n",
       "      <td>facebook</td>\n",
       "      <td>0</td>\n",
       "      <td>en</td>\n",
       "      <td>direct</td>\n",
       "      <td>...</td>\n",
       "      <td>search,active,show,authenticate,reviews</td>\n",
       "      <td>data,click,-unknown-,view,submit</td>\n",
       "      <td>p3,-unknown-,login,user_profile,listing_review...</td>\n",
       "      <td>iPhone,-unknown-</td>\n",
       "      <td>119187.0</td>\n",
       "      <td>14898.375000</td>\n",
       "      <td>8.0</td>\n",
       "      <td>1</td>\n",
       "      <td>7</td>\n",
       "      <td>2014</td>\n",
       "    </tr>\n",
       "    <tr>\n",
       "      <th>1</th>\n",
       "      <td>jtl0dijy2j</td>\n",
       "      <td>2014-07-01</td>\n",
       "      <td>20140701000051</td>\n",
       "      <td>NaN</td>\n",
       "      <td>-unknown-</td>\n",
       "      <td>NaN</td>\n",
       "      <td>basic</td>\n",
       "      <td>0</td>\n",
       "      <td>en</td>\n",
       "      <td>direct</td>\n",
       "      <td>...</td>\n",
       "      <td>create,header_userpic,search,active,signup_log...</td>\n",
       "      <td>data,click,-unknown-,view,submit</td>\n",
       "      <td>login_page,user_profile,header_userpic,create_...</td>\n",
       "      <td>iPhone,-unknown-</td>\n",
       "      <td>250119.0</td>\n",
       "      <td>13164.157895</td>\n",
       "      <td>19.0</td>\n",
       "      <td>1</td>\n",
       "      <td>7</td>\n",
       "      <td>2014</td>\n",
       "    </tr>\n",
       "    <tr>\n",
       "      <th>2</th>\n",
       "      <td>xx0ulgorjt</td>\n",
       "      <td>2014-07-01</td>\n",
       "      <td>20140701000148</td>\n",
       "      <td>NaN</td>\n",
       "      <td>-unknown-</td>\n",
       "      <td>NaN</td>\n",
       "      <td>basic</td>\n",
       "      <td>0</td>\n",
       "      <td>en</td>\n",
       "      <td>direct</td>\n",
       "      <td>...</td>\n",
       "      <td>create,personalize,header_userpic,show,index,p...</td>\n",
       "      <td>data,click,-unknown-,view,submit</td>\n",
       "      <td>wishlist_content_update,p1,header_userpic,crea...</td>\n",
       "      <td>Windows Desktop</td>\n",
       "      <td>975575.0</td>\n",
       "      <td>16820.258621</td>\n",
       "      <td>58.0</td>\n",
       "      <td>1</td>\n",
       "      <td>7</td>\n",
       "      <td>2014</td>\n",
       "    </tr>\n",
       "  </tbody>\n",
       "</table>\n",
       "<p>3 rows × 31 columns</p>\n",
       "</div>"
      ],
      "text/plain": [
       "           id date_account_created  timestamp_first_active  \\\n",
       "0  5uwns89zht           2014-07-01          20140701000006   \n",
       "1  jtl0dijy2j           2014-07-01          20140701000051   \n",
       "2  xx0ulgorjt           2014-07-01          20140701000148   \n",
       "\n",
       "   date_first_booking     gender   age signup_method  signup_flow language  \\\n",
       "0                 NaN     FEMALE  35.0      facebook            0       en   \n",
       "1                 NaN  -unknown-   NaN         basic            0       en   \n",
       "2                 NaN  -unknown-   NaN         basic            0       en   \n",
       "\n",
       "  affiliate_channel         ...           \\\n",
       "0            direct         ...            \n",
       "1            direct         ...            \n",
       "2            direct         ...            \n",
       "\n",
       "                                       unique_action  \\\n",
       "0            search,active,show,authenticate,reviews   \n",
       "1  create,header_userpic,search,active,signup_log...   \n",
       "2  create,personalize,header_userpic,show,index,p...   \n",
       "\n",
       "                 unique_action_type  \\\n",
       "0  data,click,-unknown-,view,submit   \n",
       "1  data,click,-unknown-,view,submit   \n",
       "2  data,click,-unknown-,view,submit   \n",
       "\n",
       "                                unique_action_detail unique_device_type  \\\n",
       "0  p3,-unknown-,login,user_profile,listing_review...   iPhone,-unknown-   \n",
       "1  login_page,user_profile,header_userpic,create_...   iPhone,-unknown-   \n",
       "2  wishlist_content_update,p1,header_userpic,crea...    Windows Desktop   \n",
       "\n",
       "  Total_secs_elapsed Mean_secs_elapsed session_count account_created_day  \\\n",
       "0           119187.0      14898.375000           8.0                   1   \n",
       "1           250119.0      13164.157895          19.0                   1   \n",
       "2           975575.0      16820.258621          58.0                   1   \n",
       "\n",
       "  account_created_month account_created_year  \n",
       "0                     7                 2014  \n",
       "1                     7                 2014  \n",
       "2                     7                 2014  \n",
       "\n",
       "[3 rows x 31 columns]"
      ]
     },
     "execution_count": 60,
     "metadata": {},
     "output_type": "execute_result"
    }
   ],
   "source": [
    "test_session_df.head(3)"
   ]
  },
  {
   "cell_type": "code",
   "execution_count": 61,
   "metadata": {},
   "outputs": [
    {
     "data": {
      "text/plain": [
       "id                         False\n",
       "date_account_created       False\n",
       "timestamp_first_active     False\n",
       "date_first_booking          True\n",
       "gender                     False\n",
       "age                         True\n",
       "signup_method              False\n",
       "signup_flow                False\n",
       "language                   False\n",
       "affiliate_channel          False\n",
       "affiliate_provider         False\n",
       "first_affiliate_tracked     True\n",
       "signup_app                 False\n",
       "first_device_type          False\n",
       "first_browser              False\n",
       "user_id                     True\n",
       "action                      True\n",
       "action_type                 True\n",
       "action_detail               True\n",
       "device_type                 True\n",
       "secs_elapsed                True\n",
       "unique_action               True\n",
       "unique_action_type          True\n",
       "unique_action_detail        True\n",
       "unique_device_type          True\n",
       "Total_secs_elapsed          True\n",
       "Mean_secs_elapsed           True\n",
       "session_count               True\n",
       "account_created_day        False\n",
       "account_created_month      False\n",
       "account_created_year       False\n",
       "dtype: bool"
      ]
     },
     "execution_count": 61,
     "metadata": {},
     "output_type": "execute_result"
    }
   ],
   "source": [
    "test_session_df.isnull().any()"
   ]
  },
  {
   "cell_type": "code",
   "execution_count": 62,
   "metadata": {},
   "outputs": [
    {
     "name": "stdout",
     "output_type": "stream",
     "text": [
      "Total Null Values in Age field :  28876\n",
      "Total Null Values in date_first_booking field :  62096\n",
      "Total Null Values in first_affiliate_tracked field :  20\n"
     ]
    }
   ],
   "source": [
    "print('Total Null Values in Age field : ',test_session_df['age'].isnull().sum())\n",
    "print('Total Null Values in date_first_booking field : ',test_session_df['date_first_booking'].isnull().sum())\n",
    "print('Total Null Values in first_affiliate_tracked field : ',test_session_df['first_affiliate_tracked'].isnull().sum())"
   ]
  },
  {
   "cell_type": "code",
   "execution_count": 63,
   "metadata": {},
   "outputs": [
    {
     "name": "stdout",
     "output_type": "stream",
     "text": [
      "Percentage (%) of Null Records in Age :  46.502\n",
      "Percentage (%) of Null Records in date_first_booking :  100.0\n",
      "Percentage (%) of Null Records in first_affiliate_tracked :  0.032\n"
     ]
    }
   ],
   "source": [
    "print('Percentage (%) of Null Records in Age : ', round(((test_session_df['age'].isnull().sum()*100)/test_session_df.shape[0]),3))\n",
    "print('Percentage (%) of Null Records in date_first_booking : ', round(((test_session_df['date_first_booking'].isnull().sum()*100)/test_session_df.shape[0]),3))\n",
    "print('Percentage (%) of Null Records in first_affiliate_tracked : ', round(((test_session_df['first_affiliate_tracked'].isnull().sum()*100)/test_session_df.shape[0]),3))"
   ]
  },
  {
   "cell_type": "markdown",
   "metadata": {},
   "source": [
    "##### Processing the 'age' field:"
   ]
  },
  {
   "cell_type": "code",
   "execution_count": 64,
   "metadata": {},
   "outputs": [
    {
     "name": "stdout",
     "output_type": "stream",
     "text": [
      "Median Age :  31.0\n"
     ]
    }
   ],
   "source": [
    "print('Median Age : ', test_session_df['age'].median())"
   ]
  },
  {
   "cell_type": "code",
   "execution_count": 65,
   "metadata": {},
   "outputs": [],
   "source": [
    "#Replacing the null values in 'age' field with median value :\n",
    "\n",
    "test_session_df['age'] = test_session_df['age'].fillna(test_session_df['age'].median())"
   ]
  },
  {
   "cell_type": "code",
   "execution_count": 66,
   "metadata": {},
   "outputs": [],
   "source": [
    "#Function to replace any value of age less than 15 or greater than 2007 with the median age\n",
    "\n",
    "def func_age_imput_median(age):\n",
    "    \n",
    "    \"\"\"\n",
    "    Function to replace any value of age less than 15 or greater than 2007 with the median age\n",
    "    \n",
    "    parameters: age \n",
    "    \n",
    "    returns : age  \n",
    "    \n",
    "    \"\"\"\n",
    "    \n",
    "    if age < 15.0 or age > 2007.0:\n",
    "        return 31.0\n",
    "    else:\n",
    "        return age"
   ]
  },
  {
   "cell_type": "code",
   "execution_count": 67,
   "metadata": {},
   "outputs": [
    {
     "name": "stdout",
     "output_type": "stream",
     "text": [
      "Max Age After Median Imputation :  2002.0\n"
     ]
    }
   ],
   "source": [
    "test_session_df['age'] = test_session_df['age'].apply(func_age_imput_median)\n",
    "print('Max Age After Median Imputation : ' ,test_session_df['age'].max())"
   ]
  },
  {
   "cell_type": "code",
   "execution_count": 68,
   "metadata": {},
   "outputs": [
    {
     "data": {
      "text/plain": [
       "(48, 31)"
      ]
     },
     "execution_count": 68,
     "metadata": {},
     "output_type": "execute_result"
    }
   ],
   "source": [
    "#Checking with the condition given in point 4 :\n",
    "\n",
    "x = test_session_df[(test_session_df['age'] > 117) & (test_session_df['age'] < 2002)]\n",
    "x.shape"
   ]
  },
  {
   "cell_type": "code",
   "execution_count": 69,
   "metadata": {},
   "outputs": [
    {
     "data": {
      "text/html": [
       "<div>\n",
       "<style scoped>\n",
       "    .dataframe tbody tr th:only-of-type {\n",
       "        vertical-align: middle;\n",
       "    }\n",
       "\n",
       "    .dataframe tbody tr th {\n",
       "        vertical-align: top;\n",
       "    }\n",
       "\n",
       "    .dataframe thead th {\n",
       "        text-align: right;\n",
       "    }\n",
       "</style>\n",
       "<table border=\"1\" class=\"dataframe\">\n",
       "  <thead>\n",
       "    <tr style=\"text-align: right;\">\n",
       "      <th></th>\n",
       "      <th>id</th>\n",
       "      <th>date_account_created</th>\n",
       "      <th>timestamp_first_active</th>\n",
       "      <th>date_first_booking</th>\n",
       "      <th>gender</th>\n",
       "      <th>age</th>\n",
       "      <th>signup_method</th>\n",
       "      <th>signup_flow</th>\n",
       "      <th>language</th>\n",
       "      <th>affiliate_channel</th>\n",
       "      <th>...</th>\n",
       "      <th>unique_action</th>\n",
       "      <th>unique_action_type</th>\n",
       "      <th>unique_action_detail</th>\n",
       "      <th>unique_device_type</th>\n",
       "      <th>Total_secs_elapsed</th>\n",
       "      <th>Mean_secs_elapsed</th>\n",
       "      <th>session_count</th>\n",
       "      <th>account_created_day</th>\n",
       "      <th>account_created_month</th>\n",
       "      <th>account_created_year</th>\n",
       "    </tr>\n",
       "  </thead>\n",
       "  <tbody>\n",
       "    <tr>\n",
       "      <th>9468</th>\n",
       "      <td>o4e7oybzbc</td>\n",
       "      <td>2014-07-17</td>\n",
       "      <td>20140717055247</td>\n",
       "      <td>NaN</td>\n",
       "      <td>MALE</td>\n",
       "      <td>1937.0</td>\n",
       "      <td>basic</td>\n",
       "      <td>23</td>\n",
       "      <td>en</td>\n",
       "      <td>direct</td>\n",
       "      <td>...</td>\n",
       "      <td>create,recommendations,search,unavailabilities...</td>\n",
       "      <td>data,click,message_post,na,-unknown-,view,submit</td>\n",
       "      <td>user_listings,user_profile,user_social_connect...</td>\n",
       "      <td>-unknown-,Android Phone</td>\n",
       "      <td>5670828.0</td>\n",
       "      <td>16156.205128</td>\n",
       "      <td>351.0</td>\n",
       "      <td>3</td>\n",
       "      <td>7</td>\n",
       "      <td>2014</td>\n",
       "    </tr>\n",
       "    <tr>\n",
       "      <th>10803</th>\n",
       "      <td>rykj2j5rje</td>\n",
       "      <td>2014-07-18</td>\n",
       "      <td>20140718191857</td>\n",
       "      <td>NaN</td>\n",
       "      <td>MALE</td>\n",
       "      <td>1934.0</td>\n",
       "      <td>basic</td>\n",
       "      <td>23</td>\n",
       "      <td>en</td>\n",
       "      <td>direct</td>\n",
       "      <td>...</td>\n",
       "      <td>spoken_languages,create,recommendations,patch,...</td>\n",
       "      <td>data,click,na,-unknown-,view,submit</td>\n",
       "      <td>user_profile,user_social_connections,update_us...</td>\n",
       "      <td>Android Phone</td>\n",
       "      <td>1735544.0</td>\n",
       "      <td>8591.801980</td>\n",
       "      <td>202.0</td>\n",
       "      <td>4</td>\n",
       "      <td>7</td>\n",
       "      <td>2014</td>\n",
       "    </tr>\n",
       "    <tr>\n",
       "      <th>11986</th>\n",
       "      <td>vl4y9qws33</td>\n",
       "      <td>2014-07-20</td>\n",
       "      <td>20140720064349</td>\n",
       "      <td>NaN</td>\n",
       "      <td>FEMALE</td>\n",
       "      <td>1922.0</td>\n",
       "      <td>basic</td>\n",
       "      <td>0</td>\n",
       "      <td>en</td>\n",
       "      <td>direct</td>\n",
       "      <td>...</td>\n",
       "      <td>spoken_languages,currencies,patch,header_userp...</td>\n",
       "      <td>data,click,partner_callback,na,-unknown-,view,...</td>\n",
       "      <td>user_profile,user_social_connections,confirm_e...</td>\n",
       "      <td>-unknown-,Android Phone</td>\n",
       "      <td>2019783.0</td>\n",
       "      <td>31073.584615</td>\n",
       "      <td>65.0</td>\n",
       "      <td>6</td>\n",
       "      <td>7</td>\n",
       "      <td>2014</td>\n",
       "    </tr>\n",
       "    <tr>\n",
       "      <th>14040</th>\n",
       "      <td>ikjyw6axqp</td>\n",
       "      <td>2014-07-22</td>\n",
       "      <td>20140722181133</td>\n",
       "      <td>NaN</td>\n",
       "      <td>FEMALE</td>\n",
       "      <td>1931.0</td>\n",
       "      <td>google</td>\n",
       "      <td>12</td>\n",
       "      <td>en</td>\n",
       "      <td>direct</td>\n",
       "      <td>...</td>\n",
       "      <td>patch,header_userpic,active,apply_code,show,co...</td>\n",
       "      <td>data,click,na,-unknown-,view,submit</td>\n",
       "      <td>confirm_email_link,header_userpic,update_user,...</td>\n",
       "      <td>Android Phone</td>\n",
       "      <td>617326.0</td>\n",
       "      <td>20577.533333</td>\n",
       "      <td>30.0</td>\n",
       "      <td>1</td>\n",
       "      <td>7</td>\n",
       "      <td>2014</td>\n",
       "    </tr>\n",
       "    <tr>\n",
       "      <th>14210</th>\n",
       "      <td>v6bvatw55t</td>\n",
       "      <td>2014-07-22</td>\n",
       "      <td>20140722204601</td>\n",
       "      <td>NaN</td>\n",
       "      <td>FEMALE</td>\n",
       "      <td>1944.0</td>\n",
       "      <td>basic</td>\n",
       "      <td>23</td>\n",
       "      <td>en</td>\n",
       "      <td>direct</td>\n",
       "      <td>...</td>\n",
       "      <td>create,recommendations,search,active,show,soci...</td>\n",
       "      <td>data,click,na,-unknown-,view,submit</td>\n",
       "      <td>user_profile,user_social_connections,view_rese...</td>\n",
       "      <td>Android Phone</td>\n",
       "      <td>433098.0</td>\n",
       "      <td>5413.725000</td>\n",
       "      <td>80.0</td>\n",
       "      <td>1</td>\n",
       "      <td>7</td>\n",
       "      <td>2014</td>\n",
       "    </tr>\n",
       "    <tr>\n",
       "      <th>15221</th>\n",
       "      <td>pz3sr0m9ba</td>\n",
       "      <td>2014-07-23</td>\n",
       "      <td>20140723185108</td>\n",
       "      <td>NaN</td>\n",
       "      <td>FEMALE</td>\n",
       "      <td>1954.0</td>\n",
       "      <td>basic</td>\n",
       "      <td>23</td>\n",
       "      <td>en</td>\n",
       "      <td>direct</td>\n",
       "      <td>...</td>\n",
       "      <td>create,unavailabilities,search,active,show,soc...</td>\n",
       "      <td>data,click,na,-unknown-,view,submit</td>\n",
       "      <td>user_listings,p3,user_social_connections,updat...</td>\n",
       "      <td>Android Phone</td>\n",
       "      <td>611998.0</td>\n",
       "      <td>20399.933333</td>\n",
       "      <td>30.0</td>\n",
       "      <td>2</td>\n",
       "      <td>7</td>\n",
       "      <td>2014</td>\n",
       "    </tr>\n",
       "    <tr>\n",
       "      <th>15872</th>\n",
       "      <td>gyd907ihfl</td>\n",
       "      <td>2014-07-24</td>\n",
       "      <td>20140724071518</td>\n",
       "      <td>NaN</td>\n",
       "      <td>MALE</td>\n",
       "      <td>1940.0</td>\n",
       "      <td>basic</td>\n",
       "      <td>23</td>\n",
       "      <td>en</td>\n",
       "      <td>direct</td>\n",
       "      <td>...</td>\n",
       "      <td>create,search,active,show,collections,campaign...</td>\n",
       "      <td>click,na,-unknown-,view,submit</td>\n",
       "      <td>view_locations,na,-unknown-,notifications,user...</td>\n",
       "      <td>Android Phone</td>\n",
       "      <td>179914.0</td>\n",
       "      <td>6663.481481</td>\n",
       "      <td>27.0</td>\n",
       "      <td>3</td>\n",
       "      <td>7</td>\n",
       "      <td>2014</td>\n",
       "    </tr>\n",
       "    <tr>\n",
       "      <th>17318</th>\n",
       "      <td>dx1gt0ymcy</td>\n",
       "      <td>2014-07-26</td>\n",
       "      <td>20140726025115</td>\n",
       "      <td>NaN</td>\n",
       "      <td>MALE</td>\n",
       "      <td>1940.0</td>\n",
       "      <td>google</td>\n",
       "      <td>12</td>\n",
       "      <td>en</td>\n",
       "      <td>direct</td>\n",
       "      <td>...</td>\n",
       "      <td>recommendations,search,active,social_connectio...</td>\n",
       "      <td>data,click,na,-unknown-,view,submit</td>\n",
       "      <td>user_listings,p3,user_social_connections,updat...</td>\n",
       "      <td>Android Phone</td>\n",
       "      <td>2264862.0</td>\n",
       "      <td>6781.023952</td>\n",
       "      <td>334.0</td>\n",
       "      <td>5</td>\n",
       "      <td>7</td>\n",
       "      <td>2014</td>\n",
       "    </tr>\n",
       "    <tr>\n",
       "      <th>17413</th>\n",
       "      <td>f5ajezybph</td>\n",
       "      <td>2014-07-26</td>\n",
       "      <td>20140726053619</td>\n",
       "      <td>NaN</td>\n",
       "      <td>FEMALE</td>\n",
       "      <td>1947.0</td>\n",
       "      <td>basic</td>\n",
       "      <td>23</td>\n",
       "      <td>en</td>\n",
       "      <td>direct</td>\n",
       "      <td>...</td>\n",
       "      <td>create,active,na,campaigns,payment_instruments...</td>\n",
       "      <td>data,message_post,na,-unknown-,submit</td>\n",
       "      <td>message_post,update_user,na,-unknown-,payment_...</td>\n",
       "      <td>Android Phone</td>\n",
       "      <td>1137575.0</td>\n",
       "      <td>87505.769231</td>\n",
       "      <td>13.0</td>\n",
       "      <td>5</td>\n",
       "      <td>7</td>\n",
       "      <td>2014</td>\n",
       "    </tr>\n",
       "    <tr>\n",
       "      <th>18886</th>\n",
       "      <td>c3fsgcxwwn</td>\n",
       "      <td>2014-07-28</td>\n",
       "      <td>20140728075259</td>\n",
       "      <td>NaN</td>\n",
       "      <td>FEMALE</td>\n",
       "      <td>1927.0</td>\n",
       "      <td>basic</td>\n",
       "      <td>0</td>\n",
       "      <td>en</td>\n",
       "      <td>direct</td>\n",
       "      <td>...</td>\n",
       "      <td>recommendations,header_userpic,search,unavaila...</td>\n",
       "      <td>data,click,partner_callback,na,-unknown-,view,...</td>\n",
       "      <td>login_page,user_profile,user_social_connection...</td>\n",
       "      <td>Android Phone,-unknown-</td>\n",
       "      <td>4000076.0</td>\n",
       "      <td>12861.980707</td>\n",
       "      <td>311.0</td>\n",
       "      <td>0</td>\n",
       "      <td>7</td>\n",
       "      <td>2014</td>\n",
       "    </tr>\n",
       "  </tbody>\n",
       "</table>\n",
       "<p>10 rows × 31 columns</p>\n",
       "</div>"
      ],
      "text/plain": [
       "               id date_account_created  timestamp_first_active  \\\n",
       "9468   o4e7oybzbc           2014-07-17          20140717055247   \n",
       "10803  rykj2j5rje           2014-07-18          20140718191857   \n",
       "11986  vl4y9qws33           2014-07-20          20140720064349   \n",
       "14040  ikjyw6axqp           2014-07-22          20140722181133   \n",
       "14210  v6bvatw55t           2014-07-22          20140722204601   \n",
       "15221  pz3sr0m9ba           2014-07-23          20140723185108   \n",
       "15872  gyd907ihfl           2014-07-24          20140724071518   \n",
       "17318  dx1gt0ymcy           2014-07-26          20140726025115   \n",
       "17413  f5ajezybph           2014-07-26          20140726053619   \n",
       "18886  c3fsgcxwwn           2014-07-28          20140728075259   \n",
       "\n",
       "       date_first_booking  gender     age signup_method  signup_flow language  \\\n",
       "9468                  NaN    MALE  1937.0         basic           23       en   \n",
       "10803                 NaN    MALE  1934.0         basic           23       en   \n",
       "11986                 NaN  FEMALE  1922.0         basic            0       en   \n",
       "14040                 NaN  FEMALE  1931.0        google           12       en   \n",
       "14210                 NaN  FEMALE  1944.0         basic           23       en   \n",
       "15221                 NaN  FEMALE  1954.0         basic           23       en   \n",
       "15872                 NaN    MALE  1940.0         basic           23       en   \n",
       "17318                 NaN    MALE  1940.0        google           12       en   \n",
       "17413                 NaN  FEMALE  1947.0         basic           23       en   \n",
       "18886                 NaN  FEMALE  1927.0         basic            0       en   \n",
       "\n",
       "      affiliate_channel         ...           \\\n",
       "9468             direct         ...            \n",
       "10803            direct         ...            \n",
       "11986            direct         ...            \n",
       "14040            direct         ...            \n",
       "14210            direct         ...            \n",
       "15221            direct         ...            \n",
       "15872            direct         ...            \n",
       "17318            direct         ...            \n",
       "17413            direct         ...            \n",
       "18886            direct         ...            \n",
       "\n",
       "                                           unique_action  \\\n",
       "9468   create,recommendations,search,unavailabilities...   \n",
       "10803  spoken_languages,create,recommendations,patch,...   \n",
       "11986  spoken_languages,currencies,patch,header_userp...   \n",
       "14040  patch,header_userpic,active,apply_code,show,co...   \n",
       "14210  create,recommendations,search,active,show,soci...   \n",
       "15221  create,unavailabilities,search,active,show,soc...   \n",
       "15872  create,search,active,show,collections,campaign...   \n",
       "17318  recommendations,search,active,social_connectio...   \n",
       "17413  create,active,na,campaigns,payment_instruments...   \n",
       "18886  recommendations,header_userpic,search,unavaila...   \n",
       "\n",
       "                                      unique_action_type  \\\n",
       "9468    data,click,message_post,na,-unknown-,view,submit   \n",
       "10803                data,click,na,-unknown-,view,submit   \n",
       "11986  data,click,partner_callback,na,-unknown-,view,...   \n",
       "14040                data,click,na,-unknown-,view,submit   \n",
       "14210                data,click,na,-unknown-,view,submit   \n",
       "15221                data,click,na,-unknown-,view,submit   \n",
       "15872                     click,na,-unknown-,view,submit   \n",
       "17318                data,click,na,-unknown-,view,submit   \n",
       "17413              data,message_post,na,-unknown-,submit   \n",
       "18886  data,click,partner_callback,na,-unknown-,view,...   \n",
       "\n",
       "                                    unique_action_detail  \\\n",
       "9468   user_listings,user_profile,user_social_connect...   \n",
       "10803  user_profile,user_social_connections,update_us...   \n",
       "11986  user_profile,user_social_connections,confirm_e...   \n",
       "14040  confirm_email_link,header_userpic,update_user,...   \n",
       "14210  user_profile,user_social_connections,view_rese...   \n",
       "15221  user_listings,p3,user_social_connections,updat...   \n",
       "15872  view_locations,na,-unknown-,notifications,user...   \n",
       "17318  user_listings,p3,user_social_connections,updat...   \n",
       "17413  message_post,update_user,na,-unknown-,payment_...   \n",
       "18886  login_page,user_profile,user_social_connection...   \n",
       "\n",
       "            unique_device_type Total_secs_elapsed Mean_secs_elapsed  \\\n",
       "9468   -unknown-,Android Phone          5670828.0      16156.205128   \n",
       "10803            Android Phone          1735544.0       8591.801980   \n",
       "11986  -unknown-,Android Phone          2019783.0      31073.584615   \n",
       "14040            Android Phone           617326.0      20577.533333   \n",
       "14210            Android Phone           433098.0       5413.725000   \n",
       "15221            Android Phone           611998.0      20399.933333   \n",
       "15872            Android Phone           179914.0       6663.481481   \n",
       "17318            Android Phone          2264862.0       6781.023952   \n",
       "17413            Android Phone          1137575.0      87505.769231   \n",
       "18886  Android Phone,-unknown-          4000076.0      12861.980707   \n",
       "\n",
       "      session_count account_created_day account_created_month  \\\n",
       "9468          351.0                   3                     7   \n",
       "10803         202.0                   4                     7   \n",
       "11986          65.0                   6                     7   \n",
       "14040          30.0                   1                     7   \n",
       "14210          80.0                   1                     7   \n",
       "15221          30.0                   2                     7   \n",
       "15872          27.0                   3                     7   \n",
       "17318         334.0                   5                     7   \n",
       "17413          13.0                   5                     7   \n",
       "18886         311.0                   0                     7   \n",
       "\n",
       "      account_created_year  \n",
       "9468                  2014  \n",
       "10803                 2014  \n",
       "11986                 2014  \n",
       "14040                 2014  \n",
       "14210                 2014  \n",
       "15221                 2014  \n",
       "15872                 2014  \n",
       "17318                 2014  \n",
       "17413                 2014  \n",
       "18886                 2014  \n",
       "\n",
       "[10 rows x 31 columns]"
      ]
     },
     "execution_count": 69,
     "metadata": {},
     "output_type": "execute_result"
    }
   ],
   "source": [
    "x.head(10)"
   ]
  },
  {
   "cell_type": "code",
   "execution_count": 70,
   "metadata": {},
   "outputs": [],
   "source": [
    "def func_age_imput_year(age,year):\n",
    "    \n",
    "    \"\"\"\n",
    "    Function to check if age is between 117 and 2007. If true, it will substract that age value from the year of account \n",
    "    creation to get the exact age of the user on the year he created the account.\n",
    "        \n",
    "    parameters: age,account_created_year \n",
    "    \n",
    "    returns : age  \n",
    "    \n",
    "    \"\"\"\n",
    "    \n",
    "    res = 0\n",
    "    if age > 117.0 and age <=2007.0:\n",
    "        res = year-age\n",
    "        return res \n",
    "    else:\n",
    "        return age"
   ]
  },
  {
   "cell_type": "code",
   "execution_count": 71,
   "metadata": {},
   "outputs": [],
   "source": [
    "test_session_df['age'] = test_session_df.apply(lambda x: func_age_imput_year(x['age'], x['account_created_year']), axis=1)"
   ]
  },
  {
   "cell_type": "code",
   "execution_count": 72,
   "metadata": {},
   "outputs": [
    {
     "name": "stdout",
     "output_type": "stream",
     "text": [
      "Max Age After Year Imputation :  110.0\n"
     ]
    }
   ],
   "source": [
    "print('Max Age After Year Imputation : ' ,test_session_df['age'].max())"
   ]
  },
  {
   "cell_type": "code",
   "execution_count": 73,
   "metadata": {},
   "outputs": [
    {
     "data": {
      "text/plain": [
       "count    62096.000000\n",
       "mean        33.062226\n",
       "std          9.875201\n",
       "min         12.000000\n",
       "25%         31.000000\n",
       "50%         31.000000\n",
       "75%         32.000000\n",
       "max        110.000000\n",
       "Name: age, dtype: float64"
      ]
     },
     "execution_count": 73,
     "metadata": {},
     "output_type": "execute_result"
    }
   ],
   "source": [
    "test_session_df['age'].describe()"
   ]
  },
  {
   "cell_type": "code",
   "execution_count": 74,
   "metadata": {},
   "outputs": [
    {
     "data": {
      "image/png": "[encoded data removed]",
      "text/plain": [
       "<Figure size 720x720 with 1 Axes>"
      ]
     },
     "metadata": {},
     "output_type": "display_data"
    }
   ],
   "source": [
    "#Plotting the Log Transformation of 'age' after processing the outliers :\n",
    "\n",
    "plt.figure(figsize = (10,10))\n",
    "sns.set(style='darkgrid')\n",
    "sns.set_context('talk')\n",
    "sns.distplot(np.log10(test_session_df['age'].dropna()))\n",
    "plt.xlabel('Age')\n",
    "plt.ylabel('Log')\n",
    "plt.title('Log Transformation of Age After Processing')\n",
    "plt.show()"
   ]
  },
  {
   "cell_type": "code",
   "execution_count": 75,
   "metadata": {},
   "outputs": [
    {
     "data": {
      "text/html": [
       "<div>\n",
       "<style scoped>\n",
       "    .dataframe tbody tr th:only-of-type {\n",
       "        vertical-align: middle;\n",
       "    }\n",
       "\n",
       "    .dataframe tbody tr th {\n",
       "        vertical-align: top;\n",
       "    }\n",
       "\n",
       "    .dataframe thead th {\n",
       "        text-align: right;\n",
       "    }\n",
       "</style>\n",
       "<table border=\"1\" class=\"dataframe\">\n",
       "  <thead>\n",
       "    <tr style=\"text-align: right;\">\n",
       "      <th></th>\n",
       "      <th>id</th>\n",
       "      <th>date_account_created</th>\n",
       "      <th>timestamp_first_active</th>\n",
       "      <th>date_first_booking</th>\n",
       "      <th>gender</th>\n",
       "      <th>age</th>\n",
       "      <th>signup_method</th>\n",
       "      <th>signup_flow</th>\n",
       "      <th>language</th>\n",
       "      <th>affiliate_channel</th>\n",
       "      <th>...</th>\n",
       "      <th>unique_action</th>\n",
       "      <th>unique_action_type</th>\n",
       "      <th>unique_action_detail</th>\n",
       "      <th>unique_device_type</th>\n",
       "      <th>Total_secs_elapsed</th>\n",
       "      <th>Mean_secs_elapsed</th>\n",
       "      <th>session_count</th>\n",
       "      <th>account_created_day</th>\n",
       "      <th>account_created_month</th>\n",
       "      <th>account_created_year</th>\n",
       "    </tr>\n",
       "  </thead>\n",
       "  <tbody>\n",
       "    <tr>\n",
       "      <th>0</th>\n",
       "      <td>5uwns89zht</td>\n",
       "      <td>2014-07-01</td>\n",
       "      <td>20140701000006</td>\n",
       "      <td>NaN</td>\n",
       "      <td>FEMALE</td>\n",
       "      <td>35.0</td>\n",
       "      <td>facebook</td>\n",
       "      <td>0</td>\n",
       "      <td>en</td>\n",
       "      <td>direct</td>\n",
       "      <td>...</td>\n",
       "      <td>search,active,show,authenticate,reviews</td>\n",
       "      <td>data,click,-unknown-,view,submit</td>\n",
       "      <td>p3,-unknown-,login,user_profile,listing_review...</td>\n",
       "      <td>iPhone,-unknown-</td>\n",
       "      <td>119187.0</td>\n",
       "      <td>14898.375000</td>\n",
       "      <td>8.0</td>\n",
       "      <td>1</td>\n",
       "      <td>7</td>\n",
       "      <td>2014</td>\n",
       "    </tr>\n",
       "    <tr>\n",
       "      <th>1</th>\n",
       "      <td>jtl0dijy2j</td>\n",
       "      <td>2014-07-01</td>\n",
       "      <td>20140701000051</td>\n",
       "      <td>NaN</td>\n",
       "      <td>-unknown-</td>\n",
       "      <td>31.0</td>\n",
       "      <td>basic</td>\n",
       "      <td>0</td>\n",
       "      <td>en</td>\n",
       "      <td>direct</td>\n",
       "      <td>...</td>\n",
       "      <td>create,header_userpic,search,active,signup_log...</td>\n",
       "      <td>data,click,-unknown-,view,submit</td>\n",
       "      <td>login_page,user_profile,header_userpic,create_...</td>\n",
       "      <td>iPhone,-unknown-</td>\n",
       "      <td>250119.0</td>\n",
       "      <td>13164.157895</td>\n",
       "      <td>19.0</td>\n",
       "      <td>1</td>\n",
       "      <td>7</td>\n",
       "      <td>2014</td>\n",
       "    </tr>\n",
       "  </tbody>\n",
       "</table>\n",
       "<p>2 rows × 31 columns</p>\n",
       "</div>"
      ],
      "text/plain": [
       "           id date_account_created  timestamp_first_active  \\\n",
       "0  5uwns89zht           2014-07-01          20140701000006   \n",
       "1  jtl0dijy2j           2014-07-01          20140701000051   \n",
       "\n",
       "   date_first_booking     gender   age signup_method  signup_flow language  \\\n",
       "0                 NaN     FEMALE  35.0      facebook            0       en   \n",
       "1                 NaN  -unknown-  31.0         basic            0       en   \n",
       "\n",
       "  affiliate_channel         ...           \\\n",
       "0            direct         ...            \n",
       "1            direct         ...            \n",
       "\n",
       "                                       unique_action  \\\n",
       "0            search,active,show,authenticate,reviews   \n",
       "1  create,header_userpic,search,active,signup_log...   \n",
       "\n",
       "                 unique_action_type  \\\n",
       "0  data,click,-unknown-,view,submit   \n",
       "1  data,click,-unknown-,view,submit   \n",
       "\n",
       "                                unique_action_detail unique_device_type  \\\n",
       "0  p3,-unknown-,login,user_profile,listing_review...   iPhone,-unknown-   \n",
       "1  login_page,user_profile,header_userpic,create_...   iPhone,-unknown-   \n",
       "\n",
       "  Total_secs_elapsed Mean_secs_elapsed session_count account_created_day  \\\n",
       "0           119187.0      14898.375000           8.0                   1   \n",
       "1           250119.0      13164.157895          19.0                   1   \n",
       "\n",
       "  account_created_month account_created_year  \n",
       "0                     7                 2014  \n",
       "1                     7                 2014  \n",
       "\n",
       "[2 rows x 31 columns]"
      ]
     },
     "execution_count": 75,
     "metadata": {},
     "output_type": "execute_result"
    }
   ],
   "source": [
    "test_session_df.head(2)"
   ]
  },
  {
   "cell_type": "code",
   "execution_count": 76,
   "metadata": {},
   "outputs": [],
   "source": [
    "test_session_df['first_affiliate_tracked'].fillna('untracked',inplace = True)"
   ]
  },
  {
   "cell_type": "code",
   "execution_count": 77,
   "metadata": {},
   "outputs": [
    {
     "data": {
      "text/plain": [
       "id                             0\n",
       "date_account_created           0\n",
       "timestamp_first_active         0\n",
       "date_first_booking         62096\n",
       "gender                         0\n",
       "age                            0\n",
       "signup_method                  0\n",
       "signup_flow                    0\n",
       "language                       0\n",
       "affiliate_channel              0\n",
       "affiliate_provider             0\n",
       "first_affiliate_tracked        0\n",
       "signup_app                     0\n",
       "first_device_type              0\n",
       "first_browser                  0\n",
       "user_id                      428\n",
       "action                       428\n",
       "action_type                  428\n",
       "action_detail                428\n",
       "device_type                  428\n",
       "secs_elapsed                 428\n",
       "unique_action                428\n",
       "unique_action_type           428\n",
       "unique_action_detail         428\n",
       "unique_device_type           428\n",
       "Total_secs_elapsed           428\n",
       "Mean_secs_elapsed            428\n",
       "session_count                428\n",
       "account_created_day            0\n",
       "account_created_month          0\n",
       "account_created_year           0\n",
       "dtype: int64"
      ]
     },
     "execution_count": 77,
     "metadata": {},
     "output_type": "execute_result"
    }
   ],
   "source": [
    "test_session_df.isnull().sum()"
   ]
  },
  {
   "cell_type": "markdown",
   "metadata": {},
   "source": [
    "These test records donot have any session data. So, replacing all nulls with 'na'"
   ]
  },
  {
   "cell_type": "code",
   "execution_count": 78,
   "metadata": {},
   "outputs": [],
   "source": [
    "test_session_df['user_id'].fillna('na' , inplace=True)\n",
    "test_session_df['action'].fillna('na' , inplace=True)\n",
    "test_session_df['action_type'].fillna('na' , inplace=True)\n",
    "test_session_df['action_detail'].fillna('na' , inplace=True)\n",
    "test_session_df['device_type'].fillna('na' , inplace=True)\n",
    "test_session_df['secs_elapsed'].fillna(0, inplace=True)\n",
    "test_session_df['unique_action'].fillna('na' , inplace=True)\n",
    "test_session_df['unique_action_type'].fillna('na' , inplace=True)\n",
    "test_session_df['unique_action_detail'].fillna('na' , inplace=True)\n",
    "test_session_df['unique_device_type'].fillna('na' , inplace=True)\n",
    "test_session_df['Mean_secs_elapsed'].fillna(0, inplace=True)\n",
    "test_session_df['session_count'].fillna(0, inplace=True)\n",
    "test_session_df['Total_secs_elapsed'].fillna(0, inplace=True)"
   ]
  },
  {
   "cell_type": "markdown",
   "metadata": {},
   "source": [
    "Dropping all the columns that we have already proccessed."
   ]
  },
  {
   "cell_type": "code",
   "execution_count": 79,
   "metadata": {},
   "outputs": [
    {
     "data": {
      "text/html": [
       "<div>\n",
       "<style scoped>\n",
       "    .dataframe tbody tr th:only-of-type {\n",
       "        vertical-align: middle;\n",
       "    }\n",
       "\n",
       "    .dataframe tbody tr th {\n",
       "        vertical-align: top;\n",
       "    }\n",
       "\n",
       "    .dataframe thead th {\n",
       "        text-align: right;\n",
       "    }\n",
       "</style>\n",
       "<table border=\"1\" class=\"dataframe\">\n",
       "  <thead>\n",
       "    <tr style=\"text-align: right;\">\n",
       "      <th></th>\n",
       "      <th>id</th>\n",
       "      <th>gender</th>\n",
       "      <th>age</th>\n",
       "      <th>signup_method</th>\n",
       "      <th>signup_flow</th>\n",
       "      <th>language</th>\n",
       "      <th>affiliate_channel</th>\n",
       "      <th>affiliate_provider</th>\n",
       "      <th>first_affiliate_tracked</th>\n",
       "      <th>signup_app</th>\n",
       "      <th>...</th>\n",
       "      <th>unique_action</th>\n",
       "      <th>unique_action_type</th>\n",
       "      <th>unique_action_detail</th>\n",
       "      <th>unique_device_type</th>\n",
       "      <th>Total_secs_elapsed</th>\n",
       "      <th>Mean_secs_elapsed</th>\n",
       "      <th>session_count</th>\n",
       "      <th>account_created_day</th>\n",
       "      <th>account_created_month</th>\n",
       "      <th>account_created_year</th>\n",
       "    </tr>\n",
       "  </thead>\n",
       "  <tbody>\n",
       "    <tr>\n",
       "      <th>0</th>\n",
       "      <td>5uwns89zht</td>\n",
       "      <td>FEMALE</td>\n",
       "      <td>35.0</td>\n",
       "      <td>facebook</td>\n",
       "      <td>0</td>\n",
       "      <td>en</td>\n",
       "      <td>direct</td>\n",
       "      <td>direct</td>\n",
       "      <td>untracked</td>\n",
       "      <td>Moweb</td>\n",
       "      <td>...</td>\n",
       "      <td>search,active,show,authenticate,reviews</td>\n",
       "      <td>data,click,-unknown-,view,submit</td>\n",
       "      <td>p3,-unknown-,login,user_profile,listing_review...</td>\n",
       "      <td>iPhone,-unknown-</td>\n",
       "      <td>119187.0</td>\n",
       "      <td>14898.375000</td>\n",
       "      <td>8.0</td>\n",
       "      <td>1</td>\n",
       "      <td>7</td>\n",
       "      <td>2014</td>\n",
       "    </tr>\n",
       "    <tr>\n",
       "      <th>1</th>\n",
       "      <td>jtl0dijy2j</td>\n",
       "      <td>-unknown-</td>\n",
       "      <td>31.0</td>\n",
       "      <td>basic</td>\n",
       "      <td>0</td>\n",
       "      <td>en</td>\n",
       "      <td>direct</td>\n",
       "      <td>direct</td>\n",
       "      <td>untracked</td>\n",
       "      <td>Moweb</td>\n",
       "      <td>...</td>\n",
       "      <td>create,header_userpic,search,active,signup_log...</td>\n",
       "      <td>data,click,-unknown-,view,submit</td>\n",
       "      <td>login_page,user_profile,header_userpic,create_...</td>\n",
       "      <td>iPhone,-unknown-</td>\n",
       "      <td>250119.0</td>\n",
       "      <td>13164.157895</td>\n",
       "      <td>19.0</td>\n",
       "      <td>1</td>\n",
       "      <td>7</td>\n",
       "      <td>2014</td>\n",
       "    </tr>\n",
       "    <tr>\n",
       "      <th>2</th>\n",
       "      <td>xx0ulgorjt</td>\n",
       "      <td>-unknown-</td>\n",
       "      <td>31.0</td>\n",
       "      <td>basic</td>\n",
       "      <td>0</td>\n",
       "      <td>en</td>\n",
       "      <td>direct</td>\n",
       "      <td>direct</td>\n",
       "      <td>linked</td>\n",
       "      <td>Web</td>\n",
       "      <td>...</td>\n",
       "      <td>create,personalize,header_userpic,show,index,p...</td>\n",
       "      <td>data,click,-unknown-,view,submit</td>\n",
       "      <td>wishlist_content_update,p1,header_userpic,crea...</td>\n",
       "      <td>Windows Desktop</td>\n",
       "      <td>975575.0</td>\n",
       "      <td>16820.258621</td>\n",
       "      <td>58.0</td>\n",
       "      <td>1</td>\n",
       "      <td>7</td>\n",
       "      <td>2014</td>\n",
       "    </tr>\n",
       "  </tbody>\n",
       "</table>\n",
       "<p>3 rows × 22 columns</p>\n",
       "</div>"
      ],
      "text/plain": [
       "           id     gender   age signup_method  signup_flow language  \\\n",
       "0  5uwns89zht     FEMALE  35.0      facebook            0       en   \n",
       "1  jtl0dijy2j  -unknown-  31.0         basic            0       en   \n",
       "2  xx0ulgorjt  -unknown-  31.0         basic            0       en   \n",
       "\n",
       "  affiliate_channel affiliate_provider first_affiliate_tracked signup_app  \\\n",
       "0            direct             direct               untracked      Moweb   \n",
       "1            direct             direct               untracked      Moweb   \n",
       "2            direct             direct                  linked        Web   \n",
       "\n",
       "           ...                                               unique_action  \\\n",
       "0          ...                     search,active,show,authenticate,reviews   \n",
       "1          ...           create,header_userpic,search,active,signup_log...   \n",
       "2          ...           create,personalize,header_userpic,show,index,p...   \n",
       "\n",
       "                 unique_action_type  \\\n",
       "0  data,click,-unknown-,view,submit   \n",
       "1  data,click,-unknown-,view,submit   \n",
       "2  data,click,-unknown-,view,submit   \n",
       "\n",
       "                                unique_action_detail unique_device_type  \\\n",
       "0  p3,-unknown-,login,user_profile,listing_review...   iPhone,-unknown-   \n",
       "1  login_page,user_profile,header_userpic,create_...   iPhone,-unknown-   \n",
       "2  wishlist_content_update,p1,header_userpic,crea...    Windows Desktop   \n",
       "\n",
       "  Total_secs_elapsed Mean_secs_elapsed  session_count  account_created_day  \\\n",
       "0           119187.0      14898.375000            8.0                    1   \n",
       "1           250119.0      13164.157895           19.0                    1   \n",
       "2           975575.0      16820.258621           58.0                    1   \n",
       "\n",
       "   account_created_month  account_created_year  \n",
       "0                      7                  2014  \n",
       "1                      7                  2014  \n",
       "2                      7                  2014  \n",
       "\n",
       "[3 rows x 22 columns]"
      ]
     },
     "execution_count": 79,
     "metadata": {},
     "output_type": "execute_result"
    }
   ],
   "source": [
    "test_session_df = test_session_df.drop(['date_account_created','action', 'action_type', 'action_detail', 'device_type','secs_elapsed','timestamp_first_active','date_first_booking','user_id'], axis = 1)\n",
    "test_session_df.head(3)"
   ]
  },
  {
   "cell_type": "code",
   "execution_count": 80,
   "metadata": {},
   "outputs": [
    {
     "data": {
      "text/plain": [
       "Index(['id', 'gender', 'age', 'signup_method', 'signup_flow', 'language',\n",
       "       'affiliate_channel', 'affiliate_provider', 'first_affiliate_tracked',\n",
       "       'signup_app', 'first_device_type', 'first_browser', 'unique_action',\n",
       "       'unique_action_type', 'unique_action_detail', 'unique_device_type',\n",
       "       'Total_secs_elapsed', 'Mean_secs_elapsed', 'session_count',\n",
       "       'account_created_day', 'account_created_month', 'account_created_year'],\n",
       "      dtype='object')"
      ]
     },
     "execution_count": 80,
     "metadata": {},
     "output_type": "execute_result"
    }
   ],
   "source": [
    "test_session_df.columns"
   ]
  },
  {
   "cell_type": "code",
   "execution_count": 81,
   "metadata": {},
   "outputs": [
    {
     "data": {
      "text/html": [
       "<div>\n",
       "<style scoped>\n",
       "    .dataframe tbody tr th:only-of-type {\n",
       "        vertical-align: middle;\n",
       "    }\n",
       "\n",
       "    .dataframe tbody tr th {\n",
       "        vertical-align: top;\n",
       "    }\n",
       "\n",
       "    .dataframe thead th {\n",
       "        text-align: right;\n",
       "    }\n",
       "</style>\n",
       "<table border=\"1\" class=\"dataframe\">\n",
       "  <thead>\n",
       "    <tr style=\"text-align: right;\">\n",
       "      <th></th>\n",
       "      <th>gender</th>\n",
       "      <th>age</th>\n",
       "      <th>signup_method</th>\n",
       "      <th>signup_flow</th>\n",
       "      <th>language</th>\n",
       "      <th>affiliate_channel</th>\n",
       "      <th>affiliate_provider</th>\n",
       "      <th>first_affiliate_tracked</th>\n",
       "      <th>signup_app</th>\n",
       "      <th>first_device_type</th>\n",
       "      <th>...</th>\n",
       "      <th>unique_action</th>\n",
       "      <th>unique_action_type</th>\n",
       "      <th>unique_action_detail</th>\n",
       "      <th>unique_device_type</th>\n",
       "      <th>Total_secs_elapsed</th>\n",
       "      <th>Mean_secs_elapsed</th>\n",
       "      <th>session_count</th>\n",
       "      <th>account_created_day</th>\n",
       "      <th>account_created_month</th>\n",
       "      <th>account_created_year</th>\n",
       "    </tr>\n",
       "  </thead>\n",
       "  <tbody>\n",
       "    <tr>\n",
       "      <th>0</th>\n",
       "      <td>FEMALE</td>\n",
       "      <td>35.0</td>\n",
       "      <td>facebook</td>\n",
       "      <td>0</td>\n",
       "      <td>en</td>\n",
       "      <td>direct</td>\n",
       "      <td>direct</td>\n",
       "      <td>untracked</td>\n",
       "      <td>Moweb</td>\n",
       "      <td>iPhone</td>\n",
       "      <td>...</td>\n",
       "      <td>search,active,show,authenticate,reviews</td>\n",
       "      <td>data,click,-unknown-,view,submit</td>\n",
       "      <td>p3,-unknown-,login,user_profile,listing_review...</td>\n",
       "      <td>iPhone,-unknown-</td>\n",
       "      <td>119187.0</td>\n",
       "      <td>14898.375000</td>\n",
       "      <td>8.0</td>\n",
       "      <td>1</td>\n",
       "      <td>7</td>\n",
       "      <td>2014</td>\n",
       "    </tr>\n",
       "    <tr>\n",
       "      <th>1</th>\n",
       "      <td>-unknown-</td>\n",
       "      <td>31.0</td>\n",
       "      <td>basic</td>\n",
       "      <td>0</td>\n",
       "      <td>en</td>\n",
       "      <td>direct</td>\n",
       "      <td>direct</td>\n",
       "      <td>untracked</td>\n",
       "      <td>Moweb</td>\n",
       "      <td>iPhone</td>\n",
       "      <td>...</td>\n",
       "      <td>create,header_userpic,search,active,signup_log...</td>\n",
       "      <td>data,click,-unknown-,view,submit</td>\n",
       "      <td>login_page,user_profile,header_userpic,create_...</td>\n",
       "      <td>iPhone,-unknown-</td>\n",
       "      <td>250119.0</td>\n",
       "      <td>13164.157895</td>\n",
       "      <td>19.0</td>\n",
       "      <td>1</td>\n",
       "      <td>7</td>\n",
       "      <td>2014</td>\n",
       "    </tr>\n",
       "    <tr>\n",
       "      <th>2</th>\n",
       "      <td>-unknown-</td>\n",
       "      <td>31.0</td>\n",
       "      <td>basic</td>\n",
       "      <td>0</td>\n",
       "      <td>en</td>\n",
       "      <td>direct</td>\n",
       "      <td>direct</td>\n",
       "      <td>linked</td>\n",
       "      <td>Web</td>\n",
       "      <td>Windows Desktop</td>\n",
       "      <td>...</td>\n",
       "      <td>create,personalize,header_userpic,show,index,p...</td>\n",
       "      <td>data,click,-unknown-,view,submit</td>\n",
       "      <td>wishlist_content_update,p1,header_userpic,crea...</td>\n",
       "      <td>Windows Desktop</td>\n",
       "      <td>975575.0</td>\n",
       "      <td>16820.258621</td>\n",
       "      <td>58.0</td>\n",
       "      <td>1</td>\n",
       "      <td>7</td>\n",
       "      <td>2014</td>\n",
       "    </tr>\n",
       "  </tbody>\n",
       "</table>\n",
       "<p>3 rows × 21 columns</p>\n",
       "</div>"
      ],
      "text/plain": [
       "      gender   age signup_method  signup_flow language affiliate_channel  \\\n",
       "0     FEMALE  35.0      facebook            0       en            direct   \n",
       "1  -unknown-  31.0         basic            0       en            direct   \n",
       "2  -unknown-  31.0         basic            0       en            direct   \n",
       "\n",
       "  affiliate_provider first_affiliate_tracked signup_app first_device_type  \\\n",
       "0             direct               untracked      Moweb            iPhone   \n",
       "1             direct               untracked      Moweb            iPhone   \n",
       "2             direct                  linked        Web   Windows Desktop   \n",
       "\n",
       "           ...                                               unique_action  \\\n",
       "0          ...                     search,active,show,authenticate,reviews   \n",
       "1          ...           create,header_userpic,search,active,signup_log...   \n",
       "2          ...           create,personalize,header_userpic,show,index,p...   \n",
       "\n",
       "                 unique_action_type  \\\n",
       "0  data,click,-unknown-,view,submit   \n",
       "1  data,click,-unknown-,view,submit   \n",
       "2  data,click,-unknown-,view,submit   \n",
       "\n",
       "                                unique_action_detail unique_device_type  \\\n",
       "0  p3,-unknown-,login,user_profile,listing_review...   iPhone,-unknown-   \n",
       "1  login_page,user_profile,header_userpic,create_...   iPhone,-unknown-   \n",
       "2  wishlist_content_update,p1,header_userpic,crea...    Windows Desktop   \n",
       "\n",
       "  Total_secs_elapsed  Mean_secs_elapsed  session_count  account_created_day  \\\n",
       "0           119187.0       14898.375000            8.0                    1   \n",
       "1           250119.0       13164.157895           19.0                    1   \n",
       "2           975575.0       16820.258621           58.0                    1   \n",
       "\n",
       "   account_created_month  account_created_year  \n",
       "0                      7                  2014  \n",
       "1                      7                  2014  \n",
       "2                      7                  2014  \n",
       "\n",
       "[3 rows x 21 columns]"
      ]
     },
     "execution_count": 81,
     "metadata": {},
     "output_type": "execute_result"
    }
   ],
   "source": [
    "test_session_df = test_session_df.drop(['id'], axis = 1)\n",
    "test_session_df.head(3)"
   ]
  },
  {
   "cell_type": "markdown",
   "metadata": {},
   "source": [
    "##### Loading the vectorizers :"
   ]
  },
  {
   "cell_type": "code",
   "execution_count": 82,
   "metadata": {},
   "outputs": [],
   "source": [
    "vect_gender = pickle.load(open(r'C:\\Users\\NamrataT\\Desktop\\CS_1\\Dataset\\airbnb-recruiting-new-user-bookings\\final_dataset\\vect_gender.pickle', 'rb'))\n",
    "vect_signup_method = pickle.load(open(r'C:\\Users\\NamrataT\\Desktop\\CS_1\\Dataset\\airbnb-recruiting-new-user-bookings\\final_dataset\\vect_signup_method.pickle', 'rb'))\n",
    "vect_language = pickle.load(open(r'C:\\Users\\NamrataT\\Desktop\\CS_1\\Dataset\\airbnb-recruiting-new-user-bookings\\final_dataset\\vect_language.pickle', 'rb'))\n",
    "\n",
    "vect_affiliate_channel = pickle.load(open(r'C:\\Users\\NamrataT\\Desktop\\CS_1\\Dataset\\airbnb-recruiting-new-user-bookings\\final_dataset\\vect_affiliate_channel.pickle', 'rb'))\n",
    "vect_affiliate_provider = pickle.load(open(r'C:\\Users\\NamrataT\\Desktop\\CS_1\\Dataset\\airbnb-recruiting-new-user-bookings\\final_dataset\\vect_affiliate_provider.pickle', 'rb'))\n",
    "vect_first_affiliate_tracked = pickle.load(open(r'C:\\Users\\NamrataT\\Desktop\\CS_1\\Dataset\\airbnb-recruiting-new-user-bookings\\final_dataset\\vect_first_affiliate_tracked.pickle', 'rb'))\n",
    "\n",
    "vect_signup_app = pickle.load(open(r'C:\\Users\\NamrataT\\Desktop\\CS_1\\Dataset\\airbnb-recruiting-new-user-bookings\\final_dataset\\vect_signup_app.pickle', 'rb'))\n",
    "vect_first_device_type = pickle.load(open(r'C:\\Users\\NamrataT\\Desktop\\CS_1\\Dataset\\airbnb-recruiting-new-user-bookings\\final_dataset\\vect_first_device_type.pickle', 'rb'))\n",
    "vect_first_browser = pickle.load(open(r'C:\\Users\\NamrataT\\Desktop\\CS_1\\Dataset\\airbnb-recruiting-new-user-bookings\\final_dataset\\vect_first_browser.pickle', 'rb'))\n",
    "\n",
    "vect_unique_device_type = pickle.load(open(r'C:\\Users\\NamrataT\\Desktop\\CS_1\\Dataset\\airbnb-recruiting-new-user-bookings\\final_dataset\\vect_unique_device_type.pickle', 'rb'))"
   ]
  },
  {
   "cell_type": "code",
   "execution_count": 83,
   "metadata": {},
   "outputs": [],
   "source": [
    "tfidf_vect_action = pickle.load(open(r'C:\\Users\\NamrataT\\Desktop\\CS_1\\Dataset\\airbnb-recruiting-new-user-bookings\\final_dataset\\tfidf_vect_action.pickle', 'rb'))\n",
    "tfidf_vect_action_type = pickle.load(open(r'C:\\Users\\NamrataT\\Desktop\\CS_1\\Dataset\\airbnb-recruiting-new-user-bookings\\final_dataset\\tfidf_vect_action_type.pickle', 'rb'))\n",
    "tfidf_vect_action_detail = pickle.load(open(r'C:\\Users\\NamrataT\\Desktop\\CS_1\\Dataset\\airbnb-recruiting-new-user-bookings\\final_dataset\\tfidf_vect_action_detail.pickle', 'rb'))"
   ]
  },
  {
   "cell_type": "markdown",
   "metadata": {},
   "source": [
    "#### Transforming all the categorical and text fields :"
   ]
  },
  {
   "cell_type": "markdown",
   "metadata": {},
   "source": [
    "###### 1. Gender"
   ]
  },
  {
   "cell_type": "code",
   "execution_count": 84,
   "metadata": {},
   "outputs": [],
   "source": [
    "test_session_gender_bow = vect_gender.transform(test_session_df['gender'].values)"
   ]
  },
  {
   "cell_type": "code",
   "execution_count": 85,
   "metadata": {},
   "outputs": [
    {
     "data": {
      "text/plain": [
       "(62096, 4)"
      ]
     },
     "execution_count": 85,
     "metadata": {},
     "output_type": "execute_result"
    }
   ],
   "source": [
    "test_session_gender_bow.shape"
   ]
  },
  {
   "cell_type": "markdown",
   "metadata": {},
   "source": [
    "##### 2. signup_method"
   ]
  },
  {
   "cell_type": "code",
   "execution_count": 86,
   "metadata": {},
   "outputs": [
    {
     "name": "stdout",
     "output_type": "stream",
     "text": [
      "Test Signup_method vectorizer shape : (62096, 3)\n"
     ]
    }
   ],
   "source": [
    "test_session_signup_method_bow = vect_signup_method.transform(test_session_df['signup_method'].values)\n",
    "print('Test Signup_method vectorizer shape :',test_session_signup_method_bow.shape)"
   ]
  },
  {
   "cell_type": "markdown",
   "metadata": {},
   "source": [
    "##### 3. Language"
   ]
  },
  {
   "cell_type": "code",
   "execution_count": 87,
   "metadata": {},
   "outputs": [
    {
     "name": "stdout",
     "output_type": "stream",
     "text": [
      "Test Signup_method vectorizer shape : (62096, 24)\n"
     ]
    }
   ],
   "source": [
    "test_session_language_bow = vect_language.transform(test_session_df['language'].values)\n",
    "print('Test Signup_method vectorizer shape :',test_session_language_bow.shape)"
   ]
  },
  {
   "cell_type": "markdown",
   "metadata": {},
   "source": [
    "##### 4. Affiliate_channel"
   ]
  },
  {
   "cell_type": "code",
   "execution_count": 88,
   "metadata": {},
   "outputs": [
    {
     "name": "stdout",
     "output_type": "stream",
     "text": [
      "Test Signup_method vectorizer shape : (62096, 9)\n"
     ]
    }
   ],
   "source": [
    "test_session_affiliate_channel_bow = vect_affiliate_channel.transform(test_session_df['affiliate_channel'].values)\n",
    "print('Test Signup_method vectorizer shape :',test_session_affiliate_channel_bow.shape)"
   ]
  },
  {
   "cell_type": "markdown",
   "metadata": {},
   "source": [
    "##### 5. Affiliate_provider"
   ]
  },
  {
   "cell_type": "code",
   "execution_count": 89,
   "metadata": {},
   "outputs": [
    {
     "name": "stdout",
     "output_type": "stream",
     "text": [
      "Test Affiliate_provider vectorizer shape : (62096, 18)\n"
     ]
    }
   ],
   "source": [
    "test_session_affiliate_provider_bow = vect_affiliate_provider.transform(test_session_df['affiliate_provider'].values)\n",
    "print('Test Affiliate_provider vectorizer shape :',test_session_affiliate_provider_bow.shape)"
   ]
  },
  {
   "cell_type": "markdown",
   "metadata": {},
   "source": [
    "##### 6. First_affiliate_tracked"
   ]
  },
  {
   "cell_type": "code",
   "execution_count": 90,
   "metadata": {},
   "outputs": [
    {
     "name": "stdout",
     "output_type": "stream",
     "text": [
      "Test First_affiliate_tracked vectorizer shape : (62096, 9)\n"
     ]
    }
   ],
   "source": [
    "test_session_first_affiliate_tracked_bow = vect_first_affiliate_tracked.transform(test_session_df['first_affiliate_tracked'].values)\n",
    "print('Test First_affiliate_tracked vectorizer shape :',test_session_first_affiliate_tracked_bow.shape)"
   ]
  },
  {
   "cell_type": "markdown",
   "metadata": {},
   "source": [
    "##### 7. Signup_app"
   ]
  },
  {
   "cell_type": "code",
   "execution_count": 91,
   "metadata": {},
   "outputs": [
    {
     "name": "stdout",
     "output_type": "stream",
     "text": [
      "Test Signup_app vectorizer shape : (62096, 4)\n"
     ]
    }
   ],
   "source": [
    "test_session_signup_app_bow = vect_signup_app.transform(test_session_df['signup_app'].values)\n",
    "print('Test Signup_app vectorizer shape :',test_session_signup_app_bow.shape)"
   ]
  },
  {
   "cell_type": "markdown",
   "metadata": {},
   "source": [
    "##### 8. First_device_type"
   ]
  },
  {
   "cell_type": "code",
   "execution_count": 92,
   "metadata": {},
   "outputs": [
    {
     "name": "stdout",
     "output_type": "stream",
     "text": [
      "Test First_device_type vectorizer shape : (62096, 11)\n"
     ]
    }
   ],
   "source": [
    "test_session_first_device_type_bow = vect_first_device_type.transform(test_session_df['first_device_type'].values)\n",
    "print('Test First_device_type vectorizer shape :',test_session_first_device_type_bow.shape)"
   ]
  },
  {
   "cell_type": "markdown",
   "metadata": {},
   "source": [
    "##### 9. First_browser"
   ]
  },
  {
   "cell_type": "code",
   "execution_count": 93,
   "metadata": {},
   "outputs": [
    {
     "name": "stdout",
     "output_type": "stream",
     "text": [
      "Test First_browser vectorizer shape : (62096, 34)\n"
     ]
    }
   ],
   "source": [
    "test_session_first_browser_bow = vect_first_browser.transform(test_session_df['first_browser'].values)\n",
    "print('Test First_browser vectorizer shape :',test_session_first_browser_bow.shape)"
   ]
  },
  {
   "cell_type": "markdown",
   "metadata": {},
   "source": [
    "##### 10. Unique_device_type"
   ]
  },
  {
   "cell_type": "code",
   "execution_count": 94,
   "metadata": {},
   "outputs": [
    {
     "name": "stdout",
     "output_type": "stream",
     "text": [
      "Test Unique_device_type vectorizer shape : (62096, 15)\n"
     ]
    }
   ],
   "source": [
    "test_session_unique_device_type_bow = vect_unique_device_type.transform(test_session_df['unique_device_type'].values)\n",
    "print('Test Unique_device_type vectorizer shape :',test_session_unique_device_type_bow.shape)"
   ]
  },
  {
   "cell_type": "markdown",
   "metadata": {},
   "source": [
    "##### 11. Unique_action"
   ]
  },
  {
   "cell_type": "code",
   "execution_count": 95,
   "metadata": {},
   "outputs": [
    {
     "data": {
      "text/plain": [
       "(62096, 250)"
      ]
     },
     "execution_count": 95,
     "metadata": {},
     "output_type": "execute_result"
    }
   ],
   "source": [
    "test_session_action_tfidf = tfidf_vect_action.transform(test_session_df['unique_action'].values)\n",
    "test_session_action_tfidf.shape"
   ]
  },
  {
   "cell_type": "markdown",
   "metadata": {},
   "source": [
    "##### 12. Unique_action_type"
   ]
  },
  {
   "cell_type": "code",
   "execution_count": 96,
   "metadata": {},
   "outputs": [
    {
     "data": {
      "text/plain": [
       "(62096, 148)"
      ]
     },
     "execution_count": 96,
     "metadata": {},
     "output_type": "execute_result"
    }
   ],
   "source": [
    "test_session_action_type_tfidf = tfidf_vect_action_type.transform(test_session_df['unique_action_type'].values)\n",
    "test_session_action_type_tfidf.shape"
   ]
  },
  {
   "cell_type": "markdown",
   "metadata": {},
   "source": [
    "##### 13. Unique_action_detail"
   ]
  },
  {
   "cell_type": "code",
   "execution_count": 97,
   "metadata": {},
   "outputs": [
    {
     "data": {
      "text/plain": [
       "(62096, 121)"
      ]
     },
     "execution_count": 97,
     "metadata": {},
     "output_type": "execute_result"
    }
   ],
   "source": [
    "test_session_action_detail_tfidf = tfidf_vect_action_detail.transform(test_session_df['unique_action_detail'].values)\n",
    "test_session_action_detail_tfidf.shape"
   ]
  },
  {
   "cell_type": "code",
   "execution_count": 98,
   "metadata": {},
   "outputs": [
    {
     "data": {
      "text/html": [
       "<div>\n",
       "<style scoped>\n",
       "    .dataframe tbody tr th:only-of-type {\n",
       "        vertical-align: middle;\n",
       "    }\n",
       "\n",
       "    .dataframe tbody tr th {\n",
       "        vertical-align: top;\n",
       "    }\n",
       "\n",
       "    .dataframe thead th {\n",
       "        text-align: right;\n",
       "    }\n",
       "</style>\n",
       "<table border=\"1\" class=\"dataframe\">\n",
       "  <thead>\n",
       "    <tr style=\"text-align: right;\">\n",
       "      <th></th>\n",
       "      <th>gender</th>\n",
       "      <th>age</th>\n",
       "      <th>signup_method</th>\n",
       "      <th>signup_flow</th>\n",
       "      <th>language</th>\n",
       "      <th>affiliate_channel</th>\n",
       "      <th>affiliate_provider</th>\n",
       "      <th>first_affiliate_tracked</th>\n",
       "      <th>signup_app</th>\n",
       "      <th>first_device_type</th>\n",
       "      <th>...</th>\n",
       "      <th>unique_action</th>\n",
       "      <th>unique_action_type</th>\n",
       "      <th>unique_action_detail</th>\n",
       "      <th>unique_device_type</th>\n",
       "      <th>Total_secs_elapsed</th>\n",
       "      <th>Mean_secs_elapsed</th>\n",
       "      <th>session_count</th>\n",
       "      <th>account_created_day</th>\n",
       "      <th>account_created_month</th>\n",
       "      <th>account_created_year</th>\n",
       "    </tr>\n",
       "  </thead>\n",
       "  <tbody>\n",
       "    <tr>\n",
       "      <th>0</th>\n",
       "      <td>FEMALE</td>\n",
       "      <td>35.0</td>\n",
       "      <td>facebook</td>\n",
       "      <td>0</td>\n",
       "      <td>en</td>\n",
       "      <td>direct</td>\n",
       "      <td>direct</td>\n",
       "      <td>untracked</td>\n",
       "      <td>Moweb</td>\n",
       "      <td>iPhone</td>\n",
       "      <td>...</td>\n",
       "      <td>search,active,show,authenticate,reviews</td>\n",
       "      <td>data,click,-unknown-,view,submit</td>\n",
       "      <td>p3,-unknown-,login,user_profile,listing_review...</td>\n",
       "      <td>iPhone,-unknown-</td>\n",
       "      <td>119187.0</td>\n",
       "      <td>14898.375000</td>\n",
       "      <td>8.0</td>\n",
       "      <td>1</td>\n",
       "      <td>7</td>\n",
       "      <td>2014</td>\n",
       "    </tr>\n",
       "    <tr>\n",
       "      <th>1</th>\n",
       "      <td>-unknown-</td>\n",
       "      <td>31.0</td>\n",
       "      <td>basic</td>\n",
       "      <td>0</td>\n",
       "      <td>en</td>\n",
       "      <td>direct</td>\n",
       "      <td>direct</td>\n",
       "      <td>untracked</td>\n",
       "      <td>Moweb</td>\n",
       "      <td>iPhone</td>\n",
       "      <td>...</td>\n",
       "      <td>create,header_userpic,search,active,signup_log...</td>\n",
       "      <td>data,click,-unknown-,view,submit</td>\n",
       "      <td>login_page,user_profile,header_userpic,create_...</td>\n",
       "      <td>iPhone,-unknown-</td>\n",
       "      <td>250119.0</td>\n",
       "      <td>13164.157895</td>\n",
       "      <td>19.0</td>\n",
       "      <td>1</td>\n",
       "      <td>7</td>\n",
       "      <td>2014</td>\n",
       "    </tr>\n",
       "  </tbody>\n",
       "</table>\n",
       "<p>2 rows × 21 columns</p>\n",
       "</div>"
      ],
      "text/plain": [
       "      gender   age signup_method  signup_flow language affiliate_channel  \\\n",
       "0     FEMALE  35.0      facebook            0       en            direct   \n",
       "1  -unknown-  31.0         basic            0       en            direct   \n",
       "\n",
       "  affiliate_provider first_affiliate_tracked signup_app first_device_type  \\\n",
       "0             direct               untracked      Moweb            iPhone   \n",
       "1             direct               untracked      Moweb            iPhone   \n",
       "\n",
       "           ...                                               unique_action  \\\n",
       "0          ...                     search,active,show,authenticate,reviews   \n",
       "1          ...           create,header_userpic,search,active,signup_log...   \n",
       "\n",
       "                 unique_action_type  \\\n",
       "0  data,click,-unknown-,view,submit   \n",
       "1  data,click,-unknown-,view,submit   \n",
       "\n",
       "                                unique_action_detail unique_device_type  \\\n",
       "0  p3,-unknown-,login,user_profile,listing_review...   iPhone,-unknown-   \n",
       "1  login_page,user_profile,header_userpic,create_...   iPhone,-unknown-   \n",
       "\n",
       "  Total_secs_elapsed  Mean_secs_elapsed  session_count  account_created_day  \\\n",
       "0           119187.0       14898.375000            8.0                    1   \n",
       "1           250119.0       13164.157895           19.0                    1   \n",
       "\n",
       "   account_created_month  account_created_year  \n",
       "0                      7                  2014  \n",
       "1                      7                  2014  \n",
       "\n",
       "[2 rows x 21 columns]"
      ]
     },
     "execution_count": 98,
     "metadata": {},
     "output_type": "execute_result"
    }
   ],
   "source": [
    "test_session_df.head(2)"
   ]
  },
  {
   "cell_type": "code",
   "execution_count": 99,
   "metadata": {},
   "outputs": [
    {
     "data": {
      "text/plain": [
       "Index(['gender', 'age', 'signup_method', 'signup_flow', 'language',\n",
       "       'affiliate_channel', 'affiliate_provider', 'first_affiliate_tracked',\n",
       "       'signup_app', 'first_device_type', 'first_browser', 'unique_action',\n",
       "       'unique_action_type', 'unique_action_detail', 'unique_device_type',\n",
       "       'Total_secs_elapsed', 'Mean_secs_elapsed', 'session_count',\n",
       "       'account_created_day', 'account_created_month', 'account_created_year'],\n",
       "      dtype='object')"
      ]
     },
     "execution_count": 99,
     "metadata": {},
     "output_type": "execute_result"
    }
   ],
   "source": [
    "test_session_df.columns"
   ]
  },
  {
   "cell_type": "markdown",
   "metadata": {},
   "source": [
    "Dropping all the original columns for which transformation is done."
   ]
  },
  {
   "cell_type": "code",
   "execution_count": 100,
   "metadata": {},
   "outputs": [
    {
     "data": {
      "text/plain": [
       "(62096, 8)"
      ]
     },
     "execution_count": 100,
     "metadata": {},
     "output_type": "execute_result"
    }
   ],
   "source": [
    "X_Test_vec = test_session_df.drop(['gender', 'signup_method', 'language', 'affiliate_channel','affiliate_provider', 'first_affiliate_tracked', 'signup_app', 'first_device_type', 'first_browser','unique_action','unique_action_type','unique_action_detail','unique_device_type'],axis=1)\n",
    "X_Test_vec.shape"
   ]
  },
  {
   "cell_type": "code",
   "execution_count": 101,
   "metadata": {},
   "outputs": [
    {
     "data": {
      "text/plain": [
       "Index(['age', 'signup_flow', 'Total_secs_elapsed', 'Mean_secs_elapsed',\n",
       "       'session_count', 'account_created_day', 'account_created_month',\n",
       "       'account_created_year'],\n",
       "      dtype='object')"
      ]
     },
     "execution_count": 101,
     "metadata": {},
     "output_type": "execute_result"
    }
   ],
   "source": [
    "X_Test_vec.columns"
   ]
  },
  {
   "cell_type": "markdown",
   "metadata": {},
   "source": [
    "##### Creating the final Test Data :"
   ]
  },
  {
   "cell_type": "code",
   "execution_count": 102,
   "metadata": {},
   "outputs": [
    {
     "data": {
      "text/plain": [
       "(62096, 658)"
      ]
     },
     "execution_count": 102,
     "metadata": {},
     "output_type": "execute_result"
    }
   ],
   "source": [
    "X_Test_vec = sparse.hstack((X_Test_vec,test_session_gender_bow,test_session_signup_method_bow,test_session_language_bow,test_session_affiliate_channel_bow,test_session_affiliate_provider_bow,test_session_first_affiliate_tracked_bow,test_session_signup_app_bow,test_session_first_device_type_bow,test_session_first_browser_bow,test_session_unique_device_type_bow,test_session_action_tfidf,test_session_action_type_tfidf,test_session_action_detail_tfidf)).tocsr()\n",
    "X_Test_vec.shape"
   ]
  },
  {
   "cell_type": "markdown",
   "metadata": {},
   "source": [
    "##### Saving the test data :"
   ]
  },
  {
   "cell_type": "code",
   "execution_count": 103,
   "metadata": {},
   "outputs": [],
   "source": [
    "#https://stackoverflow.com/questions/8955448/save-load-scipy-sparse-csr-matrix-in-portable-data-format\n",
    "from scipy import sparse\n",
    "\n",
    "sparse.save_npz(r'C:\\Users\\NamrataT\\Desktop\\CS_1\\Dataset\\airbnb-recruiting-new-user-bookings\\final_dataset\\X_Test_vec.npz', X_Test_vec)"
   ]
  },
  {
   "cell_type": "code",
   "execution_count": 104,
   "metadata": {},
   "outputs": [],
   "source": [
    "X_Test_vec = sparse.load_npz(r'C:\\Users\\NamrataT\\Desktop\\CS_1\\Dataset\\airbnb-recruiting-new-user-bookings\\final_dataset\\X_Test_vec.npz')"
   ]
  },
  {
   "cell_type": "code",
   "execution_count": 105,
   "metadata": {},
   "outputs": [
    {
     "name": "stdout",
     "output_type": "stream",
     "text": [
      "Final Preprocessed and Vectorized Dataset :\n",
      "Test Dataset :  (62096, 658)\n"
     ]
    }
   ],
   "source": [
    "print(\"Final Preprocessed and Vectorized Dataset :\")\n",
    "print('Test Dataset : ',X_Test_vec.shape)"
   ]
  },
  {
   "cell_type": "markdown",
   "metadata": {},
   "source": [
    "### SUMMARY :"
   ]
  },
  {
   "cell_type": "markdown",
   "metadata": {},
   "source": [
    "In this notebook, we have loaded the test file and the proccessed sessions data. Then we merged the sessions data with the test data in such a way so as to keep all the test records both with and without session information.\n",
    "Once the merged test file is created we load all the vectorizers and then transform the columns. Finally the vectorized test file is saved for modelling."
   ]
  }
 ],
 "metadata": {
  "kernelspec": {
   "display_name": "Python 3",
   "language": "python",
   "name": "python3"
  },
  "language_info": {
   "codemirror_mode": {
    "name": "ipython",
    "version": 3
   },
   "file_extension": ".py",
   "mimetype": "text/x-python",
   "name": "python",
   "nbconvert_exporter": "python",
   "pygments_lexer": "ipython3",
   "version": "3.6.5"
  }
 },
 "nbformat": 4,
 "nbformat_minor": 2
}
